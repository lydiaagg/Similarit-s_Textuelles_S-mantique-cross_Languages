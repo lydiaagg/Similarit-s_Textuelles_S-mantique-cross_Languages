{
  "nbformat": 4,
  "nbformat_minor": 0,
  "metadata": {
    "colab": {
      "name": "Recurrent_Neural_Networks_(LSTM).ipynb",
      "provenance": [],
      "collapsed_sections": []
    },
    "kernelspec": {
      "display_name": "Python 3",
      "name": "python3"
    },
    "language_info": {
      "name": "python"
    },
    "accelerator": "GPU"
  },
  "cells": [
    {
      "cell_type": "code",
      "metadata": {
        "id": "xyCAqBpNCnPq"
      },
      "source": [
        "%%capture\n",
        "# Install the latest Tensorflow version.\n",
        "!pip install tensorflow_text\n",
        "!pip install bokeh\n",
        "!pip install simpleneighbors[annoy]\n",
        "!pip install tqdm\n",
        "!pip install unidecode"
      ],
      "execution_count": null,
      "outputs": []
    },
    {
      "cell_type": "code",
      "metadata": {
        "id": "8JlNt2Iu72or"
      },
      "source": [
        "import os,re,collections\n",
        "import numpy as np\n",
        "\n",
        "import keras\n",
        "from keras.preprocessing.text import Tokenizer\n",
        "from keras.preprocessing.sequence import pad_sequences\n",
        "from keras.models import Model, Sequential\n",
        "from keras.layers import GRU,LSTM, Input, Dense, TimeDistributed, Activation, RepeatVector, Bidirectional, Dropout, LSTM\n",
        "from keras.layers.embeddings import Embedding\n",
        "from keras.optimizers import Adam\n",
        "from keras.losses import sparse_categorical_crossentropy\n",
        "import tensorflow.compat.v2 as tf\n",
        "import pickle"
      ],
      "execution_count": null,
      "outputs": []
    },
    {
      "cell_type": "code",
      "metadata": {
        "colab": {
          "base_uri": "https://localhost:8080/"
        },
        "id": "_T82KUFf0s2u",
        "outputId": "381e9907-5d05-4fe2-dea3-4618eb3eb955"
      },
      "source": [
        "from google.colab import drive\n",
        "drive.mount('/content/drive')"
      ],
      "execution_count": null,
      "outputs": [
        {
          "output_type": "stream",
          "text": [
            "Mounted at /content/drive\n"
          ],
          "name": "stdout"
        }
      ]
    },
    {
      "cell_type": "markdown",
      "metadata": {
        "id": "_vt2rQCOPz74"
      },
      "source": [
        "## ***Etape 1 : Chargement de données*** \n",
        " Nous allons extraire les données qui se trouvent dans le zip dans le drive ainsi pouvoirs les exploité facilement puis nous allons organiser les fichier de sort a ce que chaque phrase aille sa traduction dans le fichier correspondant,les phrase qui seront extraitent du fichier vont étre prétraiter "
      ]
    },
    {
      "cell_type": "code",
      "metadata": {
        "id": "O1P-FGLG7eyj"
      },
      "source": [
        "import zipfile\n",
        "\n",
        "#nous allons extraire nos données qui se trouvent dans un fichier zip dans notre drive \n",
        "zip_ref = zipfile.ZipFile(\"/content/drive/MyDrive/rebuilt.Cross-Language-Dataset-master.zip\", 'r')\n",
        "zip_ref.extractall(\"/tmp\")\n",
        "zip_ref.close()"
      ],
      "execution_count": null,
      "outputs": []
    },
    {
      "cell_type": "code",
      "metadata": {
        "id": "NohB7jO3jL0w"
      },
      "source": [
        "#nous allons experimenter une partie de nos donnée dans cette partie on commence par le corpus APR \n",
        "English_Dataset = tf.data.Dataset.list_files(\"/tmp/Cross-Language-Dataset-master/dataset/chunks/APR/en/*.txt\")\n",
        "Frensh_Dataset = tf.data.Dataset.list_files(\"/tmp/Cross-Language-Dataset-master/dataset/chunks/APR/fr/*.txt\")\n"
      ],
      "execution_count": null,
      "outputs": []
    },
    {
      "cell_type": "code",
      "metadata": {
        "id": "xH58fu-j_in7"
      },
      "source": [
        "#nous allons organiser nos fichier text de sort a ce que les fichier en francais aille leur traduction anglaise\n",
        "English_DatasetFiles=list(English_Dataset.as_numpy_iterator())\n",
        "English_DatasetFiles.sort()\n",
        "Frensh_DatasetFiles=list(Frensh_Dataset .as_numpy_iterator())\n",
        "Frensh_DatasetFiles.sort()"
      ],
      "execution_count": null,
      "outputs": []
    },
    {
      "cell_type": "code",
      "metadata": {
        "id": "AtJR_FFUUQ0d"
      },
      "source": [
        "#cette fonction permet d'extraire extrait les donnees des fichier\n",
        "def load_data(Files):\n",
        "  sentences=[]\n",
        "  for file_content in Files: \n",
        "    with open(file_content, \"r\") as f:\n",
        "      data = f.read()\n",
        "      sentences.append(data)\n",
        "  return sentences\n",
        "\n",
        "english_sentences=load_data(English_DatasetFiles)\n",
        "french_sentences=load_data(Frensh_DatasetFiles)\n"
      ],
      "execution_count": null,
      "outputs": []
    },
    {
      "cell_type": "code",
      "metadata": {
        "colab": {
          "base_uri": "https://localhost:8080/"
        },
        "id": "ITcf0jAdfy6u",
        "outputId": "5df8e07f-b696-4b1e-b000-ab49e61ee31d"
      },
      "source": [
        "for i in range(5):\n",
        "  print('Sample :',i)\n",
        "  print(english_sentences[i])\n",
        "  print(french_sentences[i])\n",
        "  print('-'*50)"
      ],
      "execution_count": null,
      "outputs": [
        {
          "output_type": "stream",
          "text": [
            "Sample : 0\n",
            "the association gregory lemarchal\n",
            "\n",
            "l' association gregory lemarchal\n",
            "\n",
            "--------------------------------------------------\n",
            "Sample : 1\n",
            "after the dresden file\n",
            "\n",
            "après les dossier dresden\n",
            "\n",
            "--------------------------------------------------\n",
            "Sample : 2\n",
            "the tradition of lanfeust troy\n",
            "invention of reverse auctions\n",
            "\n",
            "la tradition lanfeust de troy\n",
            "invention des ventes aux enchères\n",
            "\n",
            "--------------------------------------------------\n",
            "Sample : 3\n",
            "the manner of dos passos\n",
            "\n",
            "la manière de dos passos\n",
            "\n",
            "--------------------------------------------------\n",
            "Sample : 4\n",
            "trace of fat in this book\n",
            "\n",
            "trace de gras dans le livre\n",
            "\n",
            "--------------------------------------------------\n"
          ],
          "name": "stdout"
        }
      ]
    },
    {
      "cell_type": "markdown",
      "metadata": {
        "id": "vcTWq6nvOmDQ"
      },
      "source": [
        "# ***Etape 2 : Stopwords***\n",
        "première manipulation souvent effectuée dans le traitement du texte est la suppression de ce qu'on appelle en anglais les stopwords. Ce sont les mots très courants dans la langue étudiée (\"et\", \"à\", \"le\"... en français) qui n'apportent pas de valeur informative pour la compréhension du \"sens\" d'un document et corpus. Il sont très fréquents et ralentissent notre travail : nous souhaitons donc les supprimer.\n",
        "\n",
        "Il existe dans la librairie NLTK une liste par défaut des stopwords dans plusieurs Langues"
      ]
    },
    {
      "cell_type": "code",
      "metadata": {
        "colab": {
          "base_uri": "https://localhost:8080/"
        },
        "id": "e0hrikyVlnAw",
        "outputId": "3f90c6e3-bdc0-472e-f18e-1af789b45aca"
      },
      "source": [
        "\n",
        "import nltk\n",
        "nltk.download('stopwords')\n",
        "from nltk.corpus import stopwords\n",
        "#pour supprimer les stopword de chaque langue\n",
        "def remove_stopwords(text,langue):\n",
        "    STOPWORDS = set(stopwords.words(langue))\n",
        "    \"\"\"custom function to remove the stopwords\"\"\"\n",
        "    return \" \".join([word for word in str(text).split() if word not in STOPWORDS])\n",
        "#supprimer les stopword dans une liste de phrase\n",
        "def remove(sentences,langue):\n",
        "    values=[]\n",
        "    for text in sentences:\n",
        "       values.append(remove_stopwords(text,langue))\n",
        "    return values\n"
      ],
      "execution_count": null,
      "outputs": [
        {
          "output_type": "stream",
          "text": [
            "[nltk_data] Downloading package stopwords to /root/nltk_data...\n",
            "[nltk_data]   Unzipping corpora/stopwords.zip.\n"
          ],
          "name": "stdout"
        }
      ]
    },
    {
      "cell_type": "code",
      "metadata": {
        "id": "6FFU2kwwlp3r"
      },
      "source": [
        "\n",
        "english_sentences=remove(english_sentences,'english')\n",
        "french_sentences=remove(french_sentences,'french')"
      ],
      "execution_count": null,
      "outputs": []
    },
    {
      "cell_type": "code",
      "metadata": {
        "id": "gth9wlQr9j3f",
        "colab": {
          "base_uri": "https://localhost:8080/"
        },
        "outputId": "5311ba1f-f5ee-478d-dca5-2ab04c89358a"
      },
      "source": [
        "english_words_counter = collections.Counter([word for sentence in english_sentences for word in sentence.split()])\n",
        "french_words_counter = collections.Counter([word for sentence in french_sentences for word in sentence.split()])\n",
        "\n",
        "print('English Vocab:',len(english_words_counter))\n",
        "print('French Vocab:',len(french_words_counter))\n"
      ],
      "execution_count": null,
      "outputs": [
        {
          "output_type": "stream",
          "text": [
            "English Vocab: 3981\n",
            "French Vocab: 4271\n"
          ],
          "name": "stdout"
        }
      ]
    },
    {
      "cell_type": "markdown",
      "metadata": {
        "id": "tGEo2THGR3hr"
      },
      "source": [
        "# ***Etape 3 :le Stemming*** \n",
        "racinisation(ou stemming en anglais). Cela consiste à ne conserver que la racine des mots étudiés. L'idée étant de supprimer les suffixes, préfixes et autres des mots afin de ne conserver que leur origine. C'est un procédé plus simple que la lemmatisation et plus rapide à effectuer puisqu'on tronque les mots essentiellement contrairement à la lemmatisation qui nécessite d'utiliser un dictionnaire.Dans notre cas, on va effectuer une racinisation parce qu'il n'existe pas de fonction de lemmatisation de corpus français dans NLTK"
      ]
    },
    {
      "cell_type": "code",
      "metadata": {
        "id": "y3gDnA9XoD2Q"
      },
      "source": [
        "from nltk.stem.porter import PorterStemmer\n",
        "from nltk.stem.snowball import SnowballStemmer\n",
        "\n",
        "def stem_words_langue(text,langue):\n",
        "    stemmer2=SnowballStemmer(langue)\n",
        "    return \" \".join([stemmer2.stem(word) for word in text.split()])\n",
        "\n",
        "def stemming_langue(sentences,langue):\n",
        "  values=[]\n",
        "  for text in sentences:\n",
        "    values.append(stem_words_langue(text,langue))\n",
        "  return values\n",
        " "
      ],
      "execution_count": null,
      "outputs": []
    },
    {
      "cell_type": "code",
      "metadata": {
        "id": "9Zds9TdSQEnn"
      },
      "source": [
        "\n",
        "english_sentences=stemming_langue(english_sentences,'english')\n",
        "french_sentences=stemming_langue(french_sentences,'french')"
      ],
      "execution_count": null,
      "outputs": []
    },
    {
      "cell_type": "markdown",
      "metadata": {
        "id": "gfDrPIYqTiPv"
      },
      "source": [
        "## ***Etape 4 : la tokenisation***\n",
        "La tokenisation est la division du texte brut en petits morceaux de mots ou de phrases, appelés jetons.Chaque phrase prend son sens par les mots qu'elle contient. Ainsi, en analysant les mots présents dans le texte, nous pouvons facilement interpréter le sens du texte. Une fois que nous avons une liste de mots, nous pouvons également utiliser des outils et des méthodes statistiques pour mieux comprendre le texte. Par exemple, nous pouvons utiliser le nombre de mots et la fréquence des mots pour découvrir l'importance d'un mot dans cette phrase ou ce document."
      ]
    },
    {
      "cell_type": "code",
      "metadata": {
        "id": "ZP0AOadJ9lCz"
      },
      "source": [
        "def tokenize(x):\n",
        "  tokenizer = Tokenizer()\n",
        "  tokenizer.fit_on_texts(x)\n",
        "  return tokenizer.texts_to_sequences(x), tokenizer"
      ],
      "execution_count": null,
      "outputs": []
    },
    {
      "cell_type": "code",
      "metadata": {
        "id": "vL_rK09M9vJf"
      },
      "source": [
        "def pad(x, length=None):\n",
        "  return pad_sequences(x, maxlen=length, padding='post')"
      ],
      "execution_count": null,
      "outputs": []
    },
    {
      "cell_type": "code",
      "metadata": {
        "id": "R7_d5he_9ywE"
      },
      "source": [
        "def preprocess(x, y):\n",
        "    \"\"\"\n",
        "      Prétraiter x et y\n",
        "    : param x: Feature Liste des phrases\n",
        "    : param y: Label Liste des phrases\n",
        "    : return: Tuple de (pré-traité x, pré-traité y, x tokenizer, y tokenizer)\n",
        "    \"\"\"\n",
        "    preprocess_x, x_tk = tokenize(x)\n",
        "    preprocess_y, y_tk = tokenize(y)\n",
        "\n",
        "    preprocess_x = pad(preprocess_x)\n",
        "    preprocess_y = pad(preprocess_y)\n",
        "\n",
        "    # La fonction sparse_categorical_crossentropy de Keras nécessite que les étiquettes soient en 3 dimensions\n",
        "    # Extension des dimensions\n",
        "    \n",
        "    preprocess_y = preprocess_y.reshape(*preprocess_y.shape, 1)\n",
        "\n",
        "    return preprocess_x, preprocess_y, x_tk, y_tk"
      ],
      "execution_count": null,
      "outputs": []
    },
    {
      "cell_type": "code",
      "metadata": {
        "id": "4yDJo4gD96lH"
      },
      "source": [
        "preproc_english_sentences, preproc_french_sentences, english_tokenizer, french_tokenizer =\\\n",
        "    preprocess(english_sentences, french_sentences)"
      ],
      "execution_count": null,
      "outputs": []
    },
    {
      "cell_type": "code",
      "metadata": {
        "colab": {
          "base_uri": "https://localhost:8080/"
        },
        "id": "lk2KBv49JRa0",
        "outputId": "1df61762-7384-4372-ba00-ec9aab0e2d5c"
      },
      "source": [
        "max_english_sequence_length = preproc_english_sentences.shape[1]\n",
        "max_french_sequence_length = preproc_french_sentences.shape[1]\n",
        "english_vocab_size = len(english_tokenizer.word_index)\n",
        "french_vocab_size = len(french_tokenizer.word_index)\n",
        "\n",
        "print('Data Preprocessed')\n",
        "print(\"Max English sentence length:\", max_english_sequence_length)\n",
        "print(\"Max French sentence length:\", max_french_sequence_length)\n",
        "print(\"English vocabulary size:\", english_vocab_size)\n",
        "print(\"French vocabulary size:\", french_vocab_size)"
      ],
      "execution_count": null,
      "outputs": [
        {
          "output_type": "stream",
          "text": [
            "Data Preprocessed\n",
            "Max English sentence length: 31\n",
            "Max French sentence length: 34\n",
            "English vocabulary size: 3616\n",
            "French vocabulary size: 3766\n"
          ],
          "name": "stdout"
        }
      ]
    },
    {
      "cell_type": "code",
      "metadata": {
        "id": "Kxd8wRHV-OlA"
      },
      "source": [
        "def logits_to_text(logits, tokenizer):\n",
        "  index_to_words = {id: word for word, id in tokenizer.word_index.items()}\n",
        "  index_to_words[0] = '<PAD>'\n",
        "\n",
        "   # Nous prédisons la sortie pour un mot donné, puis sélectionnons la meilleure réponse\n",
        "   # En sélectionnant cette étiquette, nous énumérons le mot à partir de l'identifiant\n",
        "    \n",
        "  return ' '.join([index_to_words[prediction] for prediction in np.argmax(logits, 1)])"
      ],
      "execution_count": null,
      "outputs": []
    },
    {
      "cell_type": "code",
      "metadata": {
        "id": "pkGroinK-g_9"
      },
      "source": [
        "# Le reshaping l'entrée pour travailler avec un RNN de base\n",
        "\n",
        "tmp_x = pad(preproc_english_sentences, preproc_french_sentences.shape[1])\n",
        "tmp_x = tmp_x.reshape((-1, preproc_french_sentences.shape[-2]))"
      ],
      "execution_count": null,
      "outputs": []
    },
    {
      "cell_type": "markdown",
      "metadata": {
        "id": "qzq41ASNU-pX"
      },
      "source": [
        "# ***Etape 5 les Word embedding*** \n",
        "Nous allons utilisée un prétrained model Glove word embedding "
      ]
    },
    {
      "cell_type": "code",
      "metadata": {
        "colab": {
          "base_uri": "https://localhost:8080/"
        },
        "id": "BCwMiNIc56t4",
        "outputId": "9820dc5e-53be-43c4-f2b0-6a05e10dd931"
      },
      "source": [
        "glove_dir = '/content/drive/MyDrive/glove/'\n",
        "\n",
        "embeddings_index = {}\n",
        "f = open(os.path.join(glove_dir, 'glove.6B.100d.txt'))\n",
        "for line in f:\n",
        "    values = line.split()\n",
        "    word = values[0]\n",
        "    coefs = np.asarray(values[1:], dtype='float32')\n",
        "    embeddings_index[word] = coefs\n",
        "f.close()\n",
        "\n",
        "print('Found %s word vectors.' % len(embeddings_index))"
      ],
      "execution_count": null,
      "outputs": [
        {
          "output_type": "stream",
          "text": [
            "Found 400000 word vectors.\n"
          ],
          "name": "stdout"
        }
      ]
    },
    {
      "cell_type": "code",
      "metadata": {
        "id": "ByXen8xW59C4"
      },
      "source": [
        "embedding_dim = 100\n",
        "max_words = english_vocab_size+1\n",
        "embedding_matrix = np.zeros((max_words, embedding_dim))\n",
        "for word, i in english_tokenizer.word_index.items():\n",
        "    embedding_vector = embeddings_index.get(word)\n",
        "    if i < max_words:\n",
        "        if embedding_vector is not None:\n",
        "            # Words not found in embedding index will be all-zeros.\n",
        "            embedding_matrix[i] = embedding_vector\n"
      ],
      "execution_count": null,
      "outputs": []
    },
    {
      "cell_type": "code",
      "metadata": {
        "id": "r5qUAc6N-WKW"
      },
      "source": [
        "def embed_model(input_shape, output_sequence_length, english_vocab_size, french_vocab_size):\n",
        "    \"\"\"\n",
        "     Créer et entraîner un modèle RNN à l'aide de l'incorporation de mots sur x et y\n",
        "     \n",
        "     : param input_shape: Tuple de la forme d'entrée\n",
        "     : param output_sequence_length: Longueur de la séquence de sortie\n",
        "     : param english_vocab_size: Nombre de mots anglais uniques dans le jeu de données\n",
        "     : param french_vocab_size: Nombre de mots français uniques dans le jeu de données\n",
        "     : return: modèle Keras construit, mais pas entraîné\n",
        "     \"\"\"\n",
        "    # Hyperparamètres\n",
        "    learning_rate = 0.005\n",
        "    \n",
        "    # Couches\n",
        "    model = Sequential()\n",
        "    model.add(Embedding(english_vocab_size, 100, weights=[embedding_matrix],input_length=input_shape[1],input_shape=input_shape[1:]))\n",
        "    model.add(LSTM(256, return_sequences=True))    \n",
        "    model.add(TimeDistributed(Dense(1024, activation='relu')))\n",
        "    model.add(Dropout(0.5))\n",
        "    model.add(TimeDistributed(Dense(french_vocab_size, activation='softmax'))) \n",
        "     # Compilation du modèle\n",
        "    model.compile(loss=sparse_categorical_crossentropy,\n",
        "                  optimizer='Adam',\n",
        "                  metrics=['accuracy'])\n",
        "    return model"
      ],
      "execution_count": null,
      "outputs": []
    },
    {
      "cell_type": "code",
      "metadata": {
        "id": "-forzESg-j94"
      },
      "source": [
        "simple_rnn_model = embed_model(\n",
        "    tmp_x.shape,\n",
        "    preproc_french_sentences.shape[1],\n",
        "    len(english_tokenizer.word_index)+1,\n",
        "    len(french_tokenizer.word_index)+1)"
      ],
      "execution_count": null,
      "outputs": []
    },
    {
      "cell_type": "code",
      "metadata": {
        "colab": {
          "base_uri": "https://localhost:8080/"
        },
        "id": "y9KkmafL-rjI",
        "outputId": "46956ac9-a79d-437f-d213-0afa2b99946a"
      },
      "source": [
        "simple_rnn_model.summary()"
      ],
      "execution_count": null,
      "outputs": [
        {
          "output_type": "stream",
          "text": [
            "Model: \"sequential_3\"\n",
            "_________________________________________________________________\n",
            "Layer (type)                 Output Shape              Param #   \n",
            "=================================================================\n",
            "embedding_3 (Embedding)      (None, 844, 100)          517800    \n",
            "_________________________________________________________________\n",
            "lstm_3 (LSTM)                (None, 844, 256)          365568    \n",
            "_________________________________________________________________\n",
            "time_distributed_6 (TimeDist (None, 844, 1024)         263168    \n",
            "_________________________________________________________________\n",
            "dropout_3 (Dropout)          (None, 844, 1024)         0         \n",
            "_________________________________________________________________\n",
            "time_distributed_7 (TimeDist (None, 844, 4944)         5067600   \n",
            "=================================================================\n",
            "Total params: 6,214,136\n",
            "Trainable params: 6,214,136\n",
            "Non-trainable params: 0\n",
            "_________________________________________________________________\n"
          ],
          "name": "stdout"
        }
      ]
    },
    {
      "cell_type": "code",
      "metadata": {
        "colab": {
          "base_uri": "https://localhost:8080/"
        },
        "id": "dL_BkCJhS0p_",
        "outputId": "6ada93ff-af30-4e12-b3cc-9f85e7e4b688"
      },
      "source": [
        "history=simple_rnn_model.fit(tmp_x, preproc_french_sentences, batch_size=1024, epochs=200, validation_split=0.2)"
      ],
      "execution_count": null,
      "outputs": [
        {
          "output_type": "stream",
          "text": [
            "Epoch 1/200\n",
            "2/2 [==============================] - 1s 219ms/step - loss: 1.5069 - accuracy: 0.8495 - val_loss: 1.7555 - val_accuracy: 0.8357\n",
            "Epoch 2/200\n",
            "2/2 [==============================] - 1s 196ms/step - loss: 1.4865 - accuracy: 0.8499 - val_loss: 1.7378 - val_accuracy: 0.8362\n",
            "Epoch 3/200\n",
            "2/2 [==============================] - 1s 200ms/step - loss: 1.4667 - accuracy: 0.8503 - val_loss: 1.7196 - val_accuracy: 0.8363\n",
            "Epoch 4/200\n",
            "2/2 [==============================] - 1s 200ms/step - loss: 1.4518 - accuracy: 0.8502 - val_loss: 1.7015 - val_accuracy: 0.8358\n",
            "Epoch 5/200\n",
            "2/2 [==============================] - 1s 196ms/step - loss: 1.4383 - accuracy: 0.8505 - val_loss: 1.6855 - val_accuracy: 0.8355\n",
            "Epoch 6/200\n",
            "2/2 [==============================] - 1s 203ms/step - loss: 1.4208 - accuracy: 0.8503 - val_loss: 1.6703 - val_accuracy: 0.8354\n",
            "Epoch 7/200\n",
            "2/2 [==============================] - 1s 199ms/step - loss: 1.4051 - accuracy: 0.8503 - val_loss: 1.6541 - val_accuracy: 0.8353\n",
            "Epoch 8/200\n",
            "2/2 [==============================] - 1s 198ms/step - loss: 1.3867 - accuracy: 0.8503 - val_loss: 1.6367 - val_accuracy: 0.8354\n",
            "Epoch 9/200\n",
            "2/2 [==============================] - 1s 216ms/step - loss: 1.3683 - accuracy: 0.8504 - val_loss: 1.6206 - val_accuracy: 0.8356\n",
            "Epoch 10/200\n",
            "2/2 [==============================] - 1s 211ms/step - loss: 1.3503 - accuracy: 0.8505 - val_loss: 1.6054 - val_accuracy: 0.8357\n",
            "Epoch 11/200\n",
            "2/2 [==============================] - 1s 200ms/step - loss: 1.3345 - accuracy: 0.8502 - val_loss: 1.5918 - val_accuracy: 0.8357\n",
            "Epoch 12/200\n",
            "2/2 [==============================] - 1s 199ms/step - loss: 1.3173 - accuracy: 0.8502 - val_loss: 1.5790 - val_accuracy: 0.8358\n",
            "Epoch 13/200\n",
            "2/2 [==============================] - 1s 198ms/step - loss: 1.3010 - accuracy: 0.8505 - val_loss: 1.5657 - val_accuracy: 0.8358\n",
            "Epoch 14/200\n",
            "2/2 [==============================] - 1s 198ms/step - loss: 1.2859 - accuracy: 0.8505 - val_loss: 1.5497 - val_accuracy: 0.8363\n",
            "Epoch 15/200\n",
            "2/2 [==============================] - 1s 202ms/step - loss: 1.2678 - accuracy: 0.8509 - val_loss: 1.5318 - val_accuracy: 0.8356\n",
            "Epoch 16/200\n",
            "2/2 [==============================] - 1s 203ms/step - loss: 1.2509 - accuracy: 0.8509 - val_loss: 1.5148 - val_accuracy: 0.8353\n",
            "Epoch 17/200\n",
            "2/2 [==============================] - 1s 199ms/step - loss: 1.2346 - accuracy: 0.8508 - val_loss: 1.5019 - val_accuracy: 0.8353\n",
            "Epoch 18/200\n",
            "2/2 [==============================] - 1s 210ms/step - loss: 1.2191 - accuracy: 0.8512 - val_loss: 1.4933 - val_accuracy: 0.8354\n",
            "Epoch 19/200\n",
            "2/2 [==============================] - 1s 200ms/step - loss: 1.2040 - accuracy: 0.8511 - val_loss: 1.4890 - val_accuracy: 0.8356\n",
            "Epoch 20/200\n",
            "2/2 [==============================] - 1s 198ms/step - loss: 1.1906 - accuracy: 0.8510 - val_loss: 1.4856 - val_accuracy: 0.8357\n",
            "Epoch 21/200\n",
            "2/2 [==============================] - 1s 198ms/step - loss: 1.1786 - accuracy: 0.8509 - val_loss: 1.4840 - val_accuracy: 0.8363\n",
            "Epoch 22/200\n",
            "2/2 [==============================] - 1s 202ms/step - loss: 1.1676 - accuracy: 0.8512 - val_loss: 1.4856 - val_accuracy: 0.8363\n",
            "Epoch 23/200\n",
            "2/2 [==============================] - 1s 201ms/step - loss: 1.1574 - accuracy: 0.8511 - val_loss: 1.4893 - val_accuracy: 0.8369\n",
            "Epoch 24/200\n",
            "2/2 [==============================] - 1s 200ms/step - loss: 1.1484 - accuracy: 0.8512 - val_loss: 1.4933 - val_accuracy: 0.8369\n",
            "Epoch 25/200\n",
            "2/2 [==============================] - 1s 219ms/step - loss: 1.1413 - accuracy: 0.8515 - val_loss: 1.4978 - val_accuracy: 0.8369\n",
            "Epoch 26/200\n",
            "2/2 [==============================] - 1s 201ms/step - loss: 1.1329 - accuracy: 0.8515 - val_loss: 1.5019 - val_accuracy: 0.8376\n",
            "Epoch 27/200\n",
            "2/2 [==============================] - 1s 207ms/step - loss: 1.1263 - accuracy: 0.8522 - val_loss: 1.5052 - val_accuracy: 0.8382\n",
            "Epoch 28/200\n",
            "2/2 [==============================] - 1s 204ms/step - loss: 1.1197 - accuracy: 0.8520 - val_loss: 1.5098 - val_accuracy: 0.8383\n",
            "Epoch 29/200\n",
            "2/2 [==============================] - 1s 202ms/step - loss: 1.1130 - accuracy: 0.8524 - val_loss: 1.5163 - val_accuracy: 0.8384\n",
            "Epoch 30/200\n",
            "2/2 [==============================] - 1s 203ms/step - loss: 1.1072 - accuracy: 0.8526 - val_loss: 1.5223 - val_accuracy: 0.8386\n",
            "Epoch 31/200\n",
            "2/2 [==============================] - 1s 202ms/step - loss: 1.1019 - accuracy: 0.8521 - val_loss: 1.5255 - val_accuracy: 0.8386\n",
            "Epoch 32/200\n",
            "2/2 [==============================] - 1s 212ms/step - loss: 1.0952 - accuracy: 0.8527 - val_loss: 1.5296 - val_accuracy: 0.8386\n",
            "Epoch 33/200\n",
            "2/2 [==============================] - 1s 201ms/step - loss: 1.0914 - accuracy: 0.8525 - val_loss: 1.5312 - val_accuracy: 0.8386\n",
            "Epoch 34/200\n",
            "2/2 [==============================] - 1s 198ms/step - loss: 1.0841 - accuracy: 0.8529 - val_loss: 1.5355 - val_accuracy: 0.8389\n",
            "Epoch 35/200\n",
            "2/2 [==============================] - 1s 201ms/step - loss: 1.0787 - accuracy: 0.8529 - val_loss: 1.5438 - val_accuracy: 0.8387\n",
            "Epoch 36/200\n",
            "2/2 [==============================] - 1s 205ms/step - loss: 1.0744 - accuracy: 0.8530 - val_loss: 1.5479 - val_accuracy: 0.8389\n",
            "Epoch 37/200\n",
            "2/2 [==============================] - 1s 199ms/step - loss: 1.0685 - accuracy: 0.8533 - val_loss: 1.5513 - val_accuracy: 0.8393\n",
            "Epoch 38/200\n",
            "2/2 [==============================] - 1s 206ms/step - loss: 1.0632 - accuracy: 0.8533 - val_loss: 1.5565 - val_accuracy: 0.8392\n",
            "Epoch 39/200\n",
            "2/2 [==============================] - 1s 241ms/step - loss: 1.0582 - accuracy: 0.8535 - val_loss: 1.5598 - val_accuracy: 0.8390\n",
            "Epoch 40/200\n",
            "2/2 [==============================] - 1s 207ms/step - loss: 1.0525 - accuracy: 0.8539 - val_loss: 1.5629 - val_accuracy: 0.8388\n",
            "Epoch 41/200\n",
            "2/2 [==============================] - 1s 204ms/step - loss: 1.0473 - accuracy: 0.8536 - val_loss: 1.5718 - val_accuracy: 0.8387\n",
            "Epoch 42/200\n",
            "2/2 [==============================] - 1s 201ms/step - loss: 1.0422 - accuracy: 0.8533 - val_loss: 1.5765 - val_accuracy: 0.8388\n",
            "Epoch 43/200\n",
            "2/2 [==============================] - 1s 203ms/step - loss: 1.0367 - accuracy: 0.8535 - val_loss: 1.5800 - val_accuracy: 0.8387\n",
            "Epoch 44/200\n",
            "2/2 [==============================] - 1s 203ms/step - loss: 1.0313 - accuracy: 0.8538 - val_loss: 1.5853 - val_accuracy: 0.8389\n",
            "Epoch 45/200\n",
            "2/2 [==============================] - 1s 216ms/step - loss: 1.0248 - accuracy: 0.8537 - val_loss: 1.5871 - val_accuracy: 0.8388\n",
            "Epoch 46/200\n",
            "2/2 [==============================] - 1s 207ms/step - loss: 1.0190 - accuracy: 0.8542 - val_loss: 1.5934 - val_accuracy: 0.8390\n",
            "Epoch 47/200\n",
            "2/2 [==============================] - 1s 212ms/step - loss: 1.0143 - accuracy: 0.8539 - val_loss: 1.5978 - val_accuracy: 0.8390\n",
            "Epoch 48/200\n",
            "2/2 [==============================] - 1s 202ms/step - loss: 1.0087 - accuracy: 0.8545 - val_loss: 1.5993 - val_accuracy: 0.8389\n",
            "Epoch 49/200\n",
            "2/2 [==============================] - 1s 208ms/step - loss: 1.0021 - accuracy: 0.8546 - val_loss: 1.6040 - val_accuracy: 0.8391\n",
            "Epoch 50/200\n",
            "2/2 [==============================] - 1s 208ms/step - loss: 0.9957 - accuracy: 0.8547 - val_loss: 1.6088 - val_accuracy: 0.8390\n",
            "Epoch 51/200\n",
            "2/2 [==============================] - 1s 197ms/step - loss: 0.9885 - accuracy: 0.8551 - val_loss: 1.6116 - val_accuracy: 0.8389\n",
            "Epoch 52/200\n",
            "2/2 [==============================] - 1s 206ms/step - loss: 0.9830 - accuracy: 0.8555 - val_loss: 1.6174 - val_accuracy: 0.8393\n",
            "Epoch 53/200\n",
            "2/2 [==============================] - 1s 203ms/step - loss: 0.9759 - accuracy: 0.8555 - val_loss: 1.6197 - val_accuracy: 0.8390\n",
            "Epoch 54/200\n",
            "2/2 [==============================] - 1s 200ms/step - loss: 0.9702 - accuracy: 0.8559 - val_loss: 1.6228 - val_accuracy: 0.8389\n",
            "Epoch 55/200\n",
            "2/2 [==============================] - 1s 210ms/step - loss: 0.9627 - accuracy: 0.8561 - val_loss: 1.6263 - val_accuracy: 0.8389\n",
            "Epoch 56/200\n",
            "2/2 [==============================] - 1s 202ms/step - loss: 0.9567 - accuracy: 0.8564 - val_loss: 1.6293 - val_accuracy: 0.8393\n",
            "Epoch 57/200\n",
            "2/2 [==============================] - 1s 202ms/step - loss: 0.9483 - accuracy: 0.8565 - val_loss: 1.6318 - val_accuracy: 0.8399\n",
            "Epoch 58/200\n",
            "2/2 [==============================] - 1s 204ms/step - loss: 0.9418 - accuracy: 0.8570 - val_loss: 1.6346 - val_accuracy: 0.8399\n",
            "Epoch 59/200\n",
            "2/2 [==============================] - 1s 205ms/step - loss: 0.9338 - accuracy: 0.8575 - val_loss: 1.6387 - val_accuracy: 0.8399\n",
            "Epoch 60/200\n",
            "2/2 [==============================] - 1s 202ms/step - loss: 0.9272 - accuracy: 0.8576 - val_loss: 1.6427 - val_accuracy: 0.8400\n",
            "Epoch 61/200\n",
            "2/2 [==============================] - 1s 202ms/step - loss: 0.9205 - accuracy: 0.8578 - val_loss: 1.6471 - val_accuracy: 0.8402\n",
            "Epoch 62/200\n",
            "2/2 [==============================] - 1s 199ms/step - loss: 0.9134 - accuracy: 0.8580 - val_loss: 1.6503 - val_accuracy: 0.8400\n",
            "Epoch 63/200\n",
            "2/2 [==============================] - 1s 220ms/step - loss: 0.9047 - accuracy: 0.8586 - val_loss: 1.6539 - val_accuracy: 0.8403\n",
            "Epoch 64/200\n",
            "2/2 [==============================] - 1s 203ms/step - loss: 0.8977 - accuracy: 0.8587 - val_loss: 1.6583 - val_accuracy: 0.8401\n",
            "Epoch 65/200\n",
            "2/2 [==============================] - 1s 204ms/step - loss: 0.8884 - accuracy: 0.8589 - val_loss: 1.6610 - val_accuracy: 0.8402\n",
            "Epoch 66/200\n",
            "2/2 [==============================] - 1s 203ms/step - loss: 0.8808 - accuracy: 0.8592 - val_loss: 1.6675 - val_accuracy: 0.8407\n",
            "Epoch 67/200\n",
            "2/2 [==============================] - 1s 208ms/step - loss: 0.8734 - accuracy: 0.8604 - val_loss: 1.6674 - val_accuracy: 0.8402\n",
            "Epoch 68/200\n",
            "2/2 [==============================] - 1s 200ms/step - loss: 0.8647 - accuracy: 0.8603 - val_loss: 1.6745 - val_accuracy: 0.8406\n",
            "Epoch 69/200\n",
            "2/2 [==============================] - 1s 202ms/step - loss: 0.8551 - accuracy: 0.8609 - val_loss: 1.6768 - val_accuracy: 0.8403\n",
            "Epoch 70/200\n",
            "2/2 [==============================] - 1s 204ms/step - loss: 0.8463 - accuracy: 0.8614 - val_loss: 1.6816 - val_accuracy: 0.8405\n",
            "Epoch 71/200\n",
            "2/2 [==============================] - 1s 202ms/step - loss: 0.8380 - accuracy: 0.8617 - val_loss: 1.6854 - val_accuracy: 0.8405\n",
            "Epoch 72/200\n",
            "2/2 [==============================] - 1s 210ms/step - loss: 0.8315 - accuracy: 0.8620 - val_loss: 1.6891 - val_accuracy: 0.8409\n",
            "Epoch 73/200\n",
            "2/2 [==============================] - 1s 204ms/step - loss: 0.8212 - accuracy: 0.8622 - val_loss: 1.6925 - val_accuracy: 0.8410\n",
            "Epoch 74/200\n",
            "2/2 [==============================] - 1s 205ms/step - loss: 0.8120 - accuracy: 0.8628 - val_loss: 1.6990 - val_accuracy: 0.8413\n",
            "Epoch 75/200\n",
            "2/2 [==============================] - 1s 207ms/step - loss: 0.8039 - accuracy: 0.8631 - val_loss: 1.7021 - val_accuracy: 0.8410\n",
            "Epoch 76/200\n",
            "2/2 [==============================] - 1s 201ms/step - loss: 0.7949 - accuracy: 0.8637 - val_loss: 1.7062 - val_accuracy: 0.8409\n",
            "Epoch 77/200\n",
            "2/2 [==============================] - 1s 211ms/step - loss: 0.7834 - accuracy: 0.8654 - val_loss: 1.7122 - val_accuracy: 0.8410\n",
            "Epoch 78/200\n",
            "2/2 [==============================] - 1s 214ms/step - loss: 0.7760 - accuracy: 0.8660 - val_loss: 1.7142 - val_accuracy: 0.8413\n",
            "Epoch 79/200\n",
            "2/2 [==============================] - 1s 206ms/step - loss: 0.7672 - accuracy: 0.8674 - val_loss: 1.7184 - val_accuracy: 0.8411\n",
            "Epoch 80/200\n",
            "2/2 [==============================] - 1s 210ms/step - loss: 0.7554 - accuracy: 0.8674 - val_loss: 1.7240 - val_accuracy: 0.8420\n",
            "Epoch 81/200\n",
            "2/2 [==============================] - 1s 216ms/step - loss: 0.7458 - accuracy: 0.8687 - val_loss: 1.7238 - val_accuracy: 0.8413\n",
            "Epoch 82/200\n",
            "2/2 [==============================] - 1s 201ms/step - loss: 0.7369 - accuracy: 0.8695 - val_loss: 1.7257 - val_accuracy: 0.8413\n",
            "Epoch 83/200\n",
            "2/2 [==============================] - 1s 205ms/step - loss: 0.7290 - accuracy: 0.8706 - val_loss: 1.7326 - val_accuracy: 0.8422\n",
            "Epoch 84/200\n",
            "2/2 [==============================] - 1s 211ms/step - loss: 0.7190 - accuracy: 0.8708 - val_loss: 1.7333 - val_accuracy: 0.8420\n",
            "Epoch 85/200\n",
            "2/2 [==============================] - 1s 205ms/step - loss: 0.7079 - accuracy: 0.8719 - val_loss: 1.7332 - val_accuracy: 0.8419\n",
            "Epoch 86/200\n",
            "2/2 [==============================] - 1s 200ms/step - loss: 0.6963 - accuracy: 0.8735 - val_loss: 1.7364 - val_accuracy: 0.8421\n",
            "Epoch 87/200\n",
            "2/2 [==============================] - 1s 219ms/step - loss: 0.6870 - accuracy: 0.8742 - val_loss: 1.7390 - val_accuracy: 0.8417\n",
            "Epoch 88/200\n",
            "2/2 [==============================] - 1s 208ms/step - loss: 0.6774 - accuracy: 0.8766 - val_loss: 1.7433 - val_accuracy: 0.8426\n",
            "Epoch 89/200\n",
            "2/2 [==============================] - 1s 214ms/step - loss: 0.6680 - accuracy: 0.8777 - val_loss: 1.7439 - val_accuracy: 0.8432\n",
            "Epoch 90/200\n",
            "2/2 [==============================] - 1s 203ms/step - loss: 0.6547 - accuracy: 0.8792 - val_loss: 1.7460 - val_accuracy: 0.8417\n",
            "Epoch 91/200\n",
            "2/2 [==============================] - 1s 208ms/step - loss: 0.6507 - accuracy: 0.8797 - val_loss: 1.7560 - val_accuracy: 0.8426\n",
            "Epoch 92/200\n",
            "2/2 [==============================] - 1s 213ms/step - loss: 0.6382 - accuracy: 0.8821 - val_loss: 1.7515 - val_accuracy: 0.8426\n",
            "Epoch 93/200\n",
            "2/2 [==============================] - 1s 209ms/step - loss: 0.6287 - accuracy: 0.8833 - val_loss: 1.7567 - val_accuracy: 0.8438\n",
            "Epoch 94/200\n",
            "2/2 [==============================] - 1s 207ms/step - loss: 0.6173 - accuracy: 0.8850 - val_loss: 1.7583 - val_accuracy: 0.8431\n",
            "Epoch 95/200\n",
            "2/2 [==============================] - 1s 203ms/step - loss: 0.6068 - accuracy: 0.8869 - val_loss: 1.7588 - val_accuracy: 0.8435\n",
            "Epoch 96/200\n",
            "2/2 [==============================] - 1s 206ms/step - loss: 0.5979 - accuracy: 0.8889 - val_loss: 1.7654 - val_accuracy: 0.8443\n",
            "Epoch 97/200\n",
            "2/2 [==============================] - 1s 207ms/step - loss: 0.5893 - accuracy: 0.8901 - val_loss: 1.7598 - val_accuracy: 0.8426\n",
            "Epoch 98/200\n",
            "2/2 [==============================] - 1s 213ms/step - loss: 0.5778 - accuracy: 0.8929 - val_loss: 1.7707 - val_accuracy: 0.8441\n",
            "Epoch 99/200\n",
            "2/2 [==============================] - 1s 212ms/step - loss: 0.5715 - accuracy: 0.8924 - val_loss: 1.7628 - val_accuracy: 0.8431\n",
            "Epoch 100/200\n",
            "2/2 [==============================] - 1s 207ms/step - loss: 0.5618 - accuracy: 0.8961 - val_loss: 1.7715 - val_accuracy: 0.8446\n",
            "Epoch 101/200\n",
            "2/2 [==============================] - 1s 221ms/step - loss: 0.5466 - accuracy: 0.8963 - val_loss: 1.7696 - val_accuracy: 0.8442\n",
            "Epoch 102/200\n",
            "2/2 [==============================] - 1s 209ms/step - loss: 0.5370 - accuracy: 0.8992 - val_loss: 1.7792 - val_accuracy: 0.8446\n",
            "Epoch 103/200\n",
            "2/2 [==============================] - 1s 212ms/step - loss: 0.5281 - accuracy: 0.8994 - val_loss: 1.7744 - val_accuracy: 0.8441\n",
            "Epoch 104/200\n",
            "2/2 [==============================] - 1s 208ms/step - loss: 0.5183 - accuracy: 0.9030 - val_loss: 1.7799 - val_accuracy: 0.8450\n",
            "Epoch 105/200\n",
            "2/2 [==============================] - 1s 204ms/step - loss: 0.5096 - accuracy: 0.9031 - val_loss: 1.7786 - val_accuracy: 0.8445\n",
            "Epoch 106/200\n",
            "2/2 [==============================] - 1s 214ms/step - loss: 0.5017 - accuracy: 0.9048 - val_loss: 1.7846 - val_accuracy: 0.8449\n",
            "Epoch 107/200\n",
            "2/2 [==============================] - 1s 217ms/step - loss: 0.4923 - accuracy: 0.9059 - val_loss: 1.7846 - val_accuracy: 0.8444\n",
            "Epoch 108/200\n",
            "2/2 [==============================] - 1s 215ms/step - loss: 0.4814 - accuracy: 0.9081 - val_loss: 1.7842 - val_accuracy: 0.8439\n",
            "Epoch 109/200\n",
            "2/2 [==============================] - 1s 211ms/step - loss: 0.4714 - accuracy: 0.9102 - val_loss: 1.7895 - val_accuracy: 0.8449\n",
            "Epoch 110/200\n",
            "2/2 [==============================] - 1s 206ms/step - loss: 0.4634 - accuracy: 0.9103 - val_loss: 1.7848 - val_accuracy: 0.8447\n",
            "Epoch 111/200\n",
            "2/2 [==============================] - 1s 206ms/step - loss: 0.4579 - accuracy: 0.9114 - val_loss: 1.7914 - val_accuracy: 0.8449\n",
            "Epoch 112/200\n",
            "2/2 [==============================] - 1s 207ms/step - loss: 0.4486 - accuracy: 0.9130 - val_loss: 1.7910 - val_accuracy: 0.8451\n",
            "Epoch 113/200\n",
            "2/2 [==============================] - 1s 208ms/step - loss: 0.4393 - accuracy: 0.9151 - val_loss: 1.7937 - val_accuracy: 0.8451\n",
            "Epoch 114/200\n",
            "2/2 [==============================] - 1s 213ms/step - loss: 0.4312 - accuracy: 0.9159 - val_loss: 1.7937 - val_accuracy: 0.8449\n",
            "Epoch 115/200\n",
            "2/2 [==============================] - 1s 215ms/step - loss: 0.4216 - accuracy: 0.9176 - val_loss: 1.7952 - val_accuracy: 0.8447\n",
            "Epoch 116/200\n",
            "2/2 [==============================] - 1s 207ms/step - loss: 0.4158 - accuracy: 0.9184 - val_loss: 1.7983 - val_accuracy: 0.8453\n",
            "Epoch 117/200\n",
            "2/2 [==============================] - 1s 210ms/step - loss: 0.4078 - accuracy: 0.9200 - val_loss: 1.7988 - val_accuracy: 0.8448\n",
            "Epoch 118/200\n",
            "2/2 [==============================] - 1s 212ms/step - loss: 0.4011 - accuracy: 0.9210 - val_loss: 1.8024 - val_accuracy: 0.8446\n",
            "Epoch 119/200\n",
            "2/2 [==============================] - 1s 203ms/step - loss: 0.3943 - accuracy: 0.9209 - val_loss: 1.8031 - val_accuracy: 0.8452\n",
            "Epoch 120/200\n",
            "2/2 [==============================] - 1s 210ms/step - loss: 0.3873 - accuracy: 0.9240 - val_loss: 1.8055 - val_accuracy: 0.8456\n",
            "Epoch 121/200\n",
            "2/2 [==============================] - 1s 208ms/step - loss: 0.3815 - accuracy: 0.9233 - val_loss: 1.8052 - val_accuracy: 0.8449\n",
            "Epoch 122/200\n",
            "2/2 [==============================] - 1s 216ms/step - loss: 0.3717 - accuracy: 0.9258 - val_loss: 1.8099 - val_accuracy: 0.8452\n",
            "Epoch 123/200\n",
            "2/2 [==============================] - 1s 213ms/step - loss: 0.3691 - accuracy: 0.9252 - val_loss: 1.8084 - val_accuracy: 0.8451\n",
            "Epoch 124/200\n",
            "2/2 [==============================] - 1s 207ms/step - loss: 0.3627 - accuracy: 0.9264 - val_loss: 1.8110 - val_accuracy: 0.8448\n",
            "Epoch 125/200\n",
            "2/2 [==============================] - 1s 215ms/step - loss: 0.3559 - accuracy: 0.9282 - val_loss: 1.8102 - val_accuracy: 0.8446\n",
            "Epoch 126/200\n",
            "2/2 [==============================] - 1s 207ms/step - loss: 0.3506 - accuracy: 0.9287 - val_loss: 1.8139 - val_accuracy: 0.8453\n",
            "Epoch 127/200\n",
            "2/2 [==============================] - 1s 206ms/step - loss: 0.3430 - accuracy: 0.9296 - val_loss: 1.8132 - val_accuracy: 0.8445\n",
            "Epoch 128/200\n",
            "2/2 [==============================] - 1s 228ms/step - loss: 0.3361 - accuracy: 0.9309 - val_loss: 1.8170 - val_accuracy: 0.8452\n",
            "Epoch 129/200\n",
            "2/2 [==============================] - 1s 213ms/step - loss: 0.3330 - accuracy: 0.9307 - val_loss: 1.8167 - val_accuracy: 0.8449\n",
            "Epoch 130/200\n",
            "2/2 [==============================] - 1s 215ms/step - loss: 0.3272 - accuracy: 0.9335 - val_loss: 1.8203 - val_accuracy: 0.8454\n",
            "Epoch 131/200\n",
            "2/2 [==============================] - 1s 206ms/step - loss: 0.3220 - accuracy: 0.9320 - val_loss: 1.8193 - val_accuracy: 0.8448\n",
            "Epoch 132/200\n",
            "2/2 [==============================] - 1s 230ms/step - loss: 0.3161 - accuracy: 0.9340 - val_loss: 1.8233 - val_accuracy: 0.8460\n",
            "Epoch 133/200\n",
            "2/2 [==============================] - 1s 218ms/step - loss: 0.3122 - accuracy: 0.9344 - val_loss: 1.8218 - val_accuracy: 0.8446\n",
            "Epoch 134/200\n",
            "2/2 [==============================] - 1s 205ms/step - loss: 0.3064 - accuracy: 0.9369 - val_loss: 1.8250 - val_accuracy: 0.8455\n",
            "Epoch 135/200\n",
            "2/2 [==============================] - 1s 213ms/step - loss: 0.3009 - accuracy: 0.9357 - val_loss: 1.8236 - val_accuracy: 0.8447\n",
            "Epoch 136/200\n",
            "2/2 [==============================] - 1s 216ms/step - loss: 0.2965 - accuracy: 0.9378 - val_loss: 1.8252 - val_accuracy: 0.8454\n",
            "Epoch 137/200\n",
            "2/2 [==============================] - 1s 206ms/step - loss: 0.2909 - accuracy: 0.9383 - val_loss: 1.8259 - val_accuracy: 0.8451\n",
            "Epoch 138/200\n",
            "2/2 [==============================] - 1s 211ms/step - loss: 0.2873 - accuracy: 0.9393 - val_loss: 1.8278 - val_accuracy: 0.8456\n",
            "Epoch 139/200\n",
            "2/2 [==============================] - 1s 208ms/step - loss: 0.2826 - accuracy: 0.9395 - val_loss: 1.8285 - val_accuracy: 0.8449\n",
            "Epoch 140/200\n",
            "2/2 [==============================] - 1s 219ms/step - loss: 0.2788 - accuracy: 0.9408 - val_loss: 1.8310 - val_accuracy: 0.8454\n",
            "Epoch 141/200\n",
            "2/2 [==============================] - 1s 223ms/step - loss: 0.2736 - accuracy: 0.9416 - val_loss: 1.8316 - val_accuracy: 0.8447\n",
            "Epoch 142/200\n",
            "2/2 [==============================] - 1s 217ms/step - loss: 0.2692 - accuracy: 0.9425 - val_loss: 1.8346 - val_accuracy: 0.8454\n",
            "Epoch 143/200\n",
            "2/2 [==============================] - 1s 219ms/step - loss: 0.2667 - accuracy: 0.9429 - val_loss: 1.8334 - val_accuracy: 0.8456\n",
            "Epoch 144/200\n",
            "2/2 [==============================] - 1s 206ms/step - loss: 0.2609 - accuracy: 0.9443 - val_loss: 1.8344 - val_accuracy: 0.8454\n",
            "Epoch 145/200\n",
            "2/2 [==============================] - 1s 213ms/step - loss: 0.2561 - accuracy: 0.9448 - val_loss: 1.8349 - val_accuracy: 0.8455\n",
            "Epoch 146/200\n",
            "2/2 [==============================] - 1s 212ms/step - loss: 0.2561 - accuracy: 0.9443 - val_loss: 1.8369 - val_accuracy: 0.8452\n",
            "Epoch 147/200\n",
            "2/2 [==============================] - 1s 216ms/step - loss: 0.2525 - accuracy: 0.9453 - val_loss: 1.8383 - val_accuracy: 0.8455\n",
            "Epoch 148/200\n",
            "2/2 [==============================] - 1s 208ms/step - loss: 0.2454 - accuracy: 0.9467 - val_loss: 1.8397 - val_accuracy: 0.8457\n",
            "Epoch 149/200\n",
            "2/2 [==============================] - 1s 212ms/step - loss: 0.2441 - accuracy: 0.9464 - val_loss: 1.8398 - val_accuracy: 0.8452\n",
            "Epoch 150/200\n",
            "2/2 [==============================] - 1s 211ms/step - loss: 0.2376 - accuracy: 0.9477 - val_loss: 1.8430 - val_accuracy: 0.8457\n",
            "Epoch 151/200\n",
            "2/2 [==============================] - 1s 207ms/step - loss: 0.2362 - accuracy: 0.9484 - val_loss: 1.8413 - val_accuracy: 0.8452\n",
            "Epoch 152/200\n",
            "2/2 [==============================] - 1s 208ms/step - loss: 0.2331 - accuracy: 0.9486 - val_loss: 1.8449 - val_accuracy: 0.8455\n",
            "Epoch 153/200\n",
            "2/2 [==============================] - 1s 213ms/step - loss: 0.2318 - accuracy: 0.9483 - val_loss: 1.8443 - val_accuracy: 0.8453\n",
            "Epoch 154/200\n",
            "2/2 [==============================] - 1s 208ms/step - loss: 0.2250 - accuracy: 0.9503 - val_loss: 1.8479 - val_accuracy: 0.8454\n",
            "Epoch 155/200\n",
            "2/2 [==============================] - 1s 213ms/step - loss: 0.2233 - accuracy: 0.9501 - val_loss: 1.8467 - val_accuracy: 0.8451\n",
            "Epoch 156/200\n",
            "2/2 [==============================] - 1s 207ms/step - loss: 0.2199 - accuracy: 0.9515 - val_loss: 1.8503 - val_accuracy: 0.8459\n",
            "Epoch 157/200\n",
            "2/2 [==============================] - 1s 210ms/step - loss: 0.2202 - accuracy: 0.9499 - val_loss: 1.8503 - val_accuracy: 0.8453\n",
            "Epoch 158/200\n",
            "2/2 [==============================] - 1s 218ms/step - loss: 0.2138 - accuracy: 0.9518 - val_loss: 1.8531 - val_accuracy: 0.8455\n",
            "Epoch 159/200\n",
            "2/2 [==============================] - 1s 211ms/step - loss: 0.2109 - accuracy: 0.9523 - val_loss: 1.8530 - val_accuracy: 0.8450\n",
            "Epoch 160/200\n",
            "2/2 [==============================] - 1s 216ms/step - loss: 0.2065 - accuracy: 0.9535 - val_loss: 1.8559 - val_accuracy: 0.8456\n",
            "Epoch 161/200\n",
            "2/2 [==============================] - 1s 205ms/step - loss: 0.2051 - accuracy: 0.9531 - val_loss: 1.8552 - val_accuracy: 0.8451\n",
            "Epoch 162/200\n",
            "2/2 [==============================] - 1s 207ms/step - loss: 0.2038 - accuracy: 0.9539 - val_loss: 1.8584 - val_accuracy: 0.8461\n",
            "Epoch 163/200\n",
            "2/2 [==============================] - 1s 213ms/step - loss: 0.1993 - accuracy: 0.9545 - val_loss: 1.8574 - val_accuracy: 0.8457\n",
            "Epoch 164/200\n",
            "2/2 [==============================] - 1s 218ms/step - loss: 0.1987 - accuracy: 0.9556 - val_loss: 1.8604 - val_accuracy: 0.8462\n",
            "Epoch 165/200\n",
            "2/2 [==============================] - 1s 206ms/step - loss: 0.1939 - accuracy: 0.9561 - val_loss: 1.8613 - val_accuracy: 0.8459\n",
            "Epoch 166/200\n",
            "2/2 [==============================] - 1s 206ms/step - loss: 0.1934 - accuracy: 0.9569 - val_loss: 1.8646 - val_accuracy: 0.8463\n",
            "Epoch 167/200\n",
            "2/2 [==============================] - 1s 206ms/step - loss: 0.1899 - accuracy: 0.9558 - val_loss: 1.8620 - val_accuracy: 0.8458\n",
            "Epoch 168/200\n",
            "2/2 [==============================] - 1s 219ms/step - loss: 0.1878 - accuracy: 0.9572 - val_loss: 1.8657 - val_accuracy: 0.8464\n",
            "Epoch 169/200\n",
            "2/2 [==============================] - 1s 206ms/step - loss: 0.1868 - accuracy: 0.9573 - val_loss: 1.8651 - val_accuracy: 0.8459\n",
            "Epoch 170/200\n",
            "2/2 [==============================] - 1s 217ms/step - loss: 0.1861 - accuracy: 0.9575 - val_loss: 1.8684 - val_accuracy: 0.8467\n",
            "Epoch 171/200\n",
            "2/2 [==============================] - 1s 219ms/step - loss: 0.1811 - accuracy: 0.9579 - val_loss: 1.8646 - val_accuracy: 0.8458\n",
            "Epoch 172/200\n",
            "2/2 [==============================] - 1s 207ms/step - loss: 0.1790 - accuracy: 0.9590 - val_loss: 1.8713 - val_accuracy: 0.8463\n",
            "Epoch 173/200\n",
            "2/2 [==============================] - 1s 207ms/step - loss: 0.1786 - accuracy: 0.9582 - val_loss: 1.8677 - val_accuracy: 0.8456\n",
            "Epoch 174/200\n",
            "2/2 [==============================] - 1s 218ms/step - loss: 0.1744 - accuracy: 0.9600 - val_loss: 1.8719 - val_accuracy: 0.8462\n",
            "Epoch 175/200\n",
            "2/2 [==============================] - 1s 208ms/step - loss: 0.1719 - accuracy: 0.9599 - val_loss: 1.8706 - val_accuracy: 0.8456\n",
            "Epoch 176/200\n",
            "2/2 [==============================] - 1s 207ms/step - loss: 0.1716 - accuracy: 0.9607 - val_loss: 1.8745 - val_accuracy: 0.8461\n",
            "Epoch 177/200\n",
            "2/2 [==============================] - 1s 211ms/step - loss: 0.1690 - accuracy: 0.9607 - val_loss: 1.8714 - val_accuracy: 0.8455\n",
            "Epoch 178/200\n",
            "2/2 [==============================] - 1s 210ms/step - loss: 0.1694 - accuracy: 0.9615 - val_loss: 1.8748 - val_accuracy: 0.8463\n",
            "Epoch 179/200\n",
            "2/2 [==============================] - 1s 205ms/step - loss: 0.1636 - accuracy: 0.9616 - val_loss: 1.8733 - val_accuracy: 0.8460\n",
            "Epoch 180/200\n",
            "2/2 [==============================] - 1s 217ms/step - loss: 0.1638 - accuracy: 0.9620 - val_loss: 1.8735 - val_accuracy: 0.8462\n",
            "Epoch 181/200\n",
            "2/2 [==============================] - 1s 217ms/step - loss: 0.1618 - accuracy: 0.9621 - val_loss: 1.8766 - val_accuracy: 0.8465\n",
            "Epoch 182/200\n",
            "2/2 [==============================] - 1s 205ms/step - loss: 0.1596 - accuracy: 0.9631 - val_loss: 1.8756 - val_accuracy: 0.8455\n",
            "Epoch 183/200\n",
            "2/2 [==============================] - 1s 219ms/step - loss: 0.1585 - accuracy: 0.9635 - val_loss: 1.8814 - val_accuracy: 0.8466\n",
            "Epoch 184/200\n",
            "2/2 [==============================] - 1s 211ms/step - loss: 0.1573 - accuracy: 0.9631 - val_loss: 1.8785 - val_accuracy: 0.8457\n",
            "Epoch 185/200\n",
            "2/2 [==============================] - 1s 215ms/step - loss: 0.1535 - accuracy: 0.9642 - val_loss: 1.8797 - val_accuracy: 0.8455\n",
            "Epoch 186/200\n",
            "2/2 [==============================] - 1s 213ms/step - loss: 0.1501 - accuracy: 0.9641 - val_loss: 1.8824 - val_accuracy: 0.8461\n",
            "Epoch 187/200\n",
            "2/2 [==============================] - 1s 209ms/step - loss: 0.1503 - accuracy: 0.9649 - val_loss: 1.8821 - val_accuracy: 0.8454\n",
            "Epoch 188/200\n",
            "2/2 [==============================] - 1s 217ms/step - loss: 0.1483 - accuracy: 0.9658 - val_loss: 1.8832 - val_accuracy: 0.8465\n",
            "Epoch 189/200\n",
            "2/2 [==============================] - 1s 211ms/step - loss: 0.1453 - accuracy: 0.9662 - val_loss: 1.8812 - val_accuracy: 0.8461\n",
            "Epoch 190/200\n",
            "2/2 [==============================] - 1s 209ms/step - loss: 0.1439 - accuracy: 0.9666 - val_loss: 1.8827 - val_accuracy: 0.8462\n",
            "Epoch 191/200\n",
            "2/2 [==============================] - 1s 207ms/step - loss: 0.1410 - accuracy: 0.9673 - val_loss: 1.8864 - val_accuracy: 0.8463\n",
            "Epoch 192/200\n",
            "2/2 [==============================] - 1s 211ms/step - loss: 0.1421 - accuracy: 0.9672 - val_loss: 1.8867 - val_accuracy: 0.8459\n",
            "Epoch 193/200\n",
            "2/2 [==============================] - 1s 210ms/step - loss: 0.1397 - accuracy: 0.9674 - val_loss: 1.8896 - val_accuracy: 0.8457\n",
            "Epoch 194/200\n",
            "2/2 [==============================] - 1s 223ms/step - loss: 0.1379 - accuracy: 0.9678 - val_loss: 1.8899 - val_accuracy: 0.8454\n",
            "Epoch 195/200\n",
            "2/2 [==============================] - 1s 230ms/step - loss: 0.1350 - accuracy: 0.9686 - val_loss: 1.8912 - val_accuracy: 0.8455\n",
            "Epoch 196/200\n",
            "2/2 [==============================] - 1s 207ms/step - loss: 0.1353 - accuracy: 0.9684 - val_loss: 1.8942 - val_accuracy: 0.8462\n",
            "Epoch 197/200\n",
            "2/2 [==============================] - 1s 209ms/step - loss: 0.1323 - accuracy: 0.9695 - val_loss: 1.8955 - val_accuracy: 0.8462\n",
            "Epoch 198/200\n",
            "2/2 [==============================] - 1s 217ms/step - loss: 0.1325 - accuracy: 0.9688 - val_loss: 1.8985 - val_accuracy: 0.8466\n",
            "Epoch 199/200\n",
            "2/2 [==============================] - 1s 226ms/step - loss: 0.1297 - accuracy: 0.9692 - val_loss: 1.8962 - val_accuracy: 0.8459\n",
            "Epoch 200/200\n",
            "2/2 [==============================] - 1s 214ms/step - loss: 0.1284 - accuracy: 0.9692 - val_loss: 1.8961 - val_accuracy: 0.8460\n"
          ],
          "name": "stdout"
        }
      ]
    },
    {
      "cell_type": "code",
      "metadata": {
        "id": "2rxWXriDddQ8",
        "colab": {
          "base_uri": "https://localhost:8080/"
        },
        "outputId": "c188d402-6720-4e43-b4e9-6b4c4d4d3c3c"
      },
      "source": [
        "scores =simple_rnn_model.evaluate(tmp_x, preproc_french_sentences, verbose=0)\n",
        "# Displays the accuracy of correct sentiment prediction over test data\n",
        "print(\"Accuracy: %.2f%%\" % (scores[1]*100))"
      ],
      "execution_count": null,
      "outputs": [
        {
          "output_type": "stream",
          "text": [
            "Accuracy: 95.23%\n"
          ],
          "name": "stdout"
        }
      ]
    },
    {
      "cell_type": "code",
      "metadata": {
        "id": "PTx4ARR9NGgl",
        "colab": {
          "base_uri": "https://localhost:8080/",
          "height": 545
        },
        "outputId": "e56706d2-a38d-409e-995a-6c27365a3e94"
      },
      "source": [
        "import matplotlib.pyplot as plt\n",
        "\n",
        "acc = history.history['accuracy']\n",
        "val_acc = history.history['val_accuracy']\n",
        "loss = history.history['loss']\n",
        "val_loss = history.history['val_loss']\n",
        "\n",
        "epochs = range(len(acc))\n",
        "\n",
        "plt.plot(epochs, acc, 'bo', label='Training acc')\n",
        "plt.plot(epochs, val_acc, 'b', label='Validation acc')\n",
        "plt.title('Training and validation accuracy')\n",
        "plt.legend()\n",
        "\n",
        "plt.figure()\n",
        "\n",
        "plt.plot(epochs, loss, 'bo', label='Training loss')\n",
        "plt.plot(epochs, val_loss, 'b', label='Validation loss')\n",
        "plt.title('Training and validation loss')\n",
        "plt.legend()\n",
        "\n",
        "plt.show()"
      ],
      "execution_count": null,
      "outputs": [
        {
          "output_type": "display_data",
          "data": {
            "image/png": "[encoded data removed]",
            "text/plain": [
              "<Figure size 432x288 with 1 Axes>"
            ]
          },
          "metadata": {
            "tags": [],
            "needs_background": "light"
          }
        },
        {
          "output_type": "display_data",
          "data": {
            "image/png": "[encoded data removed]",
            "text/plain": [
              "<Figure size 432x288 with 1 Axes>"
            ]
          },
          "metadata": {
            "tags": [],
            "needs_background": "light"
          }
        }
      ]
    },
    {
      "cell_type": "code",
      "metadata": {
        "id": "4_44LGpK-xx4"
      },
      "source": [
        "def final_predictions(text):\n",
        "  y_id_to_word = {value: key for key, value in french_tokenizer.word_index.items()}\n",
        "  y_id_to_word[0] = '<PAD>'\n",
        "\n",
        "  sentence = [english_tokenizer.word_index[word] for word in text.split()]\n",
        "  sentence = pad_sequences([sentence], maxlen=preproc_french_sentences.shape[-2], padding='post')\n",
        "  \n",
        "  print(sentence.shape)\n",
        "  print(logits_to_text(simple_rnn_model.predict(sentence[:1])[0], french_tokenizer))"
      ],
      "execution_count": null,
      "outputs": []
    },
    {
      "cell_type": "code",
      "metadata": {
        "id": "wr8pT-bX4MpG"
      },
      "source": [
        ""
      ],
      "execution_count": null,
      "outputs": []
    },
    {
      "cell_type": "code",
      "metadata": {
        "id": "Lm-DAR9H-4xD"
      },
      "source": [
        "simple_rnn_model.save('model')"
      ],
      "execution_count": null,
      "outputs": []
    },
    {
      "cell_type": "code",
      "metadata": {
        "id": "onnTqdkf-_ry"
      },
      "source": [
        "! mkdir \"pickles\""
      ],
      "execution_count": null,
      "outputs": []
    },
    {
      "cell_type": "code",
      "metadata": {
        "id": "nhDpg-NB_AXV"
      },
      "source": [
        "with open('pickles/french_tokenizer.pickle', 'wb') as handle:\n",
        "    pickle.dump(french_tokenizer, handle, protocol=pickle.HIGHEST_PROTOCOL)\n",
        "\n",
        "with open('pickles/english_tokenizer.pickle', 'wb') as handle:\n",
        "    pickle.dump(english_tokenizer, handle, protocol=pickle.HIGHEST_PROTOCOL)\n",
        "\n",
        "with open('pickles/preproc_french_sentences.pickle', 'wb') as handle:\n",
        "    pickle.dump(preproc_french_sentences, handle, protocol=pickle.HIGHEST_PROTOCOL) "
      ],
      "execution_count": null,
      "outputs": []
    }
  ]
}