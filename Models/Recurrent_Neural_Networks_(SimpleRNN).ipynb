{
  "nbformat": 4,
  "nbformat_minor": 0,
  "metadata": {
    "colab": {
      "name": "Recurrent_Neural_Networks_(SimpleRNN).ipynb",
      "provenance": [],
      "collapsed_sections": []
    },
    "kernelspec": {
      "name": "python3",
      "display_name": "Python 3"
    },
    "language_info": {
      "name": "python"
    }
  },
  "cells": [
    {
      "cell_type": "code",
      "metadata": {
        "id": "xyCAqBpNCnPq"
      },
      "source": [
        "%%capture\n",
        "# Install the latest Tensorflow version.\n",
        "!pip install tensorflow_text\n",
        "!pip install bokeh\n",
        "!pip install simpleneighbors[annoy]\n",
        "!pip install tqdm\n",
        "!pip install unidecode"
      ],
      "execution_count": 2,
      "outputs": []
    },
    {
      "cell_type": "code",
      "metadata": {
        "id": "8JlNt2Iu72or"
      },
      "source": [
        "import os,re,collections\n",
        "import numpy as np\n",
        "\n",
        "import keras\n",
        "from keras.preprocessing.text import Tokenizer\n",
        "from keras.preprocessing.sequence import pad_sequences\n",
        "from keras.models import Model, Sequential\n",
        "from keras.layers import GRU,LSTM, Input, Dense, TimeDistributed, Activation, RepeatVector, Bidirectional, Dropout, LSTM\n",
        "from keras.layers.embeddings import Embedding\n",
        "from keras.optimizers import Adam\n",
        "from keras.losses import sparse_categorical_crossentropy\n",
        "import tensorflow.compat.v2 as tf\n",
        "import pickle"
      ],
      "execution_count": 3,
      "outputs": []
    },
    {
      "cell_type": "markdown",
      "metadata": {
        "id": "_vt2rQCOPz74"
      },
      "source": [
        "## ***Etape 1 : Chargement de données*** \n",
        " Nous allons extraire les données qui se trouvent dans le zip dans le drive ainsi pouvoirs les exploité facilement puis nous allons organiser les fichier de sort a ce que chaque phrase aille sa traduction dans le fichier correspondant,les phrase qui seront extraitent du fichier vont étre prétraiter "
      ]
    },
    {
      "cell_type": "code",
      "metadata": {
        "id": "s7lnrHSLa5AF"
      },
      "source": [
        "import zipfile\n",
        "\n",
        "#nous allons extraire nos données qui se trouvent dans un fichier zip dans notre drive \n",
        "zip_ref = zipfile.ZipFile(\"/content/drive/MyDrive/rebuilt.Cross-Language-Dataset-master.zip\", 'r')\n",
        "zip_ref.extractall(\"/tmp\")\n",
        "zip_ref.close()"
      ],
      "execution_count": null,
      "outputs": []
    },
    {
      "cell_type": "code",
      "metadata": {
        "id": "cBlohYw1Wb77"
      },
      "source": [
        "#nous allons experimenter une partie de nos donnée dans cette partie on commence par le corpus APR \n",
        "English_Dataset= tf.data.Dataset.list_files(\"/tmp/Cross-Language-Dataset-master/dataset/chunks/APR/en/*.txt\")\n",
        "Frensh_Dataset = tf.data.Dataset.list_files(\"/tmp/Cross-Language-Dataset-master/dataset/chunks/APR/fr/*.txt\")\n"
      ],
      "execution_count": 5,
      "outputs": []
    },
    {
      "cell_type": "code",
      "metadata": {
        "id": "xH58fu-j_in7"
      },
      "source": [
        "#nous allons organiser nos fichier text de sort a ce que les fichier en francais aille leur traduction anglaise\n",
        "English_DatasetFiles=list(English_Dataset.as_numpy_iterator())\n",
        "English_DatasetFiles.sort()\n",
        "Frensh_DatasetFiles=list(Frensh_Dataset .as_numpy_iterator())\n",
        "Frensh_DatasetFiles.sort()"
      ],
      "execution_count": 6,
      "outputs": []
    },
    {
      "cell_type": "code",
      "metadata": {
        "id": "AtJR_FFUUQ0d"
      },
      "source": [
        "#cette fonction permet d'extraire extrait les donnees des fichier\n",
        "def load_data(Files):\n",
        "  sentences=[]\n",
        "  for file_content in Files: \n",
        "    with open(file_content, \"r\") as f:\n",
        "      data = f.read()\n",
        "      sentences.append(data)\n",
        "  return sentences\n",
        "\n",
        "english_sentences=load_data(English_DatasetFiles)\n",
        "french_sentences=load_data(Frensh_DatasetFiles)\n"
      ],
      "execution_count": 7,
      "outputs": []
    },
    {
      "cell_type": "code",
      "metadata": {
        "id": "ITcf0jAdfy6u",
        "colab": {
          "base_uri": "https://localhost:8080/"
        },
        "outputId": "0b103f48-f7f6-4822-b790-2df0a28fb0a5"
      },
      "source": [
        "for i in range(5):\n",
        "  print('Sample :',i)\n",
        "  print(english_sentences[i])\n",
        "  print(french_sentences[i])\n",
        "  print('-'*50)"
      ],
      "execution_count": 8,
      "outputs": [
        {
          "output_type": "stream",
          "text": [
            "Sample : 0\n",
            "the association gregory lemarchal\n",
            "\n",
            "l' association gregory lemarchal\n",
            "\n",
            "--------------------------------------------------\n",
            "Sample : 1\n",
            "after the dresden file\n",
            "\n",
            "après les dossier dresden\n",
            "\n",
            "--------------------------------------------------\n",
            "Sample : 2\n",
            "the tradition of lanfeust troy\n",
            "invention of reverse auctions\n",
            "\n",
            "la tradition lanfeust de troy\n",
            "invention des ventes aux enchères\n",
            "\n",
            "--------------------------------------------------\n",
            "Sample : 3\n",
            "the manner of dos passos\n",
            "\n",
            "la manière de dos passos\n",
            "\n",
            "--------------------------------------------------\n",
            "Sample : 4\n",
            "trace of fat in this book\n",
            "\n",
            "trace de gras dans le livre\n",
            "\n",
            "--------------------------------------------------\n"
          ],
          "name": "stdout"
        }
      ]
    },
    {
      "cell_type": "markdown",
      "metadata": {
        "id": "vcTWq6nvOmDQ"
      },
      "source": [
        "# ***Etape 2 : Stopwords***\n",
        "première manipulation souvent effectuée dans le traitement du texte est la suppression de ce qu'on appelle en anglais les stopwords. Ce sont les mots très courants dans la langue étudiée (\"et\", \"à\", \"le\"... en français) qui n'apportent pas de valeur informative pour la compréhension du \"sens\" d'un document et corpus. Il sont très fréquents et ralentissent notre travail : nous souhaitons donc les supprimer.\n",
        "\n",
        "Il existe dans la librairie NLTK une liste par défaut des stopwords dans plusieurs Langues"
      ]
    },
    {
      "cell_type": "code",
      "metadata": {
        "colab": {
          "base_uri": "https://localhost:8080/"
        },
        "id": "e0hrikyVlnAw",
        "outputId": "e7c12d48-a8ec-4aa7-ad37-6a7cb6be4fbb"
      },
      "source": [
        "\n",
        "import nltk\n",
        "nltk.download('stopwords')\n",
        "from nltk.corpus import stopwords\n",
        "#pour supprimer les stopword de chaque langue\n",
        "def remove_stopwords(text,langue):\n",
        "    STOPWORDS = set(stopwords.words(langue))\n",
        "    \"\"\"custom function to remove the stopwords\"\"\"\n",
        "    return \" \".join([word for word in str(text).split() if word not in STOPWORDS])\n",
        "#supprimer les stopword dans une liste de phrase\n",
        "def remove(sentences,langue):\n",
        "    values=[]\n",
        "    for text in sentences:\n",
        "       values.append(remove_stopwords(text,langue))\n",
        "    return values\n"
      ],
      "execution_count": 9,
      "outputs": [
        {
          "output_type": "stream",
          "text": [
            "[nltk_data] Downloading package stopwords to /root/nltk_data...\n",
            "[nltk_data]   Unzipping corpora/stopwords.zip.\n"
          ],
          "name": "stdout"
        }
      ]
    },
    {
      "cell_type": "code",
      "metadata": {
        "id": "6FFU2kwwlp3r"
      },
      "source": [
        "\n",
        "english_sentences=remove(english_sentences,'english')\n",
        "french_sentences=remove(french_sentences,'french')"
      ],
      "execution_count": 10,
      "outputs": []
    },
    {
      "cell_type": "code",
      "metadata": {
        "id": "gth9wlQr9j3f",
        "colab": {
          "base_uri": "https://localhost:8080/"
        },
        "outputId": "05c0f307-e6cf-421f-de9c-34805bde3fd0"
      },
      "source": [
        "english_words_counter = collections.Counter([word for sentence in english_sentences for word in sentence.split()])\n",
        "french_words_counter = collections.Counter([word for sentence in french_sentences for word in sentence.split()])\n",
        "\n",
        "print('English Vocab:',len(english_words_counter))\n",
        "print('French Vocab:',len(french_words_counter))"
      ],
      "execution_count": 11,
      "outputs": [
        {
          "output_type": "stream",
          "text": [
            "English Vocab: 3981\n",
            "French Vocab: 4271\n"
          ],
          "name": "stdout"
        }
      ]
    },
    {
      "cell_type": "markdown",
      "metadata": {
        "id": "tGEo2THGR3hr"
      },
      "source": [
        "# ***Etape 3 :le Stemming*** \n",
        "racinisation(ou stemming en anglais). Cela consiste à ne conserver que la racine des mots étudiés. L'idée étant de supprimer les suffixes, préfixes et autres des mots afin de ne conserver que leur origine. C'est un procédé plus simple que la lemmatisation et plus rapide à effectuer puisqu'on tronque les mots essentiellement contrairement à la lemmatisation qui nécessite d'utiliser un dictionnaire.Dans notre cas, on va effectuer une racinisation parce qu'il n'existe pas de fonction de lemmatisation de corpus français dans NLTK"
      ]
    },
    {
      "cell_type": "code",
      "metadata": {
        "id": "y3gDnA9XoD2Q"
      },
      "source": [
        "from nltk.stem.porter import PorterStemmer\n",
        "from nltk.stem.snowball import SnowballStemmer\n",
        "\n",
        "def stem_words_langue(text,langue):\n",
        "    stemmer2=SnowballStemmer(langue)\n",
        "    return \" \".join([stemmer2.stem(word) for word in text.split()])\n",
        "\n",
        "def stemming_langue(sentences,langue):\n",
        "  values=[]\n",
        "  for text in sentences:\n",
        "    values.append(stem_words_langue(text,langue))\n",
        "  return values\n",
        " "
      ],
      "execution_count": 12,
      "outputs": []
    },
    {
      "cell_type": "code",
      "metadata": {
        "id": "9Zds9TdSQEnn"
      },
      "source": [
        "\n",
        "english_sentences=stemming_langue(english_sentences,'english')\n",
        "french_sentences=stemming_langue(french_sentences,'french')"
      ],
      "execution_count": 13,
      "outputs": []
    },
    {
      "cell_type": "markdown",
      "metadata": {
        "id": "gfDrPIYqTiPv"
      },
      "source": [
        "## ***Etape 4 : la tokenisation***\n",
        "La tokenisation est la division du texte brut en petits morceaux de mots ou de phrases, appelés jetons.Chaque phrase prend son sens par les mots qu'elle contient. Ainsi, en analysant les mots présents dans le texte, nous pouvons facilement interpréter le sens du texte. Une fois que nous avons une liste de mots, nous pouvons également utiliser des outils et des méthodes statistiques pour mieux comprendre le texte. Par exemple, nous pouvons utiliser le nombre de mots et la fréquence des mots pour découvrir l'importance d'un mot dans cette phrase ou ce document."
      ]
    },
    {
      "cell_type": "code",
      "metadata": {
        "id": "ZP0AOadJ9lCz"
      },
      "source": [
        "def tokenize(x):\n",
        "  tokenizer = Tokenizer()\n",
        "  tokenizer.fit_on_texts(x)\n",
        "  return tokenizer.texts_to_sequences(x), tokenizer"
      ],
      "execution_count": 14,
      "outputs": []
    },
    {
      "cell_type": "code",
      "metadata": {
        "id": "vL_rK09M9vJf"
      },
      "source": [
        "def pad(x, length=None):\n",
        "  return pad_sequences(x, maxlen=length, padding='post')"
      ],
      "execution_count": 15,
      "outputs": []
    },
    {
      "cell_type": "code",
      "metadata": {
        "id": "R7_d5he_9ywE"
      },
      "source": [
        "def preprocess(x, y):\n",
        "    \"\"\"\n",
        "      Prétraiter x et y\n",
        "    : param x: Feature Liste des phrases\n",
        "    : param y: Label Liste des phrases\n",
        "    : return: Tuple de (pré-traité x, pré-traité y, x tokenizer, y tokenizer)\n",
        "    \"\"\"\n",
        "    preprocess_x, x_tk = tokenize(x)\n",
        "    preprocess_y, y_tk = tokenize(y)\n",
        "\n",
        "    preprocess_x = pad(preprocess_x)\n",
        "    preprocess_y = pad(preprocess_y)\n",
        "\n",
        "    # La fonction sparse_categorical_crossentropy de Keras nécessite que les étiquettes soient en 3 dimensions\n",
        "    # Extension des dimensions\n",
        "    \n",
        "    preprocess_y = preprocess_y.reshape(*preprocess_y.shape, 1)\n",
        "\n",
        "    return preprocess_x, preprocess_y, x_tk, y_tk"
      ],
      "execution_count": 16,
      "outputs": []
    },
    {
      "cell_type": "code",
      "metadata": {
        "id": "4yDJo4gD96lH"
      },
      "source": [
        "preproc_english_sentences, preproc_french_sentences, english_tokenizer, french_tokenizer =\\\n",
        "    preprocess(english_sentences, french_sentences)"
      ],
      "execution_count": 17,
      "outputs": []
    },
    {
      "cell_type": "code",
      "metadata": {
        "id": "N5tS4iyl-Lhr",
        "colab": {
          "base_uri": "https://localhost:8080/"
        },
        "outputId": "1acec2e7-89b7-4611-a44e-8803c024fc95"
      },
      "source": [
        "max_english_sequence_length = preproc_english_sentences.shape[1]\n",
        "max_french_sequence_length = preproc_french_sentences.shape[1]\n",
        "english_vocab_size = len(english_tokenizer.word_index)\n",
        "french_vocab_size = len(french_tokenizer.word_index)\n",
        "\n",
        "print('Data Preprocessed')\n",
        "print(\"Max English sentence length:\", max_english_sequence_length)\n",
        "print(\"Max French sentence length:\", max_french_sequence_length)\n",
        "print(\"English vocabulary size:\", english_vocab_size)\n",
        "print(\"French vocabulary size:\", french_vocab_size)"
      ],
      "execution_count": 18,
      "outputs": [
        {
          "output_type": "stream",
          "text": [
            "Data Preprocessed\n",
            "Max English sentence length: 31\n",
            "Max French sentence length: 34\n",
            "English vocabulary size: 3616\n",
            "French vocabulary size: 3766\n"
          ],
          "name": "stdout"
        }
      ]
    },
    {
      "cell_type": "code",
      "metadata": {
        "id": "Kxd8wRHV-OlA"
      },
      "source": [
        "def logits_to_text(logits, tokenizer):\n",
        "  index_to_words = {id: word for word, id in tokenizer.word_index.items()}\n",
        "  index_to_words[0] = '<PAD>'\n",
        "\n",
        "   # Nous prédisons la sortie pour un mot donné, puis sélectionnons la meilleure réponse\n",
        "   # En sélectionnant cette étiquette, nous énumérons le mot à partir de l'identifiant\n",
        "    \n",
        "  return ' '.join([index_to_words[prediction] for prediction in np.argmax(logits, 1)])"
      ],
      "execution_count": 19,
      "outputs": []
    },
    {
      "cell_type": "code",
      "metadata": {
        "id": "pkGroinK-g_9"
      },
      "source": [
        "# Le reshaping l'entrée pour travailler avec un RNN de base\n",
        "\n",
        "tmp_x = pad(preproc_english_sentences, preproc_french_sentences.shape[1])\n",
        "tmp_x = tmp_x.reshape((-1, preproc_french_sentences.shape[-2]))"
      ],
      "execution_count": 20,
      "outputs": []
    },
    {
      "cell_type": "markdown",
      "metadata": {
        "id": "qzq41ASNU-pX"
      },
      "source": [
        "# ***Etape 5 les Word embedding*** \n",
        "Nous allons utilisée un prétrained model Glove word embedding "
      ]
    },
    {
      "cell_type": "code",
      "metadata": {
        "id": "BCwMiNIc56t4",
        "colab": {
          "base_uri": "https://localhost:8080/"
        },
        "outputId": "f04a07d9-eb7c-42c8-fb7e-bf6cc77b66e5"
      },
      "source": [
        "glove_dir = '/content/drive/MyDrive/glove/'\n",
        "\n",
        "embeddings_index = {}\n",
        "f = open(os.path.join(glove_dir, 'glove.6B.100d.txt'))\n",
        "for line in f:\n",
        "    values = line.split()\n",
        "    word = values[0]\n",
        "    coefs = np.asarray(values[1:], dtype='float32')\n",
        "    embeddings_index[word] = coefs\n",
        "f.close()\n",
        "\n",
        "print('Found %s word vectors.' % len(embeddings_index))"
      ],
      "execution_count": 21,
      "outputs": [
        {
          "output_type": "stream",
          "text": [
            "Found 400000 word vectors.\n"
          ],
          "name": "stdout"
        }
      ]
    },
    {
      "cell_type": "code",
      "metadata": {
        "id": "ByXen8xW59C4"
      },
      "source": [
        "embedding_dim = 100\n",
        "max_words = english_vocab_size+1\n",
        "embedding_matrix = np.zeros((max_words, embedding_dim))\n",
        "for word, i in english_tokenizer.word_index.items():\n",
        "    embedding_vector = embeddings_index.get(word)\n",
        "    if i < max_words:\n",
        "        if embedding_vector is not None:\n",
        "            # Words not found in embedding index will be all-zeros.\n",
        "            embedding_matrix[i] = embedding_vector\n"
      ],
      "execution_count": 22,
      "outputs": []
    },
    {
      "cell_type": "markdown",
      "metadata": {
        "id": "5EoAYcFZWPVi"
      },
      "source": [
        "# ***Etape 6 : Model***\n",
        "Nous allons maintenant procedé a la creation de notre model neuronal ,l'entrainer et l'evaluer puis afficher les resulat donné a partir d'un graphe"
      ]
    },
    {
      "cell_type": "code",
      "metadata": {
        "id": "T4AiU7VaCufE"
      },
      "source": [
        "from keras.layers import Dense\n",
        "from keras.layers import SimpleRNN\n",
        "def embed_modelSimpleRNN(input_shape, output_sequence_length, english_vocab_size, french_vocab_size):\n",
        "    \"\"\"\n",
        "     Créer et entraîner un modèle RNN à l'aide de l'incorporation de mots sur x et y\n",
        "     \n",
        "     : param input_shape: Tuple de la forme d'entrée\n",
        "     : param output_sequence_length: Longueur de la séquence de sortie\n",
        "     : param english_vocab_size: Nombre de mots anglais uniques dans le jeu de données\n",
        "     : param french_vocab_size: Nombre de mots français uniques dans le jeu de données\n",
        "     : return: modèle Keras construit, mais pas entraîné\n",
        "     \"\"\"\n",
        "    # Hyperparamètres\n",
        "    learning_rate = 0.005\n",
        "    \n",
        "    # Couches\n",
        "    model = Sequential()\n",
        "    model.add(Embedding(english_vocab_size, 100, weights=[embedding_matrix],input_length=input_shape[1], input_shape=input_shape[1:]))\n",
        "    model.add(SimpleRNN(256, return_sequences=True))    \n",
        "    model.add(TimeDistributed(Dense(1024, activation='relu')))\n",
        "    model.add(Dropout(0.5))\n",
        "    model.add(TimeDistributed(Dense(french_vocab_size, activation='softmax'))) \n",
        "     # Compilation du modèle\n",
        "    model.compile(loss=sparse_categorical_crossentropy,\n",
        "                  optimizer=Adam(learning_rate),\n",
        "                  metrics=['accuracy'])\n",
        "    return model\n",
        "\n",
        "rnn_model = embed_modelSimpleRNN(\n",
        "    tmp_x.shape,\n",
        "    preproc_french_sentences.shape[1],\n",
        "    len(english_tokenizer.word_index)+1,\n",
        "    len(french_tokenizer.word_index)+1)\n",
        "\n",
        "\n"
      ],
      "execution_count": 23,
      "outputs": []
    },
    {
      "cell_type": "code",
      "metadata": {
        "id": "BMIqLVr3tIXJ",
        "colab": {
          "base_uri": "https://localhost:8080/"
        },
        "outputId": "658a3572-c370-414f-df84-c51e166d14a3"
      },
      "source": [
        "history=rnn_model.fit(tmp_x, preproc_french_sentences, batch_size=1024, epochs=200, validation_split=0.2)"
      ],
      "execution_count": 24,
      "outputs": [
        {
          "output_type": "stream",
          "text": [
            "Epoch 1/200\n",
            "2/2 [==============================] - 61s 11s/step - loss: 7.9538 - accuracy: 0.1587 - val_loss: 1.6274 - val_accuracy: 0.8287\n",
            "Epoch 2/200\n",
            "2/2 [==============================] - 30s 11s/step - loss: 1.5690 - accuracy: 0.8326 - val_loss: 1.6756 - val_accuracy: 0.8292\n",
            "Epoch 3/200\n",
            "2/2 [==============================] - 30s 10s/step - loss: 1.5073 - accuracy: 0.8455 - val_loss: 1.7509 - val_accuracy: 0.8349\n",
            "Epoch 4/200\n",
            "2/2 [==============================] - 29s 10s/step - loss: 1.4957 - accuracy: 0.8498 - val_loss: 1.7634 - val_accuracy: 0.8379\n",
            "Epoch 5/200\n",
            "2/2 [==============================] - 30s 10s/step - loss: 1.4892 - accuracy: 0.8520 - val_loss: 1.7371 - val_accuracy: 0.8367\n",
            "Epoch 6/200\n",
            "2/2 [==============================] - 32s 11s/step - loss: 1.4008 - accuracy: 0.8528 - val_loss: 1.6390 - val_accuracy: 0.8372\n",
            "Epoch 7/200\n",
            "2/2 [==============================] - 31s 11s/step - loss: 1.3140 - accuracy: 0.8519 - val_loss: 1.5564 - val_accuracy: 0.8378\n",
            "Epoch 8/200\n",
            "2/2 [==============================] - 31s 10s/step - loss: 1.2039 - accuracy: 0.8524 - val_loss: 1.5020 - val_accuracy: 0.8393\n",
            "Epoch 9/200\n",
            "2/2 [==============================] - 29s 10s/step - loss: 1.1727 - accuracy: 0.8545 - val_loss: 1.5350 - val_accuracy: 0.8402\n",
            "Epoch 10/200\n",
            "2/2 [==============================] - 29s 10s/step - loss: 1.1492 - accuracy: 0.8556 - val_loss: 1.5145 - val_accuracy: 0.8376\n",
            "Epoch 11/200\n",
            "2/2 [==============================] - 30s 10s/step - loss: 1.1295 - accuracy: 0.8535 - val_loss: 1.5644 - val_accuracy: 0.8405\n",
            "Epoch 12/200\n",
            "2/2 [==============================] - 29s 10s/step - loss: 1.0942 - accuracy: 0.8552 - val_loss: 1.4728 - val_accuracy: 0.8420\n",
            "Epoch 13/200\n",
            "2/2 [==============================] - 30s 11s/step - loss: 1.0365 - accuracy: 0.8607 - val_loss: 1.5367 - val_accuracy: 0.8416\n",
            "Epoch 14/200\n",
            "2/2 [==============================] - 31s 10s/step - loss: 0.9925 - accuracy: 0.8610 - val_loss: 1.5156 - val_accuracy: 0.8432\n",
            "Epoch 15/200\n",
            "2/2 [==============================] - 30s 10s/step - loss: 0.9458 - accuracy: 0.8631 - val_loss: 1.5081 - val_accuracy: 0.8444\n",
            "Epoch 16/200\n",
            "2/2 [==============================] - 31s 10s/step - loss: 0.8931 - accuracy: 0.8661 - val_loss: 1.5531 - val_accuracy: 0.8451\n",
            "Epoch 17/200\n",
            "2/2 [==============================] - 31s 11s/step - loss: 0.8548 - accuracy: 0.8684 - val_loss: 1.5397 - val_accuracy: 0.8463\n",
            "Epoch 18/200\n",
            "2/2 [==============================] - 30s 10s/step - loss: 0.8033 - accuracy: 0.8733 - val_loss: 1.5702 - val_accuracy: 0.8465\n",
            "Epoch 19/200\n",
            "2/2 [==============================] - 31s 12s/step - loss: 0.7550 - accuracy: 0.8777 - val_loss: 1.5817 - val_accuracy: 0.8477\n",
            "Epoch 20/200\n",
            "2/2 [==============================] - 33s 12s/step - loss: 0.7170 - accuracy: 0.8827 - val_loss: 1.5878 - val_accuracy: 0.8482\n",
            "Epoch 21/200\n",
            "2/2 [==============================] - 38s 12s/step - loss: 0.6709 - accuracy: 0.8884 - val_loss: 1.6209 - val_accuracy: 0.8479\n",
            "Epoch 22/200\n",
            "2/2 [==============================] - 33s 12s/step - loss: 0.6268 - accuracy: 0.8924 - val_loss: 1.6219 - val_accuracy: 0.8493\n",
            "Epoch 23/200\n",
            "2/2 [==============================] - 32s 12s/step - loss: 0.5902 - accuracy: 0.8987 - val_loss: 1.6349 - val_accuracy: 0.8499\n",
            "Epoch 24/200\n",
            "2/2 [==============================] - 31s 12s/step - loss: 0.5451 - accuracy: 0.9045 - val_loss: 1.6498 - val_accuracy: 0.8503\n",
            "Epoch 25/200\n",
            "2/2 [==============================] - 33s 12s/step - loss: 0.5083 - accuracy: 0.9088 - val_loss: 1.6593 - val_accuracy: 0.8503\n",
            "Epoch 26/200\n",
            "2/2 [==============================] - 31s 10s/step - loss: 0.4627 - accuracy: 0.9162 - val_loss: 1.6686 - val_accuracy: 0.8518\n",
            "Epoch 27/200\n",
            "2/2 [==============================] - 31s 11s/step - loss: 0.4324 - accuracy: 0.9203 - val_loss: 1.6758 - val_accuracy: 0.8502\n",
            "Epoch 28/200\n",
            "2/2 [==============================] - 31s 11s/step - loss: 0.3955 - accuracy: 0.9272 - val_loss: 1.6849 - val_accuracy: 0.8503\n",
            "Epoch 29/200\n",
            "2/2 [==============================] - 33s 11s/step - loss: 0.3738 - accuracy: 0.9289 - val_loss: 1.6902 - val_accuracy: 0.8509\n",
            "Epoch 30/200\n",
            "2/2 [==============================] - 34s 12s/step - loss: 0.3405 - accuracy: 0.9355 - val_loss: 1.6967 - val_accuracy: 0.8506\n",
            "Epoch 31/200\n",
            "2/2 [==============================] - 31s 11s/step - loss: 0.3166 - accuracy: 0.9376 - val_loss: 1.7020 - val_accuracy: 0.8512\n",
            "Epoch 32/200\n",
            "2/2 [==============================] - 31s 10s/step - loss: 0.2933 - accuracy: 0.9407 - val_loss: 1.7082 - val_accuracy: 0.8509\n",
            "Epoch 33/200\n",
            "2/2 [==============================] - 29s 10s/step - loss: 0.2697 - accuracy: 0.9462 - val_loss: 1.7141 - val_accuracy: 0.8524\n",
            "Epoch 34/200\n",
            "2/2 [==============================] - 32s 12s/step - loss: 0.2543 - accuracy: 0.9482 - val_loss: 1.7196 - val_accuracy: 0.8517\n",
            "Epoch 35/200\n",
            "2/2 [==============================] - 30s 10s/step - loss: 0.2357 - accuracy: 0.9506 - val_loss: 1.7215 - val_accuracy: 0.8523\n",
            "Epoch 36/200\n",
            "2/2 [==============================] - 30s 10s/step - loss: 0.2186 - accuracy: 0.9552 - val_loss: 1.7294 - val_accuracy: 0.8519\n",
            "Epoch 37/200\n",
            "2/2 [==============================] - 32s 12s/step - loss: 0.2056 - accuracy: 0.9565 - val_loss: 1.7357 - val_accuracy: 0.8516\n",
            "Epoch 38/200\n",
            "2/2 [==============================] - 34s 12s/step - loss: 0.1925 - accuracy: 0.9594 - val_loss: 1.7406 - val_accuracy: 0.8520\n",
            "Epoch 39/200\n",
            "2/2 [==============================] - 32s 10s/step - loss: 0.1803 - accuracy: 0.9613 - val_loss: 1.7435 - val_accuracy: 0.8521\n",
            "Epoch 40/200\n",
            "2/2 [==============================] - 30s 10s/step - loss: 0.1661 - accuracy: 0.9642 - val_loss: 1.7513 - val_accuracy: 0.8524\n",
            "Epoch 41/200\n",
            "2/2 [==============================] - 32s 11s/step - loss: 0.1586 - accuracy: 0.9649 - val_loss: 1.7534 - val_accuracy: 0.8521\n",
            "Epoch 42/200\n",
            "2/2 [==============================] - 34s 11s/step - loss: 0.1494 - accuracy: 0.9680 - val_loss: 1.7595 - val_accuracy: 0.8523\n",
            "Epoch 43/200\n",
            "2/2 [==============================] - 33s 11s/step - loss: 0.1370 - accuracy: 0.9700 - val_loss: 1.7606 - val_accuracy: 0.8523\n",
            "Epoch 44/200\n",
            "2/2 [==============================] - 31s 11s/step - loss: 0.1335 - accuracy: 0.9712 - val_loss: 1.7658 - val_accuracy: 0.8527\n",
            "Epoch 45/200\n",
            "2/2 [==============================] - 33s 11s/step - loss: 0.1228 - accuracy: 0.9725 - val_loss: 1.7678 - val_accuracy: 0.8522\n",
            "Epoch 46/200\n",
            "2/2 [==============================] - 32s 10s/step - loss: 0.1185 - accuracy: 0.9741 - val_loss: 1.7702 - val_accuracy: 0.8515\n",
            "Epoch 47/200\n",
            "2/2 [==============================] - 31s 10s/step - loss: 0.1123 - accuracy: 0.9762 - val_loss: 1.7769 - val_accuracy: 0.8519\n",
            "Epoch 48/200\n",
            "2/2 [==============================] - 31s 10s/step - loss: 0.1036 - accuracy: 0.9774 - val_loss: 1.7830 - val_accuracy: 0.8521\n",
            "Epoch 49/200\n",
            "2/2 [==============================] - 31s 11s/step - loss: 0.1007 - accuracy: 0.9787 - val_loss: 1.7879 - val_accuracy: 0.8528\n",
            "Epoch 50/200\n",
            "2/2 [==============================] - 33s 11s/step - loss: 0.0984 - accuracy: 0.9791 - val_loss: 1.7894 - val_accuracy: 0.8529\n",
            "Epoch 51/200\n",
            "2/2 [==============================] - 32s 11s/step - loss: 0.0935 - accuracy: 0.9800 - val_loss: 1.7897 - val_accuracy: 0.8528\n",
            "Epoch 52/200\n",
            "2/2 [==============================] - 33s 12s/step - loss: 0.0877 - accuracy: 0.9812 - val_loss: 1.7950 - val_accuracy: 0.8533\n",
            "Epoch 53/200\n",
            "2/2 [==============================] - 32s 11s/step - loss: 0.0850 - accuracy: 0.9811 - val_loss: 1.7963 - val_accuracy: 0.8524\n",
            "Epoch 54/200\n",
            "2/2 [==============================] - 33s 12s/step - loss: 0.0792 - accuracy: 0.9828 - val_loss: 1.8013 - val_accuracy: 0.8530\n",
            "Epoch 55/200\n",
            "2/2 [==============================] - 33s 11s/step - loss: 0.0776 - accuracy: 0.9830 - val_loss: 1.8017 - val_accuracy: 0.8529\n",
            "Epoch 56/200\n",
            "2/2 [==============================] - 30s 10s/step - loss: 0.0708 - accuracy: 0.9846 - val_loss: 1.8062 - val_accuracy: 0.8530\n",
            "Epoch 57/200\n",
            "2/2 [==============================] - 30s 10s/step - loss: 0.0720 - accuracy: 0.9839 - val_loss: 1.8097 - val_accuracy: 0.8534\n",
            "Epoch 58/200\n",
            "2/2 [==============================] - 32s 10s/step - loss: 0.0681 - accuracy: 0.9853 - val_loss: 1.8130 - val_accuracy: 0.8527\n",
            "Epoch 59/200\n",
            "2/2 [==============================] - 30s 10s/step - loss: 0.0641 - accuracy: 0.9865 - val_loss: 1.8168 - val_accuracy: 0.8528\n",
            "Epoch 60/200\n",
            "2/2 [==============================] - 32s 12s/step - loss: 0.0619 - accuracy: 0.9859 - val_loss: 1.8178 - val_accuracy: 0.8521\n",
            "Epoch 61/200\n",
            "2/2 [==============================] - 31s 12s/step - loss: 0.0599 - accuracy: 0.9869 - val_loss: 1.8189 - val_accuracy: 0.8530\n",
            "Epoch 62/200\n",
            "2/2 [==============================] - 31s 11s/step - loss: 0.0605 - accuracy: 0.9868 - val_loss: 1.8213 - val_accuracy: 0.8523\n",
            "Epoch 63/200\n",
            "2/2 [==============================] - 31s 10s/step - loss: 0.0580 - accuracy: 0.9878 - val_loss: 1.8267 - val_accuracy: 0.8524\n",
            "Epoch 64/200\n",
            "2/2 [==============================] - 29s 10s/step - loss: 0.0579 - accuracy: 0.9872 - val_loss: 1.8273 - val_accuracy: 0.8526\n",
            "Epoch 65/200\n",
            "2/2 [==============================] - 30s 11s/step - loss: 0.0566 - accuracy: 0.9880 - val_loss: 1.8253 - val_accuracy: 0.8524\n",
            "Epoch 66/200\n",
            "2/2 [==============================] - 29s 10s/step - loss: 0.0543 - accuracy: 0.9885 - val_loss: 1.8274 - val_accuracy: 0.8529\n",
            "Epoch 67/200\n",
            "2/2 [==============================] - 31s 11s/step - loss: 0.0513 - accuracy: 0.9886 - val_loss: 1.8293 - val_accuracy: 0.8522\n",
            "Epoch 68/200\n",
            "2/2 [==============================] - 34s 11s/step - loss: 0.0506 - accuracy: 0.9894 - val_loss: 1.8394 - val_accuracy: 0.8526\n",
            "Epoch 69/200\n",
            "2/2 [==============================] - 34s 11s/step - loss: 0.0514 - accuracy: 0.9883 - val_loss: 1.8390 - val_accuracy: 0.8510\n",
            "Epoch 70/200\n",
            "2/2 [==============================] - 34s 11s/step - loss: 0.0475 - accuracy: 0.9891 - val_loss: 1.8414 - val_accuracy: 0.8524\n",
            "Epoch 71/200\n",
            "2/2 [==============================] - 31s 11s/step - loss: 0.0502 - accuracy: 0.9894 - val_loss: 1.8404 - val_accuracy: 0.8522\n",
            "Epoch 72/200\n",
            "2/2 [==============================] - 31s 10s/step - loss: 0.0477 - accuracy: 0.9899 - val_loss: 1.8541 - val_accuracy: 0.8524\n",
            "Epoch 73/200\n",
            "2/2 [==============================] - 33s 11s/step - loss: 0.0560 - accuracy: 0.9876 - val_loss: 1.8495 - val_accuracy: 0.8491\n",
            "Epoch 74/200\n",
            "2/2 [==============================] - 31s 11s/step - loss: 0.0536 - accuracy: 0.9871 - val_loss: 1.8468 - val_accuracy: 0.8522\n",
            "Epoch 75/200\n",
            "2/2 [==============================] - 31s 11s/step - loss: 0.0535 - accuracy: 0.9876 - val_loss: 1.9053 - val_accuracy: 0.8519\n",
            "Epoch 76/200\n",
            "2/2 [==============================] - 31s 11s/step - loss: 0.1611 - accuracy: 0.9681 - val_loss: 1.8428 - val_accuracy: 0.8524\n",
            "Epoch 77/200\n",
            "2/2 [==============================] - 33s 11s/step - loss: 0.0921 - accuracy: 0.9806 - val_loss: 1.8852 - val_accuracy: 0.8521\n",
            "Epoch 78/200\n",
            "2/2 [==============================] - 32s 11s/step - loss: 0.1348 - accuracy: 0.9724 - val_loss: 1.8378 - val_accuracy: 0.8510\n",
            "Epoch 79/200\n",
            "2/2 [==============================] - 32s 10s/step - loss: 0.0951 - accuracy: 0.9791 - val_loss: 1.8350 - val_accuracy: 0.8457\n",
            "Epoch 80/200\n",
            "2/2 [==============================] - 29s 10s/step - loss: 0.0960 - accuracy: 0.9787 - val_loss: 1.8271 - val_accuracy: 0.8535\n",
            "Epoch 81/200\n",
            "2/2 [==============================] - 29s 10s/step - loss: 0.0766 - accuracy: 0.9841 - val_loss: 1.8423 - val_accuracy: 0.8538\n",
            "Epoch 82/200\n",
            "2/2 [==============================] - 29s 10s/step - loss: 0.0829 - accuracy: 0.9818 - val_loss: 1.8261 - val_accuracy: 0.8533\n",
            "Epoch 83/200\n",
            "2/2 [==============================] - 29s 9s/step - loss: 0.0688 - accuracy: 0.9849 - val_loss: 1.8130 - val_accuracy: 0.8517\n",
            "Epoch 84/200\n",
            "2/2 [==============================] - 29s 10s/step - loss: 0.0655 - accuracy: 0.9861 - val_loss: 1.8091 - val_accuracy: 0.8514\n",
            "Epoch 85/200\n",
            "2/2 [==============================] - 29s 10s/step - loss: 0.0630 - accuracy: 0.9861 - val_loss: 1.8106 - val_accuracy: 0.8529\n",
            "Epoch 86/200\n",
            "2/2 [==============================] - 29s 10s/step - loss: 0.0573 - accuracy: 0.9880 - val_loss: 1.8140 - val_accuracy: 0.8535\n",
            "Epoch 87/200\n",
            "2/2 [==============================] - 29s 10s/step - loss: 0.0561 - accuracy: 0.9883 - val_loss: 1.8168 - val_accuracy: 0.8541\n",
            "Epoch 88/200\n",
            "2/2 [==============================] - 29s 9s/step - loss: 0.0496 - accuracy: 0.9891 - val_loss: 1.8213 - val_accuracy: 0.8539\n",
            "Epoch 89/200\n",
            "2/2 [==============================] - 28s 10s/step - loss: 0.0523 - accuracy: 0.9890 - val_loss: 1.8236 - val_accuracy: 0.8541\n",
            "Epoch 90/200\n",
            "2/2 [==============================] - 29s 9s/step - loss: 0.0490 - accuracy: 0.9894 - val_loss: 1.8254 - val_accuracy: 0.8555\n",
            "Epoch 91/200\n",
            "2/2 [==============================] - 29s 10s/step - loss: 0.0471 - accuracy: 0.9893 - val_loss: 1.8301 - val_accuracy: 0.8558\n",
            "Epoch 92/200\n",
            "2/2 [==============================] - 29s 10s/step - loss: 0.0453 - accuracy: 0.9905 - val_loss: 1.8328 - val_accuracy: 0.8555\n",
            "Epoch 93/200\n",
            "2/2 [==============================] - 29s 9s/step - loss: 0.0426 - accuracy: 0.9907 - val_loss: 1.8346 - val_accuracy: 0.8555\n",
            "Epoch 94/200\n",
            "2/2 [==============================] - 28s 9s/step - loss: 0.0425 - accuracy: 0.9911 - val_loss: 1.8365 - val_accuracy: 0.8550\n",
            "Epoch 95/200\n",
            "2/2 [==============================] - 29s 9s/step - loss: 0.0425 - accuracy: 0.9907 - val_loss: 1.8375 - val_accuracy: 0.8547\n",
            "Epoch 96/200\n",
            "2/2 [==============================] - 28s 9s/step - loss: 0.0386 - accuracy: 0.9910 - val_loss: 1.8391 - val_accuracy: 0.8550\n",
            "Epoch 97/200\n",
            "2/2 [==============================] - 28s 9s/step - loss: 0.0407 - accuracy: 0.9911 - val_loss: 1.8417 - val_accuracy: 0.8553\n",
            "Epoch 98/200\n",
            "2/2 [==============================] - 28s 9s/step - loss: 0.0389 - accuracy: 0.9914 - val_loss: 1.8442 - val_accuracy: 0.8552\n",
            "Epoch 99/200\n",
            "2/2 [==============================] - 28s 9s/step - loss: 0.0360 - accuracy: 0.9912 - val_loss: 1.8465 - val_accuracy: 0.8543\n",
            "Epoch 100/200\n",
            "2/2 [==============================] - 28s 9s/step - loss: 0.0374 - accuracy: 0.9917 - val_loss: 1.8479 - val_accuracy: 0.8537\n",
            "Epoch 101/200\n",
            "2/2 [==============================] - 29s 9s/step - loss: 0.0383 - accuracy: 0.9912 - val_loss: 1.8490 - val_accuracy: 0.8536\n",
            "Epoch 102/200\n",
            "2/2 [==============================] - 28s 9s/step - loss: 0.0378 - accuracy: 0.9916 - val_loss: 1.8507 - val_accuracy: 0.8537\n",
            "Epoch 103/200\n",
            "2/2 [==============================] - 29s 9s/step - loss: 0.0374 - accuracy: 0.9915 - val_loss: 1.8528 - val_accuracy: 0.8541\n",
            "Epoch 104/200\n",
            "2/2 [==============================] - 28s 9s/step - loss: 0.0346 - accuracy: 0.9916 - val_loss: 1.8543 - val_accuracy: 0.8546\n",
            "Epoch 105/200\n",
            "2/2 [==============================] - 28s 9s/step - loss: 0.0379 - accuracy: 0.9915 - val_loss: 1.8550 - val_accuracy: 0.8541\n",
            "Epoch 106/200\n",
            "2/2 [==============================] - 28s 9s/step - loss: 0.0342 - accuracy: 0.9920 - val_loss: 1.8549 - val_accuracy: 0.8539\n",
            "Epoch 107/200\n",
            "2/2 [==============================] - 28s 10s/step - loss: 0.0355 - accuracy: 0.9921 - val_loss: 1.8544 - val_accuracy: 0.8535\n",
            "Epoch 108/200\n",
            "2/2 [==============================] - 29s 9s/step - loss: 0.0332 - accuracy: 0.9919 - val_loss: 1.8542 - val_accuracy: 0.8540\n",
            "Epoch 109/200\n",
            "2/2 [==============================] - 28s 9s/step - loss: 0.0348 - accuracy: 0.9921 - val_loss: 1.8550 - val_accuracy: 0.8539\n",
            "Epoch 110/200\n",
            "2/2 [==============================] - 29s 10s/step - loss: 0.0328 - accuracy: 0.9919 - val_loss: 1.8562 - val_accuracy: 0.8540\n",
            "Epoch 111/200\n",
            "2/2 [==============================] - 29s 10s/step - loss: 0.0342 - accuracy: 0.9923 - val_loss: 1.8568 - val_accuracy: 0.8538\n",
            "Epoch 112/200\n",
            "2/2 [==============================] - 28s 9s/step - loss: 0.0342 - accuracy: 0.9924 - val_loss: 1.8561 - val_accuracy: 0.8539\n",
            "Epoch 113/200\n",
            "2/2 [==============================] - 29s 10s/step - loss: 0.0337 - accuracy: 0.9926 - val_loss: 1.8549 - val_accuracy: 0.8538\n",
            "Epoch 114/200\n",
            "2/2 [==============================] - 28s 9s/step - loss: 0.0338 - accuracy: 0.9922 - val_loss: 1.8552 - val_accuracy: 0.8536\n",
            "Epoch 115/200\n",
            "2/2 [==============================] - 29s 9s/step - loss: 0.0332 - accuracy: 0.9927 - val_loss: 1.8568 - val_accuracy: 0.8540\n",
            "Epoch 116/200\n",
            "2/2 [==============================] - 29s 9s/step - loss: 0.0321 - accuracy: 0.9922 - val_loss: 1.8591 - val_accuracy: 0.8544\n",
            "Epoch 117/200\n",
            "2/2 [==============================] - 28s 9s/step - loss: 0.0343 - accuracy: 0.9919 - val_loss: 1.8617 - val_accuracy: 0.8544\n",
            "Epoch 118/200\n",
            "2/2 [==============================] - 28s 9s/step - loss: 0.0322 - accuracy: 0.9923 - val_loss: 1.8635 - val_accuracy: 0.8547\n",
            "Epoch 119/200\n",
            "2/2 [==============================] - 30s 11s/step - loss: 0.0343 - accuracy: 0.9921 - val_loss: 1.8641 - val_accuracy: 0.8550\n",
            "Epoch 120/200\n",
            "2/2 [==============================] - 30s 11s/step - loss: 0.0335 - accuracy: 0.9924 - val_loss: 1.8636 - val_accuracy: 0.8551\n",
            "Epoch 121/200\n",
            "2/2 [==============================] - 29s 9s/step - loss: 0.0339 - accuracy: 0.9917 - val_loss: 1.8625 - val_accuracy: 0.8550\n",
            "Epoch 122/200\n",
            "2/2 [==============================] - 28s 10s/step - loss: 0.0328 - accuracy: 0.9922 - val_loss: 1.8620 - val_accuracy: 0.8550\n",
            "Epoch 123/200\n",
            "2/2 [==============================] - 29s 10s/step - loss: 0.0336 - accuracy: 0.9922 - val_loss: 1.8626 - val_accuracy: 0.8545\n",
            "Epoch 124/200\n",
            "2/2 [==============================] - 30s 11s/step - loss: 0.0335 - accuracy: 0.9923 - val_loss: 1.8632 - val_accuracy: 0.8544\n",
            "Epoch 125/200\n",
            "2/2 [==============================] - 31s 11s/step - loss: 0.0328 - accuracy: 0.9924 - val_loss: 1.8633 - val_accuracy: 0.8544\n",
            "Epoch 126/200\n",
            "2/2 [==============================] - 31s 11s/step - loss: 0.0307 - accuracy: 0.9929 - val_loss: 1.8644 - val_accuracy: 0.8546\n",
            "Epoch 127/200\n",
            "2/2 [==============================] - 32s 11s/step - loss: 0.0304 - accuracy: 0.9928 - val_loss: 1.8662 - val_accuracy: 0.8544\n",
            "Epoch 128/200\n",
            "2/2 [==============================] - 33s 11s/step - loss: 0.0295 - accuracy: 0.9927 - val_loss: 1.8674 - val_accuracy: 0.8542\n",
            "Epoch 129/200\n",
            "2/2 [==============================] - 33s 11s/step - loss: 0.0331 - accuracy: 0.9924 - val_loss: 1.8679 - val_accuracy: 0.8538\n",
            "Epoch 130/200\n",
            "2/2 [==============================] - 33s 11s/step - loss: 0.0328 - accuracy: 0.9923 - val_loss: 1.8674 - val_accuracy: 0.8542\n",
            "Epoch 131/200\n",
            "2/2 [==============================] - 33s 11s/step - loss: 0.0331 - accuracy: 0.9924 - val_loss: 1.8661 - val_accuracy: 0.8541\n",
            "Epoch 132/200\n",
            "2/2 [==============================] - 33s 11s/step - loss: 0.0318 - accuracy: 0.9922 - val_loss: 1.8652 - val_accuracy: 0.8538\n",
            "Epoch 133/200\n",
            "2/2 [==============================] - 30s 10s/step - loss: 0.0323 - accuracy: 0.9921 - val_loss: 1.8655 - val_accuracy: 0.8534\n",
            "Epoch 134/200\n",
            "2/2 [==============================] - 30s 11s/step - loss: 0.0301 - accuracy: 0.9923 - val_loss: 1.8668 - val_accuracy: 0.8542\n",
            "Epoch 135/200\n",
            "2/2 [==============================] - 30s 11s/step - loss: 0.0312 - accuracy: 0.9924 - val_loss: 1.8681 - val_accuracy: 0.8541\n",
            "Epoch 136/200\n",
            "2/2 [==============================] - 30s 11s/step - loss: 0.0316 - accuracy: 0.9927 - val_loss: 1.8695 - val_accuracy: 0.8538\n",
            "Epoch 137/200\n",
            "2/2 [==============================] - 31s 11s/step - loss: 0.0306 - accuracy: 0.9928 - val_loss: 1.8697 - val_accuracy: 0.8541\n",
            "Epoch 138/200\n",
            "2/2 [==============================] - 31s 10s/step - loss: 0.0320 - accuracy: 0.9928 - val_loss: 1.8691 - val_accuracy: 0.8540\n",
            "Epoch 139/200\n",
            "2/2 [==============================] - 29s 10s/step - loss: 0.0311 - accuracy: 0.9927 - val_loss: 1.8678 - val_accuracy: 0.8541\n",
            "Epoch 140/200\n",
            "2/2 [==============================] - 29s 10s/step - loss: 0.0310 - accuracy: 0.9927 - val_loss: 1.8667 - val_accuracy: 0.8539\n",
            "Epoch 141/200\n",
            "2/2 [==============================] - 29s 10s/step - loss: 0.0309 - accuracy: 0.9927 - val_loss: 1.8665 - val_accuracy: 0.8538\n",
            "Epoch 142/200\n",
            "2/2 [==============================] - 29s 10s/step - loss: 0.0312 - accuracy: 0.9925 - val_loss: 1.8666 - val_accuracy: 0.8538\n",
            "Epoch 143/200\n",
            "2/2 [==============================] - 29s 10s/step - loss: 0.0310 - accuracy: 0.9925 - val_loss: 1.8668 - val_accuracy: 0.8539\n",
            "Epoch 144/200\n",
            "2/2 [==============================] - 29s 10s/step - loss: 0.0319 - accuracy: 0.9925 - val_loss: 1.8673 - val_accuracy: 0.8538\n",
            "Epoch 145/200\n",
            "2/2 [==============================] - 29s 10s/step - loss: 0.0305 - accuracy: 0.9926 - val_loss: 1.8682 - val_accuracy: 0.8540\n",
            "Epoch 146/200\n",
            "2/2 [==============================] - 29s 10s/step - loss: 0.0286 - accuracy: 0.9925 - val_loss: 1.8695 - val_accuracy: 0.8539\n",
            "Epoch 147/200\n",
            "2/2 [==============================] - 29s 10s/step - loss: 0.0315 - accuracy: 0.9925 - val_loss: 1.8707 - val_accuracy: 0.8542\n",
            "Epoch 148/200\n",
            "2/2 [==============================] - 30s 10s/step - loss: 0.0315 - accuracy: 0.9923 - val_loss: 1.8721 - val_accuracy: 0.8543\n",
            "Epoch 149/200\n",
            "2/2 [==============================] - 29s 10s/step - loss: 0.0289 - accuracy: 0.9925 - val_loss: 1.8734 - val_accuracy: 0.8543\n",
            "Epoch 150/200\n",
            "2/2 [==============================] - 28s 10s/step - loss: 0.0291 - accuracy: 0.9926 - val_loss: 1.8744 - val_accuracy: 0.8545\n",
            "Epoch 151/200\n",
            "2/2 [==============================] - 29s 10s/step - loss: 0.0319 - accuracy: 0.9924 - val_loss: 1.8760 - val_accuracy: 0.8541\n",
            "Epoch 152/200\n",
            "2/2 [==============================] - 29s 10s/step - loss: 0.0318 - accuracy: 0.9925 - val_loss: 1.8779 - val_accuracy: 0.8534\n",
            "Epoch 153/200\n",
            "2/2 [==============================] - 29s 10s/step - loss: 0.0312 - accuracy: 0.9923 - val_loss: 1.8793 - val_accuracy: 0.8533\n",
            "Epoch 154/200\n",
            "2/2 [==============================] - 29s 10s/step - loss: 0.0303 - accuracy: 0.9928 - val_loss: 1.8800 - val_accuracy: 0.8534\n",
            "Epoch 155/200\n",
            "2/2 [==============================] - 29s 10s/step - loss: 0.0282 - accuracy: 0.9924 - val_loss: 1.8795 - val_accuracy: 0.8534\n",
            "Epoch 156/200\n",
            "2/2 [==============================] - 29s 10s/step - loss: 0.0314 - accuracy: 0.9925 - val_loss: 1.8777 - val_accuracy: 0.8539\n",
            "Epoch 157/200\n",
            "2/2 [==============================] - 29s 10s/step - loss: 0.0310 - accuracy: 0.9926 - val_loss: 1.8758 - val_accuracy: 0.8535\n",
            "Epoch 158/200\n",
            "2/2 [==============================] - 29s 10s/step - loss: 0.0307 - accuracy: 0.9928 - val_loss: 1.8745 - val_accuracy: 0.8536\n",
            "Epoch 159/200\n",
            "2/2 [==============================] - 29s 10s/step - loss: 0.0296 - accuracy: 0.9927 - val_loss: 1.8744 - val_accuracy: 0.8529\n",
            "Epoch 160/200\n",
            "2/2 [==============================] - 29s 10s/step - loss: 0.0286 - accuracy: 0.9926 - val_loss: 1.8754 - val_accuracy: 0.8530\n",
            "Epoch 161/200\n",
            "2/2 [==============================] - 29s 10s/step - loss: 0.0297 - accuracy: 0.9926 - val_loss: 1.8769 - val_accuracy: 0.8531\n",
            "Epoch 162/200\n",
            "2/2 [==============================] - 32s 11s/step - loss: 0.0286 - accuracy: 0.9923 - val_loss: 1.8777 - val_accuracy: 0.8531\n",
            "Epoch 163/200\n",
            "2/2 [==============================] - 31s 10s/step - loss: 0.0297 - accuracy: 0.9923 - val_loss: 1.8786 - val_accuracy: 0.8534\n",
            "Epoch 164/200\n",
            "2/2 [==============================] - 29s 10s/step - loss: 0.0287 - accuracy: 0.9926 - val_loss: 1.8793 - val_accuracy: 0.8533\n",
            "Epoch 165/200\n",
            "2/2 [==============================] - 32s 11s/step - loss: 0.0288 - accuracy: 0.9925 - val_loss: 1.8794 - val_accuracy: 0.8533\n",
            "Epoch 166/200\n",
            "2/2 [==============================] - 29s 10s/step - loss: 0.0301 - accuracy: 0.9927 - val_loss: 1.8792 - val_accuracy: 0.8534\n",
            "Epoch 167/200\n",
            "2/2 [==============================] - 29s 10s/step - loss: 0.0309 - accuracy: 0.9926 - val_loss: 1.8787 - val_accuracy: 0.8534\n",
            "Epoch 168/200\n",
            "2/2 [==============================] - 32s 10s/step - loss: 0.0299 - accuracy: 0.9929 - val_loss: 1.8785 - val_accuracy: 0.8534\n",
            "Epoch 169/200\n",
            "2/2 [==============================] - 31s 12s/step - loss: 0.0304 - accuracy: 0.9926 - val_loss: 1.8786 - val_accuracy: 0.8533\n",
            "Epoch 170/200\n",
            "2/2 [==============================] - 31s 10s/step - loss: 0.0303 - accuracy: 0.9927 - val_loss: 1.8781 - val_accuracy: 0.8528\n",
            "Epoch 171/200\n",
            "2/2 [==============================] - 30s 11s/step - loss: 0.0286 - accuracy: 0.9927 - val_loss: 1.8778 - val_accuracy: 0.8529\n",
            "Epoch 172/200\n",
            "2/2 [==============================] - 32s 10s/step - loss: 0.0295 - accuracy: 0.9930 - val_loss: 1.8779 - val_accuracy: 0.8529\n",
            "Epoch 173/200\n",
            "2/2 [==============================] - 30s 11s/step - loss: 0.0315 - accuracy: 0.9925 - val_loss: 1.8779 - val_accuracy: 0.8532\n",
            "Epoch 174/200\n",
            "2/2 [==============================] - 33s 11s/step - loss: 0.0279 - accuracy: 0.9929 - val_loss: 1.8783 - val_accuracy: 0.8535\n",
            "Epoch 175/200\n",
            "2/2 [==============================] - 30s 10s/step - loss: 0.0284 - accuracy: 0.9925 - val_loss: 1.8790 - val_accuracy: 0.8537\n",
            "Epoch 176/200\n",
            "2/2 [==============================] - 32s 10s/step - loss: 0.0304 - accuracy: 0.9927 - val_loss: 1.8799 - val_accuracy: 0.8541\n",
            "Epoch 177/200\n",
            "2/2 [==============================] - 32s 10s/step - loss: 0.0294 - accuracy: 0.9925 - val_loss: 1.8811 - val_accuracy: 0.8541\n",
            "Epoch 178/200\n",
            "2/2 [==============================] - 31s 10s/step - loss: 0.0302 - accuracy: 0.9929 - val_loss: 1.8820 - val_accuracy: 0.8536\n",
            "Epoch 179/200\n",
            "2/2 [==============================] - 31s 11s/step - loss: 0.0302 - accuracy: 0.9922 - val_loss: 1.8824 - val_accuracy: 0.8536\n",
            "Epoch 180/200\n",
            "2/2 [==============================] - 30s 10s/step - loss: 0.0303 - accuracy: 0.9923 - val_loss: 1.8831 - val_accuracy: 0.8533\n",
            "Epoch 181/200\n",
            "2/2 [==============================] - 31s 10s/step - loss: 0.0312 - accuracy: 0.9927 - val_loss: 1.8843 - val_accuracy: 0.8531\n",
            "Epoch 182/200\n",
            "2/2 [==============================] - 30s 10s/step - loss: 0.0299 - accuracy: 0.9927 - val_loss: 1.8855 - val_accuracy: 0.8530\n",
            "Epoch 183/200\n",
            "2/2 [==============================] - 30s 10s/step - loss: 0.0309 - accuracy: 0.9924 - val_loss: 1.8862 - val_accuracy: 0.8532\n",
            "Epoch 184/200\n",
            "2/2 [==============================] - 29s 10s/step - loss: 0.0286 - accuracy: 0.9927 - val_loss: 1.8867 - val_accuracy: 0.8538\n",
            "Epoch 185/200\n",
            "2/2 [==============================] - 31s 10s/step - loss: 0.0287 - accuracy: 0.9927 - val_loss: 1.8869 - val_accuracy: 0.8535\n",
            "Epoch 186/200\n",
            "2/2 [==============================] - 29s 10s/step - loss: 0.0278 - accuracy: 0.9930 - val_loss: 1.8871 - val_accuracy: 0.8536\n",
            "Epoch 187/200\n",
            "2/2 [==============================] - 29s 10s/step - loss: 0.0310 - accuracy: 0.9922 - val_loss: 1.8869 - val_accuracy: 0.8536\n",
            "Epoch 188/200\n",
            "2/2 [==============================] - 31s 10s/step - loss: 0.0300 - accuracy: 0.9925 - val_loss: 1.8866 - val_accuracy: 0.8538\n",
            "Epoch 189/200\n",
            "2/2 [==============================] - 32s 10s/step - loss: 0.0294 - accuracy: 0.9927 - val_loss: 1.8857 - val_accuracy: 0.8536\n",
            "Epoch 190/200\n",
            "2/2 [==============================] - 32s 10s/step - loss: 0.0303 - accuracy: 0.9926 - val_loss: 1.8852 - val_accuracy: 0.8534\n",
            "Epoch 191/200\n",
            "2/2 [==============================] - 30s 10s/step - loss: 0.0285 - accuracy: 0.9925 - val_loss: 1.8844 - val_accuracy: 0.8531\n",
            "Epoch 192/200\n",
            "2/2 [==============================] - 32s 10s/step - loss: 0.0309 - accuracy: 0.9926 - val_loss: 1.8831 - val_accuracy: 0.8534\n",
            "Epoch 193/200\n",
            "2/2 [==============================] - 29s 10s/step - loss: 0.0284 - accuracy: 0.9926 - val_loss: 1.8829 - val_accuracy: 0.8538\n",
            "Epoch 194/200\n",
            "2/2 [==============================] - 30s 10s/step - loss: 0.0285 - accuracy: 0.9928 - val_loss: 1.8833 - val_accuracy: 0.8535\n",
            "Epoch 195/200\n",
            "2/2 [==============================] - 33s 11s/step - loss: 0.0301 - accuracy: 0.9928 - val_loss: 1.8840 - val_accuracy: 0.8535\n",
            "Epoch 196/200\n",
            "2/2 [==============================] - 30s 11s/step - loss: 0.0278 - accuracy: 0.9925 - val_loss: 1.8846 - val_accuracy: 0.8539\n",
            "Epoch 197/200\n",
            "2/2 [==============================] - 30s 11s/step - loss: 0.0300 - accuracy: 0.9925 - val_loss: 1.8857 - val_accuracy: 0.8537\n",
            "Epoch 198/200\n",
            "2/2 [==============================] - 32s 10s/step - loss: 0.0302 - accuracy: 0.9923 - val_loss: 1.8872 - val_accuracy: 0.8535\n",
            "Epoch 199/200\n",
            "2/2 [==============================] - 33s 10s/step - loss: 0.0298 - accuracy: 0.9927 - val_loss: 1.8882 - val_accuracy: 0.8532\n",
            "Epoch 200/200\n",
            "2/2 [==============================] - 33s 10s/step - loss: 0.0285 - accuracy: 0.9926 - val_loss: 1.8886 - val_accuracy: 0.8534\n"
          ],
          "name": "stdout"
        }
      ]
    },
    {
      "cell_type": "code",
      "metadata": {
        "id": "yvMkJuBrYP0F",
        "colab": {
          "base_uri": "https://localhost:8080/"
        },
        "outputId": "91ce6338-9559-420d-b8bd-ced05a3b0dd5"
      },
      "source": [
        "scores = rnn_model.evaluate(tmp_x, preproc_french_sentences, verbose=0)\n",
        "# Displays the accuracy of correct sentiment prediction over test data\n",
        "print(\"Accuracy: %.2f%%\" % (scores[1]*100))"
      ],
      "execution_count": 25,
      "outputs": [
        {
          "output_type": "stream",
          "text": [
            "Accuracy: 96.51%\n"
          ],
          "name": "stdout"
        }
      ]
    },
    {
      "cell_type": "code",
      "metadata": {
        "id": "PTx4ARR9NGgl",
        "colab": {
          "base_uri": "https://localhost:8080/",
          "height": 545
        },
        "outputId": "2dafefc9-bd60-402a-f9fe-945cf5dc1fc3"
      },
      "source": [
        "import matplotlib.pyplot as plt\n",
        "\n",
        "acc = history.history['accuracy']\n",
        "val_acc = history.history['val_accuracy']\n",
        "loss = history.history['loss']\n",
        "val_loss = history.history['val_loss']\n",
        "\n",
        "epochs = range(len(acc))\n",
        "\n",
        "plt.plot(epochs, acc, 'bo', label='Training acc')\n",
        "plt.plot(epochs, val_acc, 'b', label='Validation acc')\n",
        "plt.title('Training and validation accuracy')\n",
        "plt.legend()\n",
        "\n",
        "plt.figure()\n",
        "\n",
        "plt.plot(epochs, loss, 'bo', label='Training loss')\n",
        "plt.plot(epochs, val_loss, 'b', label='Validation loss')\n",
        "plt.title('Training and validation loss')\n",
        "plt.legend()\n",
        "\n",
        "plt.show()"
      ],
      "execution_count": 26,
      "outputs": [
        {
          "output_type": "display_data",
          "data": {
            "image/png": "[encoded data removed]",
            "text/plain": [
              "<Figure size 432x288 with 1 Axes>"
            ]
          },
          "metadata": {
            "tags": [],
            "needs_background": "light"
          }
        },
        {
          "output_type": "display_data",
          "data": {
            "image/png": "[encoded data removed]",
            "text/plain": [
              "<Figure size 432x288 with 1 Axes>"
            ]
          },
          "metadata": {
            "tags": [],
            "needs_background": "light"
          }
        }
      ]
    },
    {
      "cell_type": "code",
      "metadata": {
        "id": "4_44LGpK-xx4"
      },
      "source": [
        "def final_predictions(text):\n",
        "  y_id_to_word = {value: key for key, value in french_tokenizer.word_index.items()}\n",
        "  y_id_to_word[0] = '<PAD>'\n",
        "\n",
        "  sentence = [english_tokenizer.word_index[word] for word in text.split()]\n",
        "  sentence = pad_sequences([sentence], maxlen=preproc_french_sentences.shape[-2], padding='post')\n",
        "  \n",
        "  print(sentence.shape)\n",
        "  print(logits_to_text(simple_rnn_model.predict(sentence[:1])[0], french_tokenizer))"
      ],
      "execution_count": 29,
      "outputs": []
    },
    {
      "cell_type": "code",
      "metadata": {
        "id": "Lm-DAR9H-4xD"
      },
      "source": [
        "rnn_model.save('model')"
      ],
      "execution_count": null,
      "outputs": []
    },
    {
      "cell_type": "code",
      "metadata": {
        "id": "onnTqdkf-_ry"
      },
      "source": [
        "! mkdir \"pickles\""
      ],
      "execution_count": null,
      "outputs": []
    },
    {
      "cell_type": "code",
      "metadata": {
        "id": "nhDpg-NB_AXV"
      },
      "source": [
        "with open('pickles/french_tokenizer.pickle', 'wb') as handle:\n",
        "    pickle.dump(french_tokenizer, handle, protocol=pickle.HIGHEST_PROTOCOL)\n",
        "\n",
        "with open('pickles/english_tokenizer.pickle', 'wb') as handle:\n",
        "    pickle.dump(english_tokenizer, handle, protocol=pickle.HIGHEST_PROTOCOL)\n",
        "\n",
        "with open('pickles/preproc_french_sentences.pickle', 'wb') as handle:\n",
        "    pickle.dump(preproc_french_sentences, handle, protocol=pickle.HIGHEST_PROTOCOL) "
      ],
      "execution_count": null,
      "outputs": []
    }
  ]
}