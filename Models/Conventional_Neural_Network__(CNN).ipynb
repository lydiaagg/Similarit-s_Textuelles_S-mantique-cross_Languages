{
  "nbformat": 4,
  "nbformat_minor": 0,
  "metadata": {
    "colab": {
      "name": "Conventional_Neural_Network _(CNN).ipynb",
      "provenance": [],
      "collapsed_sections": []
    },
    "kernelspec": {
      "display_name": "Python 3",
      "name": "python3"
    },
    "language_info": {
      "name": "python"
    }
  },
  "cells": [
    {
      "cell_type": "code",
      "metadata": {
        "id": "xyCAqBpNCnPq"
      },
      "source": [
        "%%capture\n",
        "# Install the latest Tensorflow version.\n",
        "!pip install tensorflow_text\n",
        "!pip install bokeh\n",
        "!pip install simpleneighbors[annoy]\n",
        "!pip install tqdm\n",
        "!pip install unidecode"
      ],
      "execution_count": 1,
      "outputs": []
    },
    {
      "cell_type": "code",
      "metadata": {
        "id": "8JlNt2Iu72or"
      },
      "source": [
        "import os,re,collections\n",
        "import numpy as np\n",
        "\n",
        "import keras\n",
        "from keras.preprocessing.text import Tokenizer\n",
        "from keras.preprocessing.sequence import pad_sequences\n",
        "from keras.models import Model, Sequential\n",
        "from keras.layers import GRU,LSTM, Input, Dense, TimeDistributed, Activation, RepeatVector, Bidirectional, Dropout, LSTM\n",
        "from keras.layers.embeddings import Embedding\n",
        "from keras.optimizers import Adam\n",
        "from keras.losses import sparse_categorical_crossentropy\n",
        "import tensorflow.compat.v2 as tf\n",
        "import pickle"
      ],
      "execution_count": 2,
      "outputs": []
    },
    {
      "cell_type": "code",
      "metadata": {
        "id": "7K6Wg73CM1yt"
      },
      "source": [
        "import zipfile\n",
        "from google.colab import drive\n",
        "\n",
        "\n",
        "#nous allons extraire nos données qui se trouvent dans un fichier zip dans notre drive \n",
        "zip_ref = zipfile.ZipFile(\"/content/drive/MyDrive/rebuilt.Cross-Language-Dataset-master.zip\", 'r')\n",
        "zip_ref.extractall(\"/tmp\")\n",
        "zip_ref.close()"
      ],
      "execution_count": null,
      "outputs": []
    },
    {
      "cell_type": "code",
      "metadata": {
        "id": "cBlohYw1Wb77"
      },
      "source": [
        "#nous allons experimenter une partie de nos donnée dans cette partie on commence par le corpus APR \n",
        "English_Dataset = tf.data.Dataset.list_files(\"/tmp/Cross-Language-Dataset-master/dataset/chunks/APR/en/*.txt\")\n",
        "Frensh_Dataset = tf.data.Dataset.list_files(\"/tmp/Cross-Language-Dataset-master/dataset/chunks/APR/fr/*.txt\")\n"
      ],
      "execution_count": 4,
      "outputs": []
    },
    {
      "cell_type": "code",
      "metadata": {
        "id": "xH58fu-j_in7"
      },
      "source": [
        "#nous allons organiser nos fichier text de sort a ce que les fichier en francais aille leur traduction anglaise\n",
        "English_DatasetFiles=list(English_Dataset.as_numpy_iterator())\n",
        "English_DatasetFiles.sort()\n",
        "Frensh_DatasetFiles=list(Frensh_Dataset .as_numpy_iterator())\n",
        "Frensh_DatasetFiles.sort()"
      ],
      "execution_count": 5,
      "outputs": []
    },
    {
      "cell_type": "code",
      "metadata": {
        "id": "AtJR_FFUUQ0d"
      },
      "source": [
        "#cette fonction permet d'extraire extrait les donnees des fichier\n",
        "def load_data(Files):\n",
        "  sentences=[]\n",
        "  for file_content in Files: \n",
        "    with open(file_content, \"r\") as f:\n",
        "      data = f.read()\n",
        "      sentences.append(data)\n",
        "  return sentences\n",
        "\n",
        "english_sentences=load_data(English_DatasetFiles)\n",
        "french_sentences=load_data(Frensh_DatasetFiles)\n"
      ],
      "execution_count": 6,
      "outputs": []
    },
    {
      "cell_type": "code",
      "metadata": {
        "colab": {
          "base_uri": "https://localhost:8080/"
        },
        "id": "ITcf0jAdfy6u",
        "outputId": "7eef59ca-6fb5-498b-ef55-eaa8971f9b97"
      },
      "source": [
        "for i in range(5):\n",
        "  print('Sample :',i)\n",
        "  print(english_sentences[i])\n",
        "  print(french_sentences[i])\n",
        "  print('-'*50)"
      ],
      "execution_count": 7,
      "outputs": [
        {
          "output_type": "stream",
          "text": [
            "Sample : 0\n",
            "the association gregory lemarchal\n",
            "\n",
            "l' association gregory lemarchal\n",
            "\n",
            "--------------------------------------------------\n",
            "Sample : 1\n",
            "after the dresden file\n",
            "\n",
            "après les dossier dresden\n",
            "\n",
            "--------------------------------------------------\n",
            "Sample : 2\n",
            "the tradition of lanfeust troy\n",
            "invention of reverse auctions\n",
            "\n",
            "la tradition lanfeust de troy\n",
            "invention des ventes aux enchères\n",
            "\n",
            "--------------------------------------------------\n",
            "Sample : 3\n",
            "the manner of dos passos\n",
            "\n",
            "la manière de dos passos\n",
            "\n",
            "--------------------------------------------------\n",
            "Sample : 4\n",
            "trace of fat in this book\n",
            "\n",
            "trace de gras dans le livre\n",
            "\n",
            "--------------------------------------------------\n"
          ],
          "name": "stdout"
        }
      ]
    },
    {
      "cell_type": "code",
      "metadata": {
        "colab": {
          "base_uri": "https://localhost:8080/"
        },
        "id": "gth9wlQr9j3f",
        "outputId": "130a69a8-c953-46c3-9915-610d04cc1d1a"
      },
      "source": [
        "english_words_counter = collections.Counter([word for sentence in english_sentences for word in sentence.split()])\n",
        "french_words_counter = collections.Counter([word for sentence in french_sentences for word in sentence.split()])\n",
        "\n",
        "print('English Vocab:',len(english_words_counter))\n",
        "print('French Vocab:',len(french_words_counter))"
      ],
      "execution_count": 8,
      "outputs": [
        {
          "output_type": "stream",
          "text": [
            "English Vocab: 4036\n",
            "French Vocab: 4309\n"
          ],
          "name": "stdout"
        }
      ]
    },
    {
      "cell_type": "code",
      "metadata": {
        "id": "ZP0AOadJ9lCz"
      },
      "source": [
        "def tokenize(x):\n",
        "  tokenizer = Tokenizer()\n",
        "  tokenizer.fit_on_texts(x)\n",
        "  return tokenizer.texts_to_sequences(x), tokenizer"
      ],
      "execution_count": 9,
      "outputs": []
    },
    {
      "cell_type": "code",
      "metadata": {
        "id": "vL_rK09M9vJf"
      },
      "source": [
        "def pad(x, length=None):\n",
        "  return pad_sequences(x, maxlen=length, padding='post')"
      ],
      "execution_count": 10,
      "outputs": []
    },
    {
      "cell_type": "code",
      "metadata": {
        "id": "R7_d5he_9ywE"
      },
      "source": [
        "def preprocess(x, y):\n",
        "    \"\"\"\n",
        "      Prétraiter x et y\n",
        "    : param x: Feature Liste des phrases\n",
        "    : param y: Label Liste des phrases\n",
        "    : return: Tuple de (pré-traité x, pré-traité y, x tokenizer, y tokenizer)\n",
        "    \"\"\"\n",
        "    preprocess_x, x_tk = tokenize(x)\n",
        "    preprocess_y, y_tk = tokenize(y)\n",
        "\n",
        "    preprocess_x = pad(preprocess_x)\n",
        "    preprocess_y = pad(preprocess_y)\n",
        "\n",
        "    # La fonction sparse_categorical_crossentropy de Keras nécessite que les étiquettes soient en 3 dimensions\n",
        "    # Extension des dimensions\n",
        "    \n",
        "    preprocess_y = preprocess_y.reshape(*preprocess_y.shape, 1)\n",
        "\n",
        "    return preprocess_x, preprocess_y, x_tk, y_tk"
      ],
      "execution_count": 11,
      "outputs": []
    },
    {
      "cell_type": "code",
      "metadata": {
        "id": "4yDJo4gD96lH"
      },
      "source": [
        "preproc_english_sentences, preproc_french_sentences, english_tokenizer, french_tokenizer =\\\n",
        "    preprocess(english_sentences, french_sentences)"
      ],
      "execution_count": 12,
      "outputs": []
    },
    {
      "cell_type": "code",
      "metadata": {
        "colab": {
          "base_uri": "https://localhost:8080/"
        },
        "id": "N5tS4iyl-Lhr",
        "outputId": "1ec4b7e3-94f3-4896-ddbb-e9dbef2718de"
      },
      "source": [
        "max_english_sequence_length = preproc_english_sentences.shape[1]\n",
        "max_french_sequence_length = preproc_french_sentences.shape[1]\n",
        "english_vocab_size = len(english_tokenizer.word_index)\n",
        "french_vocab_size = len(french_tokenizer.word_index)\n",
        "\n",
        "print('Data Preprocessed')\n",
        "print(\"Max English sentence length:\", max_english_sequence_length)\n",
        "print(\"Max French sentence length:\", max_french_sequence_length)\n",
        "print(\"English vocabulary size:\", english_vocab_size)\n",
        "print(\"French vocabulary size:\", french_vocab_size)"
      ],
      "execution_count": 13,
      "outputs": [
        {
          "output_type": "stream",
          "text": [
            "Data Preprocessed\n",
            "Max English sentence length: 44\n",
            "Max French sentence length: 46\n",
            "English vocabulary size: 4020\n",
            "French vocabulary size: 4294\n"
          ],
          "name": "stdout"
        }
      ]
    },
    {
      "cell_type": "code",
      "metadata": {
        "id": "Kxd8wRHV-OlA"
      },
      "source": [
        "def logits_to_text(logits, tokenizer):\n",
        "  index_to_words = {id: word for word, id in tokenizer.word_index.items()}\n",
        "  index_to_words[0] = '<PAD>'\n",
        "\n",
        "   # Nous prédisons la sortie pour un mot donné, puis sélectionnons la meilleure réponse\n",
        "   # En sélectionnant cette étiquette, nous énumérons le mot à partir de l'identifiant\n",
        "    \n",
        "  return ' '.join([index_to_words[prediction] for prediction in np.argmax(logits, 1)])"
      ],
      "execution_count": 14,
      "outputs": []
    },
    {
      "cell_type": "code",
      "metadata": {
        "id": "pkGroinK-g_9"
      },
      "source": [
        "\n",
        "tmp_x = pad(preproc_english_sentences, preproc_french_sentences.shape[1])\n",
        "tmp_x = tmp_x.reshape((-1, preproc_french_sentences.shape[-2]))"
      ],
      "execution_count": 15,
      "outputs": []
    },
    {
      "cell_type": "code",
      "metadata": {
        "colab": {
          "base_uri": "https://localhost:8080/"
        },
        "id": "BCwMiNIc56t4",
        "outputId": "4dc9adff-2cfd-4d5e-9792-d5d19f8b4b0b"
      },
      "source": [
        "glove_dir = '/content/drive/MyDrive/glove/'\n",
        "\n",
        "embeddings_index = {}\n",
        "f = open(os.path.join(glove_dir, 'glove.6B.100d.txt'))\n",
        "for line in f:\n",
        "    values = line.split()\n",
        "    word = values[0]\n",
        "    coefs = np.asarray(values[1:], dtype='float32')\n",
        "    embeddings_index[word] = coefs\n",
        "f.close()\n",
        "\n",
        "print('Found %s word vectors.' % len(embeddings_index))"
      ],
      "execution_count": 17,
      "outputs": [
        {
          "output_type": "stream",
          "text": [
            "Found 400000 word vectors.\n"
          ],
          "name": "stdout"
        }
      ]
    },
    {
      "cell_type": "code",
      "metadata": {
        "id": "ByXen8xW59C4"
      },
      "source": [
        "embedding_dim = 100\n",
        "max_words = 4021\n",
        "embedding_matrix = np.zeros((max_words, embedding_dim))\n",
        "for word, i in english_tokenizer.word_index.items():\n",
        "    embedding_vector = embeddings_index.get(word)\n",
        "    if i < max_words:\n",
        "        if embedding_vector is not None:\n",
        "            # Words not found in embedding index will be all-zeros.\n",
        "            embedding_matrix[i] = embedding_vector\n"
      ],
      "execution_count": 18,
      "outputs": []
    },
    {
      "cell_type": "code",
      "metadata": {
        "colab": {
          "base_uri": "https://localhost:8080/"
        },
        "id": "XnixYmFgeEgs",
        "outputId": "a2fd619f-c13c-4419-de5e-2d9be66f8c8b"
      },
      "source": [
        "from keras.layers import Dense\n",
        "from keras.layers import Conv1D, MaxPooling1D,Flatten\n",
        "from keras import metrics\n",
        "\n",
        "def embed_modelCNN(input_shape, output_sequence_length, english_vocab_size, french_vocab_size):\n",
        "    \n",
        "   \n",
        "    # Hyperparamètres\n",
        "     learning_rate = 0.05\n",
        "    \n",
        "# define model\n",
        "     model = Sequential()\n",
        "     model.add(Embedding(english_vocab_size, 100, weights=[embedding_matrix], input_shape=input_shape[1:],  trainable=False))\n",
        "     model.add(layers.Conv1D(32, 7, activation='relu'))\n",
        "     model.add(layers.MaxPooling1D(5))\n",
        "     model.add(layers.Conv1D(french_vocab_size, 7, activation='relu'))\n",
        "     model.add(layers.GlobalMaxPooling1D())\n",
        "     model.add(layers.Dense(1))\n",
        "     print(model.summary())\n",
        "    \n",
        "     model.compile(loss='mean_absolute_error', optimizer='Adam',metrics=['accuracy'])\n",
        "     return model\n",
        "\n",
        "cnn_model = embed_modelCNN(\n",
        "    tmp_x.shape,\n",
        "    preproc_french_sentences.shape[1],\n",
        "    len(english_tokenizer.word_index)+1,\n",
        "    len(french_tokenizer.word_index)+1)\n",
        "\n",
        "history=cnn_model.fit(tmp_x, preproc_french_sentences, batch_size=1024, epochs=20, validation_split=0.2)\n",
        "scores = cnn_model.evaluate(tmp_x, preproc_french_sentences, verbose=0)\n",
        "# Displays the accuracy of correct sentiment prediction over test data\n",
        "print(\"Accuracy: %.2f%%\" % (scores[1]*100))\n"
      ],
      "execution_count": 80,
      "outputs": [
        {
          "output_type": "stream",
          "text": [
            "Model: \"sequential_46\"\n",
            "_________________________________________________________________\n",
            "Layer (type)                 Output Shape              Param #   \n",
            "=================================================================\n",
            "embedding_40 (Embedding)     (None, 46, 100)           402100    \n",
            "_________________________________________________________________\n",
            "conv1d_53 (Conv1D)           (None, 40, 32)            22432     \n",
            "_________________________________________________________________\n",
            "max_pooling1d_19 (MaxPooling (None, 8, 32)             0         \n",
            "_________________________________________________________________\n",
            "conv1d_54 (Conv1D)           (None, 2, 4295)           966375    \n",
            "_________________________________________________________________\n",
            "global_max_pooling1d_24 (Glo (None, 4295)              0         \n",
            "_________________________________________________________________\n",
            "dense_52 (Dense)             (None, 1)                 4296      \n",
            "=================================================================\n",
            "Total params: 1,395,203\n",
            "Trainable params: 993,103\n",
            "Non-trainable params: 402,100\n",
            "_________________________________________________________________\n",
            "None\n",
            "Epoch 1/20\n",
            "2/2 [==============================] - 4s 1s/step - loss: 119.9731 - accuracy: 0.7146 - val_loss: 186.1456 - val_accuracy: 0.3904\n",
            "Epoch 2/20\n",
            "2/2 [==============================] - 3s 910ms/step - loss: 120.0615 - accuracy: 0.4391 - val_loss: 185.7776 - val_accuracy: 0.7863\n",
            "Epoch 3/20\n",
            "2/2 [==============================] - 3s 939ms/step - loss: 119.5200 - accuracy: 0.8216 - val_loss: 185.7505 - val_accuracy: 0.8200\n",
            "Epoch 4/20\n",
            "2/2 [==============================] - 3s 1s/step - loss: 120.6253 - accuracy: 0.8335 - val_loss: 185.7282 - val_accuracy: 0.8211\n",
            "Epoch 5/20\n",
            "2/2 [==============================] - 4s 1s/step - loss: 119.3693 - accuracy: 0.8357 - val_loss: 185.6835 - val_accuracy: 0.8185\n",
            "Epoch 6/20\n",
            "2/2 [==============================] - 3s 907ms/step - loss: 119.3874 - accuracy: 0.8346 - val_loss: 185.7004 - val_accuracy: 0.8185\n",
            "Epoch 7/20\n",
            "2/2 [==============================] - 3s 982ms/step - loss: 119.1475 - accuracy: 0.8350 - val_loss: 185.7011 - val_accuracy: 0.8185\n",
            "Epoch 8/20\n",
            "2/2 [==============================] - 3s 879ms/step - loss: 121.1889 - accuracy: 0.8327 - val_loss: 185.6943 - val_accuracy: 0.8185\n",
            "Epoch 9/20\n",
            "2/2 [==============================] - 3s 900ms/step - loss: 120.0334 - accuracy: 0.8337 - val_loss: 185.6847 - val_accuracy: 0.8185\n",
            "Epoch 10/20\n",
            "2/2 [==============================] - 3s 1s/step - loss: 119.4612 - accuracy: 0.8341 - val_loss: 185.6840 - val_accuracy: 0.8185\n",
            "Epoch 11/20\n",
            "2/2 [==============================] - 3s 951ms/step - loss: 119.5942 - accuracy: 0.8344 - val_loss: 185.6872 - val_accuracy: 0.8185\n",
            "Epoch 12/20\n",
            "2/2 [==============================] - 3s 902ms/step - loss: 120.2383 - accuracy: 0.8335 - val_loss: 185.6844 - val_accuracy: 0.8185\n",
            "Epoch 13/20\n",
            "2/2 [==============================] - 3s 921ms/step - loss: 120.7602 - accuracy: 0.8329 - val_loss: 185.6808 - val_accuracy: 0.8169\n",
            "Epoch 14/20\n",
            "2/2 [==============================] - 3s 887ms/step - loss: 118.9831 - accuracy: 0.8338 - val_loss: 185.6837 - val_accuracy: 0.8185\n",
            "Epoch 15/20\n",
            "2/2 [==============================] - 3s 1s/step - loss: 119.4560 - accuracy: 0.8339 - val_loss: 185.6842 - val_accuracy: 0.8185\n",
            "Epoch 16/20\n",
            "2/2 [==============================] - 4s 867ms/step - loss: 120.6567 - accuracy: 0.8318 - val_loss: 185.6819 - val_accuracy: 0.8185\n",
            "Epoch 17/20\n",
            "2/2 [==============================] - 3s 863ms/step - loss: 118.3680 - accuracy: 0.8334 - val_loss: 185.6813 - val_accuracy: 0.8185\n",
            "Epoch 18/20\n",
            "2/2 [==============================] - 3s 869ms/step - loss: 119.1574 - accuracy: 0.8331 - val_loss: 185.6821 - val_accuracy: 0.8158\n",
            "Epoch 19/20\n",
            "2/2 [==============================] - 3s 1s/step - loss: 119.5944 - accuracy: 0.8324 - val_loss: 185.6813 - val_accuracy: 0.8128\n",
            "Epoch 20/20\n",
            "2/2 [==============================] - 4s 1s/step - loss: 120.2217 - accuracy: 0.8323 - val_loss: 185.6835 - val_accuracy: 0.8128\n",
            "Accuracy: 82.85%\n"
          ],
          "name": "stdout"
        }
      ]
    },
    {
      "cell_type": "code",
      "metadata": {
        "colab": {
          "base_uri": "https://localhost:8080/",
          "height": 545
        },
        "id": "_lrSLLX83I20",
        "outputId": "c8ac45aa-a025-4bf0-acd0-58d7d6406d02"
      },
      "source": [
        "import matplotlib.pyplot as plt\n",
        "\n",
        "acc = history.history['accuracy']\n",
        "val_acc = history.history['val_accuracy']\n",
        "loss = history.history['loss']\n",
        "val_loss = history.history['val_loss']\n",
        "\n",
        "epochs = range(len(acc))\n",
        "\n",
        "plt.plot(epochs, acc, 'bo', label='Training acc')\n",
        "plt.plot(epochs, val_acc, 'b', label='Validation acc')\n",
        "plt.title('Training and validation accuracy')\n",
        "plt.legend()\n",
        "\n",
        "plt.figure()\n",
        "\n",
        "plt.plot(epochs, loss, 'bo', label='Training loss')\n",
        "plt.plot(epochs, val_loss, 'b', label='Validation loss')\n",
        "plt.title('Training and validation loss')\n",
        "plt.legend()\n",
        "\n",
        "plt.show()"
      ],
      "execution_count": 81,
      "outputs": [
        {
          "output_type": "display_data",
          "data": {
            "image/png": "[encoded data removed]",
            "text/plain": [
              "<Figure size 432x288 with 1 Axes>"
            ]
          },
          "metadata": {
            "tags": [],
            "needs_background": "light"
          }
        },
        {
          "output_type": "display_data",
          "data": {
            "image/png": "[encoded data removed]",
            "text/plain": [
              "<Figure size 432x288 with 1 Axes>"
            ]
          },
          "metadata": {
            "tags": [],
            "needs_background": "light"
          }
        }
      ]
    },
    {
      "cell_type": "code",
      "metadata": {
        "id": "4_44LGpK-xx4"
      },
      "source": [
        "def final_predictions(text):\n",
        "  y_id_to_word = {value: key for key, value in french_tokenizer.word_index.items()}\n",
        "  y_id_to_word[0] = '<PAD>'\n",
        "\n",
        "  sentence = [english_tokenizer.word_index[word] for word in text.split()]\n",
        "  sentence = pad_sequences([sentence], maxlen=preproc_french_sentences.shape[-2], padding='post')\n",
        "  \n",
        "  print(sentence.shape)\n",
        "  print(logits_to_text(simple_rnn_model.predict(sentence[:1])[0], french_tokenizer))"
      ],
      "execution_count": null,
      "outputs": []
    },
    {
      "cell_type": "code",
      "metadata": {
        "id": "Lm-DAR9H-4xD"
      },
      "source": [
        "simple_rnn_model.save('model')"
      ],
      "execution_count": null,
      "outputs": []
    },
    {
      "cell_type": "code",
      "metadata": {
        "id": "onnTqdkf-_ry"
      },
      "source": [
        "! mkdir \"pickles\""
      ],
      "execution_count": null,
      "outputs": []
    },
    {
      "cell_type": "code",
      "metadata": {
        "id": "nhDpg-NB_AXV"
      },
      "source": [
        "with open('pickles/french_tokenizer.pickle', 'wb') as handle:\n",
        "    pickle.dump(french_tokenizer, handle, protocol=pickle.HIGHEST_PROTOCOL)\n",
        "\n",
        "with open('pickles/english_tokenizer.pickle', 'wb') as handle:\n",
        "    pickle.dump(english_tokenizer, handle, protocol=pickle.HIGHEST_PROTOCOL)\n",
        "\n",
        "with open('pickles/preproc_french_sentences.pickle', 'wb') as handle:\n",
        "    pickle.dump(preproc_french_sentences, handle, protocol=pickle.HIGHEST_PROTOCOL) "
      ],
      "execution_count": null,
      "outputs": []
    }
  ]
}