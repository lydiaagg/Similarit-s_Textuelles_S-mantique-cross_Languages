{
  "nbformat": 4,
  "nbformat_minor": 0,
  "metadata": {
    "colab": {
      "name": "Conventional_Neural_Network _(CNN).ipynb",
      "provenance": [],
      "collapsed_sections": []
    },
    "kernelspec": {
      "display_name": "Python 3",
      "name": "python3"
    },
    "language_info": {
      "name": "python"
    }
  },
  "cells": [
    {
      "cell_type": "code",
      "metadata": {
        "id": "xyCAqBpNCnPq"
      },
      "source": [
        "%%capture\n",
        "# Install the latest Tensorflow version.\n",
        "!pip install tensorflow_text\n",
        "!pip install bokeh\n",
        "!pip install simpleneighbors[annoy]\n",
        "!pip install tqdm\n",
        "!pip install unidecode"
      ],
      "execution_count": 1,
      "outputs": []
    },
    {
      "cell_type": "code",
      "metadata": {
        "id": "OMNG_uy7DoDD"
      },
      "source": [
        "import os,re,collections\n",
        "import numpy as np\n",
        "\n",
        "import keras\n",
        "from keras.preprocessing.text import Tokenizer\n",
        "from keras.preprocessing.sequence import pad_sequences\n",
        "from keras.models import Model, Sequential\n",
        "from keras.layers import GRU,LSTM, Input, Dense, TimeDistributed, Activation, RepeatVector, Bidirectional, Dropout, LSTM\n",
        "from keras.layers.embeddings import Embedding\n",
        "from keras.optimizers import Adam\n",
        "from keras.losses import sparse_categorical_crossentropy\n",
        "import tensorflow.compat.v2 as tf\n",
        "import pickle"
      ],
      "execution_count": 2,
      "outputs": []
    },
    {
      "cell_type": "markdown",
      "metadata": {
        "id": "_vt2rQCOPz74"
      },
      "source": [
        "## ***Etape 1 : Chargement de données*** \n",
        " Nous allons extraire les données qui se trouvent dans le zip dans le drive ainsi pouvoirs les exploité facilement puis nous allons organiser les fichier de sort a ce que chaque phrase aille sa traduction dans le fichier correspondant,les phrase qui seront extraitent du fichier vont étre prétraiter "
      ]
    },
    {
      "cell_type": "code",
      "metadata": {
        "id": "tc-Nd6AxZzyd"
      },
      "source": [
        "import zipfile\n",
        "\n",
        "#nous allons extraire nos données qui se trouvent dans un fichier zip dans notre drive \n",
        "zip_ref = zipfile.ZipFile(\"/content/drive/MyDrive/rebuilt.Cross-Language-Dataset-master.zip\", 'r')\n",
        "zip_ref.extractall(\"/tmp\")\n",
        "zip_ref.close()"
      ],
      "execution_count": null,
      "outputs": []
    },
    {
      "cell_type": "code",
      "metadata": {
        "id": "NohB7jO3jL0w"
      },
      "source": [
        "#nous allons experimenter une partie de nos donnée dans cette partie on commence par le corpus APR \n",
        "English_Dataset= tf.data.Dataset.list_files(\"/tmp/Cross-Language-Dataset-master/dataset/chunks/APR/en/*.txt\")\n",
        "Frensh_Dataset = tf.data.Dataset.list_files(\"/tmp/Cross-Language-Dataset-master/dataset/chunks/APR/fr/*.txt\")\n"
      ],
      "execution_count": 5,
      "outputs": []
    },
    {
      "cell_type": "code",
      "metadata": {
        "id": "xH58fu-j_in7"
      },
      "source": [
        "#nous allons organiser nos fichier text de sort a ce que les fichier en francais aille leur traduction anglaise\n",
        "English_DatasetFiles=list(English_Dataset.as_numpy_iterator())\n",
        "English_DatasetFiles.sort()\n",
        "Frensh_DatasetFiles=list(Frensh_Dataset .as_numpy_iterator())\n",
        "Frensh_DatasetFiles.sort()"
      ],
      "execution_count": 6,
      "outputs": []
    },
    {
      "cell_type": "code",
      "metadata": {
        "id": "AtJR_FFUUQ0d"
      },
      "source": [
        "#cette fonction permet d'extraire extrait les donnees des fichier\n",
        "def load_data(Files):\n",
        "  sentences=[]\n",
        "  for file_content in Files: \n",
        "    with open(file_content, \"r\") as f:\n",
        "      data = f.read()\n",
        "      sentences.append(data)\n",
        "  return sentences\n",
        "\n",
        "english_sentences=load_data(English_DatasetFiles)\n",
        "french_sentences=load_data(Frensh_DatasetFiles)\n"
      ],
      "execution_count": 7,
      "outputs": []
    },
    {
      "cell_type": "code",
      "metadata": {
        "colab": {
          "base_uri": "https://localhost:8080/"
        },
        "id": "ITcf0jAdfy6u",
        "outputId": "f5dd275b-6f19-47af-d5ae-264b75d2f58c"
      },
      "source": [
        "for i in range(5):\n",
        "  print('Sample :',i)\n",
        "  print(english_sentences[i])\n",
        "  print(french_sentences[i])\n",
        "  print('-'*50)\n",
        "  "
      ],
      "execution_count": 8,
      "outputs": [
        {
          "output_type": "stream",
          "text": [
            "Sample : 0\n",
            "the association gregory lemarchal\n",
            "\n",
            "l' association gregory lemarchal\n",
            "\n",
            "--------------------------------------------------\n",
            "Sample : 1\n",
            "after the dresden file\n",
            "\n",
            "après les dossier dresden\n",
            "\n",
            "--------------------------------------------------\n",
            "Sample : 2\n",
            "the tradition of lanfeust troy\n",
            "invention of reverse auctions\n",
            "\n",
            "la tradition lanfeust de troy\n",
            "invention des ventes aux enchères\n",
            "\n",
            "--------------------------------------------------\n",
            "Sample : 3\n",
            "the manner of dos passos\n",
            "\n",
            "la manière de dos passos\n",
            "\n",
            "--------------------------------------------------\n",
            "Sample : 4\n",
            "trace of fat in this book\n",
            "\n",
            "trace de gras dans le livre\n",
            "\n",
            "--------------------------------------------------\n"
          ],
          "name": "stdout"
        }
      ]
    },
    {
      "cell_type": "markdown",
      "metadata": {
        "id": "vcTWq6nvOmDQ"
      },
      "source": [
        "# ***Etape 2 : Stopwords***\n",
        "première manipulation souvent effectuée dans le traitement du texte est la suppression de ce qu'on appelle en anglais les stopwords. Ce sont les mots très courants dans la langue étudiée (\"et\", \"à\", \"le\"... en français) qui n'apportent pas de valeur informative pour la compréhension du \"sens\" d'un document et corpus. Il sont très fréquents et ralentissent notre travail : nous souhaitons donc les supprimer.\n",
        "\n",
        "Il existe dans la librairie NLTK une liste par défaut des stopwords dans plusieurs Langues"
      ]
    },
    {
      "cell_type": "code",
      "metadata": {
        "colab": {
          "base_uri": "https://localhost:8080/"
        },
        "id": "e0hrikyVlnAw",
        "outputId": "79a6e40a-3580-4d46-fceb-48f499c26b75"
      },
      "source": [
        "\n",
        "import nltk\n",
        "nltk.download('stopwords')\n",
        "from nltk.corpus import stopwords\n",
        "#pour supprimer les stopword de chaque langue\n",
        "def remove_stopwords(text,langue):\n",
        "    STOPWORDS = set(stopwords.words(langue))\n",
        "    \"\"\"custom function to remove the stopwords\"\"\"\n",
        "    return \" \".join([word for word in str(text).split() if word not in STOPWORDS])\n",
        "#supprimer les stopword dans une liste de phrase\n",
        "def remove(sentences,langue):\n",
        "    values=[]\n",
        "    for text in sentences:\n",
        "       values.append(remove_stopwords(text,langue))\n",
        "    return values\n"
      ],
      "execution_count": 9,
      "outputs": [
        {
          "output_type": "stream",
          "text": [
            "[nltk_data] Downloading package stopwords to /root/nltk_data...\n",
            "[nltk_data]   Unzipping corpora/stopwords.zip.\n"
          ],
          "name": "stdout"
        }
      ]
    },
    {
      "cell_type": "code",
      "metadata": {
        "id": "6FFU2kwwlp3r"
      },
      "source": [
        "\n",
        "english_sentences=remove(english_sentences,'english')\n",
        "french_sentences=remove(french_sentences,'french')"
      ],
      "execution_count": 10,
      "outputs": []
    },
    {
      "cell_type": "code",
      "metadata": {
        "colab": {
          "base_uri": "https://localhost:8080/"
        },
        "id": "gth9wlQr9j3f",
        "outputId": "9a236d5d-02b9-4ece-fd44-1a99ea4b0239"
      },
      "source": [
        "english_words_counter = collections.Counter([word for sentence in english_sentences for word in sentence.split()])\n",
        "french_words_counter = collections.Counter([word for sentence in french_sentences for word in sentence.split()])\n",
        "\n",
        "print('English Vocab:',len(english_words_counter))\n",
        "print('French Vocab:',len(french_words_counter))"
      ],
      "execution_count": 11,
      "outputs": [
        {
          "output_type": "stream",
          "text": [
            "English Vocab: 3981\n",
            "French Vocab: 4271\n"
          ],
          "name": "stdout"
        }
      ]
    },
    {
      "cell_type": "markdown",
      "metadata": {
        "id": "tGEo2THGR3hr"
      },
      "source": [
        "# ***Etape 3 :le Stemming*** \n",
        "racinisation(ou stemming en anglais). Cela consiste à ne conserver que la racine des mots étudiés. L'idée étant de supprimer les suffixes, préfixes et autres des mots afin de ne conserver que leur origine. C'est un procédé plus simple que la lemmatisation et plus rapide à effectuer puisqu'on tronque les mots essentiellement contrairement à la lemmatisation qui nécessite d'utiliser un dictionnaire.Dans notre cas, on va effectuer une racinisation parce qu'il n'existe pas de fonction de lemmatisation de corpus français dans NLTK"
      ]
    },
    {
      "cell_type": "code",
      "metadata": {
        "id": "y3gDnA9XoD2Q"
      },
      "source": [
        "from nltk.stem.porter import PorterStemmer\n",
        "from nltk.stem.snowball import SnowballStemmer\n",
        "\n",
        "def stem_words_langue(text,langue):\n",
        "    stemmer2=SnowballStemmer(langue)\n",
        "    return \" \".join([stemmer2.stem(word) for word in text.split()])\n",
        "\n",
        "def stemming_langue(sentences,langue):\n",
        "  values=[]\n",
        "  for text in sentences:\n",
        "    values.append(stem_words_langue(text,langue))\n",
        "  return values\n",
        " "
      ],
      "execution_count": 12,
      "outputs": []
    },
    {
      "cell_type": "code",
      "metadata": {
        "id": "9Zds9TdSQEnn"
      },
      "source": [
        "\n",
        "english_sentences=stemming_langue(english_sentences,'english')\n",
        "french_sentences=stemming_langue(french_sentences,'french')"
      ],
      "execution_count": 13,
      "outputs": []
    },
    {
      "cell_type": "markdown",
      "metadata": {
        "id": "gfDrPIYqTiPv"
      },
      "source": [
        "## ***Etape 4 : la tokenisation***\n",
        "La tokenisation est la division du texte brut en petits morceaux de mots ou de phrases, appelés jetons.Chaque phrase prend son sens par les mots qu'elle contient. Ainsi, en analysant les mots présents dans le texte, nous pouvons facilement interpréter le sens du texte. Une fois que nous avons une liste de mots, nous pouvons également utiliser des outils et des méthodes statistiques pour mieux comprendre le texte. Par exemple, nous pouvons utiliser le nombre de mots et la fréquence des mots pour découvrir l'importance d'un mot dans cette phrase ou ce document."
      ]
    },
    {
      "cell_type": "code",
      "metadata": {
        "id": "ZP0AOadJ9lCz"
      },
      "source": [
        "def tokenize(x):\n",
        "  tokenizer = Tokenizer()\n",
        "  tokenizer.fit_on_texts(x)\n",
        "  return tokenizer.texts_to_sequences(x), tokenizer"
      ],
      "execution_count": 14,
      "outputs": []
    },
    {
      "cell_type": "code",
      "metadata": {
        "id": "vL_rK09M9vJf"
      },
      "source": [
        "def pad(x, length=None):\n",
        "  return pad_sequences(x, maxlen=length, padding='post')"
      ],
      "execution_count": 15,
      "outputs": []
    },
    {
      "cell_type": "code",
      "metadata": {
        "id": "R7_d5he_9ywE"
      },
      "source": [
        "def preprocess(x, y):\n",
        "    \"\"\"\n",
        "      Prétraiter x et y\n",
        "    : param x: Feature Liste des phrases\n",
        "    : param y: Label Liste des phrases\n",
        "    : return: Tuple de (pré-traité x, pré-traité y, x tokenizer, y tokenizer)\n",
        "    \"\"\"\n",
        "    preprocess_x, x_tk = tokenize(x)\n",
        "    preprocess_y, y_tk = tokenize(y)\n",
        "\n",
        "    preprocess_x = pad(preprocess_x)\n",
        "    preprocess_y = pad(preprocess_y)\n",
        "\n",
        "    # La fonction sparse_categorical_crossentropy de Keras nécessite que les étiquettes soient en 3 dimensions\n",
        "    # Extension des dimensions\n",
        "    \n",
        "    preprocess_y = preprocess_y.reshape(*preprocess_y.shape, 1)\n",
        "\n",
        "    return preprocess_x, preprocess_y, x_tk, y_tk"
      ],
      "execution_count": 16,
      "outputs": []
    },
    {
      "cell_type": "code",
      "metadata": {
        "id": "4yDJo4gD96lH"
      },
      "source": [
        "preproc_english_sentences, preproc_french_sentences, english_tokenizer, french_tokenizer =\\\n",
        "    preprocess(english_sentences, french_sentences)"
      ],
      "execution_count": 17,
      "outputs": []
    },
    {
      "cell_type": "code",
      "metadata": {
        "colab": {
          "base_uri": "https://localhost:8080/"
        },
        "id": "N5tS4iyl-Lhr",
        "outputId": "4eea205d-a197-4455-9640-47eef008b630"
      },
      "source": [
        "max_english_sequence_length = preproc_english_sentences.shape[1]\n",
        "max_french_sequence_length = preproc_french_sentences.shape[1]\n",
        "english_vocab_size = len(english_tokenizer.word_index)\n",
        "french_vocab_size = len(french_tokenizer.word_index)\n",
        "\n",
        "print('Data Preprocessed')\n",
        "print(\"Max English sentence length:\", max_english_sequence_length)\n",
        "print(\"Max French sentence length:\", max_french_sequence_length)\n",
        "print(\"English vocabulary size:\", english_vocab_size)\n",
        "print(\"French vocabulary size:\", french_vocab_size)"
      ],
      "execution_count": 18,
      "outputs": [
        {
          "output_type": "stream",
          "text": [
            "Data Preprocessed\n",
            "Max English sentence length: 31\n",
            "Max French sentence length: 34\n",
            "English vocabulary size: 3616\n",
            "French vocabulary size: 3766\n"
          ],
          "name": "stdout"
        }
      ]
    },
    {
      "cell_type": "code",
      "metadata": {
        "id": "Kxd8wRHV-OlA"
      },
      "source": [
        "def logits_to_text(logits, tokenizer):\n",
        "  index_to_words = {id: word for word, id in tokenizer.word_index.items()}\n",
        "  index_to_words[0] = '<PAD>'\n",
        "\n",
        "   # Nous prédisons la sortie pour un mot donné, puis sélectionnons la meilleure réponse\n",
        "   # En sélectionnant cette étiquette, nous énumérons le mot à partir de l'identifiant\n",
        "    \n",
        "  return ' '.join([index_to_words[prediction] for prediction in np.argmax(logits, 1)])"
      ],
      "execution_count": 19,
      "outputs": []
    },
    {
      "cell_type": "code",
      "metadata": {
        "id": "pkGroinK-g_9"
      },
      "source": [
        "\n",
        "tmp_x = pad(preproc_english_sentences, preproc_french_sentences.shape[1])\n",
        "tmp_x = tmp_x.reshape((-1, preproc_french_sentences.shape[-2]))"
      ],
      "execution_count": 20,
      "outputs": []
    },
    {
      "cell_type": "markdown",
      "metadata": {
        "id": "qzq41ASNU-pX"
      },
      "source": [
        "# ***Etape 5 les Word embedding*** \n",
        "Nous allons utilisée un prétrained model Glove word embedding "
      ]
    },
    {
      "cell_type": "code",
      "metadata": {
        "colab": {
          "base_uri": "https://localhost:8080/"
        },
        "id": "BCwMiNIc56t4",
        "outputId": "cc136381-8f24-4f6d-fff0-de33762162de"
      },
      "source": [
        "glove_dir = '/content/drive/MyDrive/glove/'\n",
        "\n",
        "embeddings_index = {}\n",
        "f = open(os.path.join(glove_dir, 'glove.6B.100d.txt'))\n",
        "for line in f:\n",
        "    values = line.split()\n",
        "    word = values[0]\n",
        "    coefs = np.asarray(values[1:], dtype='float32')\n",
        "    embeddings_index[word] = coefs\n",
        "f.close()\n",
        "\n",
        "print('Found %s word vectors.' % len(embeddings_index))"
      ],
      "execution_count": 21,
      "outputs": [
        {
          "output_type": "stream",
          "text": [
            "Found 400000 word vectors.\n"
          ],
          "name": "stdout"
        }
      ]
    },
    {
      "cell_type": "code",
      "metadata": {
        "id": "ByXen8xW59C4"
      },
      "source": [
        "embedding_dim = 100\n",
        "max_words = english_vocab_size+1\n",
        "embedding_matrix = np.zeros((max_words, embedding_dim))\n",
        "for word, i in english_tokenizer.word_index.items():\n",
        "    embedding_vector = embeddings_index.get(word)\n",
        "    if i < max_words:\n",
        "        if embedding_vector is not None:\n",
        "            # Words not found in embedding index will be all-zeros.\n",
        "            embedding_matrix[i] = embedding_vector\n"
      ],
      "execution_count": 22,
      "outputs": []
    },
    {
      "cell_type": "markdown",
      "metadata": {
        "id": "5EoAYcFZWPVi"
      },
      "source": [
        "# ***Etape 6 : Model***\n",
        "Nous allons maintenant procedé a la creation de notre model neuronal ,l'entrainer et l'evaluer puis afficher les resulat donné a partir d'un graphe"
      ]
    },
    {
      "cell_type": "code",
      "metadata": {
        "id": "VUOB9AAhehFN"
      },
      "source": [
        "from keras.layers import Dense\n",
        "from keras.layers import Conv1D, MaxPooling1D,Flatten\n",
        "from keras import metrics,layers\n"
      ],
      "execution_count": 23,
      "outputs": []
    },
    {
      "cell_type": "code",
      "metadata": {
        "id": "u6hbZcofTqN-",
        "colab": {
          "base_uri": "https://localhost:8080/"
        },
        "outputId": "646939ee-06bf-4b79-9217-1d6f3b7f246f"
      },
      "source": [
        "from keras.layers import Dense\n",
        "from keras.layers import Conv1D, MaxPooling1D,Flatten\n",
        "from keras import metrics,layers\n",
        "\n",
        "def embed_modelCNN(input_shape, output_sequence_length, english_vocab_size, french_vocab_size):\n",
        "    \n",
        "   \n",
        "    # Hyperparamètres\n",
        "     learning_rate = 0.05\n",
        "    \n",
        "# define model\n",
        "     model = Sequential()\n",
        "     model.add(Embedding(english_vocab_size, 100, weights=[embedding_matrix], input_shape=input_shape[1:],  trainable=False))\n",
        "     model.add(layers.Conv1D(32, 3,padding=\"same\", activation='relu'))\n",
        "     model.add(layers.MaxPooling1D(5))\n",
        "     model.add(layers.Conv1D(french_vocab_size, 3, activation='relu'))\n",
        "     model.add(layers.GlobalMaxPooling1D())\n",
        "     model.add(layers.Dense(1))\n",
        "     print(model.summary())\n",
        "    \n",
        "     model.compile(loss='mean_absolute_error', optimizer=Adam(learning_rate),metrics=['accuracy'])\n",
        "     return model\n",
        "\n",
        "cnn_model = embed_modelCNN(\n",
        "    tmp_x.shape,\n",
        "    preproc_french_sentences.shape[1],\n",
        "    len(english_tokenizer.word_index)+1,\n",
        "    len(french_tokenizer.word_index)+1)\n",
        "\n",
        "history=cnn_model.fit(tmp_x, preproc_french_sentences, batch_size=1024, epochs=200, validation_split=0.2)\n",
        "scores = cnn_model.evaluate(tmp_x, preproc_french_sentences, verbose=0)\n",
        "# Displays the accuracy of correct sentiment prediction over test data\n",
        "print(\"Accuracy: %.2f%%\" % (scores[1]*100))"
      ],
      "execution_count": 24,
      "outputs": [
        {
          "output_type": "stream",
          "text": [
            "Model: \"sequential\"\n",
            "_________________________________________________________________\n",
            "Layer (type)                 Output Shape              Param #   \n",
            "=================================================================\n",
            "embedding (Embedding)        (None, 34, 100)           361700    \n",
            "_________________________________________________________________\n",
            "conv1d (Conv1D)              (None, 34, 32)            9632      \n",
            "_________________________________________________________________\n",
            "max_pooling1d (MaxPooling1D) (None, 6, 32)             0         \n",
            "_________________________________________________________________\n",
            "conv1d_1 (Conv1D)            (None, 4, 3767)           365399    \n",
            "_________________________________________________________________\n",
            "global_max_pooling1d (Global (None, 3767)              0         \n",
            "_________________________________________________________________\n",
            "dense (Dense)                (None, 1)                 3768      \n",
            "=================================================================\n",
            "Total params: 740,499\n",
            "Trainable params: 378,799\n",
            "Non-trainable params: 361,700\n",
            "_________________________________________________________________\n",
            "None\n",
            "Epoch 1/200\n",
            "2/2 [==============================] - 17s 943ms/step - loss: 159.3894 - accuracy: 0.6956 - val_loss: 204.2736 - val_accuracy: 0.0054\n",
            "Epoch 2/200\n",
            "2/2 [==============================] - 1s 428ms/step - loss: 136.6606 - accuracy: 0.1442 - val_loss: 194.5105 - val_accuracy: 0.8334\n",
            "Epoch 3/200\n",
            "2/2 [==============================] - 1s 446ms/step - loss: 129.6669 - accuracy: 0.8477 - val_loss: 194.4158 - val_accuracy: 0.8193\n",
            "Epoch 4/200\n",
            "2/2 [==============================] - 1s 428ms/step - loss: 128.0117 - accuracy: 0.8395 - val_loss: 194.0383 - val_accuracy: 0.8177\n",
            "Epoch 5/200\n",
            "2/2 [==============================] - 1s 434ms/step - loss: 129.0410 - accuracy: 0.8343 - val_loss: 193.9906 - val_accuracy: 0.8257\n",
            "Epoch 6/200\n",
            "2/2 [==============================] - 1s 424ms/step - loss: 130.5463 - accuracy: 0.8429 - val_loss: 194.0063 - val_accuracy: 0.8334\n",
            "Epoch 7/200\n",
            "2/2 [==============================] - 1s 442ms/step - loss: 130.7681 - accuracy: 0.8473 - val_loss: 193.9907 - val_accuracy: 0.8334\n",
            "Epoch 8/200\n",
            "2/2 [==============================] - 1s 428ms/step - loss: 130.0259 - accuracy: 0.8478 - val_loss: 193.9937 - val_accuracy: 0.8302\n",
            "Epoch 9/200\n",
            "2/2 [==============================] - 1s 428ms/step - loss: 129.4780 - accuracy: 0.8484 - val_loss: 193.9996 - val_accuracy: 0.8276\n",
            "Epoch 10/200\n",
            "2/2 [==============================] - 1s 440ms/step - loss: 128.2340 - accuracy: 0.8478 - val_loss: 193.9967 - val_accuracy: 0.8245\n",
            "Epoch 11/200\n",
            "2/2 [==============================] - 1s 435ms/step - loss: 128.7941 - accuracy: 0.8443 - val_loss: 194.0021 - val_accuracy: 0.8153\n",
            "Epoch 12/200\n",
            "2/2 [==============================] - 1s 440ms/step - loss: 129.5649 - accuracy: 0.8410 - val_loss: 194.0005 - val_accuracy: 0.8100\n",
            "Epoch 13/200\n",
            "2/2 [==============================] - 1s 430ms/step - loss: 128.2160 - accuracy: 0.8409 - val_loss: 194.0034 - val_accuracy: 0.8077\n",
            "Epoch 14/200\n",
            "2/2 [==============================] - 1s 443ms/step - loss: 130.4293 - accuracy: 0.8378 - val_loss: 194.0085 - val_accuracy: 0.8061\n",
            "Epoch 15/200\n",
            "2/2 [==============================] - 1s 429ms/step - loss: 129.7563 - accuracy: 0.8359 - val_loss: 194.0158 - val_accuracy: 0.8078\n",
            "Epoch 16/200\n",
            "2/2 [==============================] - 1s 430ms/step - loss: 129.5717 - accuracy: 0.8359 - val_loss: 194.0277 - val_accuracy: 0.8084\n",
            "Epoch 17/200\n",
            "2/2 [==============================] - 1s 454ms/step - loss: 128.7520 - accuracy: 0.8365 - val_loss: 194.0370 - val_accuracy: 0.8084\n",
            "Epoch 18/200\n",
            "2/2 [==============================] - 1s 427ms/step - loss: 128.7963 - accuracy: 0.8369 - val_loss: 194.0619 - val_accuracy: 0.8084\n",
            "Epoch 19/200\n",
            "2/2 [==============================] - 1s 436ms/step - loss: 129.4177 - accuracy: 0.8361 - val_loss: 194.0915 - val_accuracy: 0.8050\n",
            "Epoch 20/200\n",
            "2/2 [==============================] - 1s 431ms/step - loss: 129.7287 - accuracy: 0.8362 - val_loss: 194.1502 - val_accuracy: 0.8013\n",
            "Epoch 21/200\n",
            "2/2 [==============================] - 1s 435ms/step - loss: 129.1474 - accuracy: 0.8351 - val_loss: 194.2079 - val_accuracy: 0.8052\n",
            "Epoch 22/200\n",
            "2/2 [==============================] - 1s 447ms/step - loss: 129.9394 - accuracy: 0.8373 - val_loss: 194.2765 - val_accuracy: 0.8055\n",
            "Epoch 23/200\n",
            "2/2 [==============================] - 1s 441ms/step - loss: 129.5835 - accuracy: 0.8390 - val_loss: 194.3378 - val_accuracy: 0.8074\n",
            "Epoch 24/200\n",
            "2/2 [==============================] - 1s 441ms/step - loss: 129.3425 - accuracy: 0.8401 - val_loss: 194.3951 - val_accuracy: 0.8106\n",
            "Epoch 25/200\n",
            "2/2 [==============================] - 1s 429ms/step - loss: 129.9427 - accuracy: 0.8398 - val_loss: 194.3769 - val_accuracy: 0.8156\n",
            "Epoch 26/200\n",
            "2/2 [==============================] - 1s 432ms/step - loss: 129.8831 - accuracy: 0.8403 - val_loss: 194.3929 - val_accuracy: 0.8156\n",
            "Epoch 27/200\n",
            "2/2 [==============================] - 1s 436ms/step - loss: 129.1976 - accuracy: 0.8424 - val_loss: 194.4070 - val_accuracy: 0.8121\n",
            "Epoch 28/200\n",
            "2/2 [==============================] - 1s 426ms/step - loss: 128.0591 - accuracy: 0.8441 - val_loss: 194.4185 - val_accuracy: 0.8177\n",
            "Epoch 29/200\n",
            "2/2 [==============================] - 1s 436ms/step - loss: 128.5341 - accuracy: 0.8455 - val_loss: 194.4240 - val_accuracy: 0.8177\n",
            "Epoch 30/200\n",
            "2/2 [==============================] - 1s 438ms/step - loss: 128.2266 - accuracy: 0.8457 - val_loss: 194.4756 - val_accuracy: 0.8151\n",
            "Epoch 31/200\n",
            "2/2 [==============================] - 1s 445ms/step - loss: 128.3603 - accuracy: 0.8449 - val_loss: 194.5035 - val_accuracy: 0.8140\n",
            "Epoch 32/200\n",
            "2/2 [==============================] - 1s 430ms/step - loss: 128.1604 - accuracy: 0.8450 - val_loss: 194.4913 - val_accuracy: 0.8140\n",
            "Epoch 33/200\n",
            "2/2 [==============================] - 1s 438ms/step - loss: 128.6555 - accuracy: 0.8443 - val_loss: 194.4995 - val_accuracy: 0.8114\n",
            "Epoch 34/200\n",
            "2/2 [==============================] - 1s 427ms/step - loss: 128.2653 - accuracy: 0.8439 - val_loss: 194.5429 - val_accuracy: 0.8140\n",
            "Epoch 35/200\n",
            "2/2 [==============================] - 1s 427ms/step - loss: 129.4062 - accuracy: 0.8452 - val_loss: 194.5652 - val_accuracy: 0.8140\n",
            "Epoch 36/200\n",
            "2/2 [==============================] - 1s 438ms/step - loss: 129.8738 - accuracy: 0.8465 - val_loss: 194.6584 - val_accuracy: 0.8114\n",
            "Epoch 37/200\n",
            "2/2 [==============================] - 1s 429ms/step - loss: 128.5821 - accuracy: 0.8460 - val_loss: 194.7285 - val_accuracy: 0.8094\n",
            "Epoch 38/200\n",
            "2/2 [==============================] - 1s 441ms/step - loss: 129.2309 - accuracy: 0.8435 - val_loss: 194.6796 - val_accuracy: 0.8094\n",
            "Epoch 39/200\n",
            "2/2 [==============================] - 1s 429ms/step - loss: 128.8743 - accuracy: 0.8458 - val_loss: 194.5763 - val_accuracy: 0.8114\n",
            "Epoch 40/200\n",
            "2/2 [==============================] - 1s 436ms/step - loss: 128.5032 - accuracy: 0.8467 - val_loss: 194.4857 - val_accuracy: 0.8140\n",
            "Epoch 41/200\n",
            "2/2 [==============================] - 1s 431ms/step - loss: 128.5044 - accuracy: 0.8470 - val_loss: 194.4709 - val_accuracy: 0.8166\n",
            "Epoch 42/200\n",
            "2/2 [==============================] - 1s 426ms/step - loss: 128.6815 - accuracy: 0.8466 - val_loss: 194.4956 - val_accuracy: 0.8166\n",
            "Epoch 43/200\n",
            "2/2 [==============================] - 1s 438ms/step - loss: 129.1067 - accuracy: 0.8462 - val_loss: 194.5351 - val_accuracy: 0.8166\n",
            "Epoch 44/200\n",
            "2/2 [==============================] - 1s 428ms/step - loss: 129.2141 - accuracy: 0.8463 - val_loss: 194.5507 - val_accuracy: 0.8191\n",
            "Epoch 45/200\n",
            "2/2 [==============================] - 1s 458ms/step - loss: 129.0205 - accuracy: 0.8459 - val_loss: 194.5350 - val_accuracy: 0.8217\n",
            "Epoch 46/200\n",
            "2/2 [==============================] - 1s 438ms/step - loss: 128.5547 - accuracy: 0.8466 - val_loss: 194.4829 - val_accuracy: 0.8217\n",
            "Epoch 47/200\n",
            "2/2 [==============================] - 1s 423ms/step - loss: 129.2833 - accuracy: 0.8462 - val_loss: 194.4578 - val_accuracy: 0.8217\n",
            "Epoch 48/200\n",
            "2/2 [==============================] - 1s 448ms/step - loss: 129.1832 - accuracy: 0.8466 - val_loss: 194.4706 - val_accuracy: 0.8217\n",
            "Epoch 49/200\n",
            "2/2 [==============================] - 1s 435ms/step - loss: 129.0825 - accuracy: 0.8459 - val_loss: 194.4842 - val_accuracy: 0.8217\n",
            "Epoch 50/200\n",
            "2/2 [==============================] - 1s 432ms/step - loss: 128.7135 - accuracy: 0.8453 - val_loss: 194.4969 - val_accuracy: 0.8217\n",
            "Epoch 51/200\n",
            "2/2 [==============================] - 1s 433ms/step - loss: 129.2184 - accuracy: 0.8458 - val_loss: 194.5112 - val_accuracy: 0.8217\n",
            "Epoch 52/200\n",
            "2/2 [==============================] - 1s 442ms/step - loss: 129.2406 - accuracy: 0.8454 - val_loss: 194.5177 - val_accuracy: 0.8217\n",
            "Epoch 53/200\n",
            "2/2 [==============================] - 1s 440ms/step - loss: 129.1539 - accuracy: 0.8447 - val_loss: 194.5231 - val_accuracy: 0.8217\n",
            "Epoch 54/200\n",
            "2/2 [==============================] - 1s 437ms/step - loss: 129.1677 - accuracy: 0.8455 - val_loss: 194.5283 - val_accuracy: 0.8217\n",
            "Epoch 55/200\n",
            "2/2 [==============================] - 1s 433ms/step - loss: 128.0991 - accuracy: 0.8464 - val_loss: 194.5409 - val_accuracy: 0.8217\n",
            "Epoch 56/200\n",
            "2/2 [==============================] - 1s 434ms/step - loss: 128.6662 - accuracy: 0.8458 - val_loss: 194.5456 - val_accuracy: 0.8217\n",
            "Epoch 57/200\n",
            "2/2 [==============================] - 1s 441ms/step - loss: 129.8746 - accuracy: 0.8449 - val_loss: 194.5400 - val_accuracy: 0.8217\n",
            "Epoch 58/200\n",
            "2/2 [==============================] - 1s 438ms/step - loss: 129.2108 - accuracy: 0.8451 - val_loss: 194.5347 - val_accuracy: 0.8217\n",
            "Epoch 59/200\n",
            "2/2 [==============================] - 1s 432ms/step - loss: 128.4957 - accuracy: 0.8456 - val_loss: 194.5330 - val_accuracy: 0.8217\n",
            "Epoch 60/200\n",
            "2/2 [==============================] - 1s 442ms/step - loss: 128.6557 - accuracy: 0.8443 - val_loss: 194.5241 - val_accuracy: 0.8217\n",
            "Epoch 61/200\n",
            "2/2 [==============================] - 1s 430ms/step - loss: 128.9790 - accuracy: 0.8447 - val_loss: 194.5417 - val_accuracy: 0.8217\n",
            "Epoch 62/200\n",
            "2/2 [==============================] - 1s 433ms/step - loss: 129.2595 - accuracy: 0.8457 - val_loss: 194.5570 - val_accuracy: 0.8217\n",
            "Epoch 63/200\n",
            "2/2 [==============================] - 1s 426ms/step - loss: 129.0231 - accuracy: 0.8460 - val_loss: 194.5337 - val_accuracy: 0.8217\n",
            "Epoch 64/200\n",
            "2/2 [==============================] - 1s 431ms/step - loss: 128.6827 - accuracy: 0.8456 - val_loss: 194.5050 - val_accuracy: 0.8217\n",
            "Epoch 65/200\n",
            "2/2 [==============================] - 1s 436ms/step - loss: 128.9597 - accuracy: 0.8454 - val_loss: 194.5141 - val_accuracy: 0.8217\n",
            "Epoch 66/200\n",
            "2/2 [==============================] - 1s 439ms/step - loss: 129.0802 - accuracy: 0.8448 - val_loss: 194.5331 - val_accuracy: 0.8217\n",
            "Epoch 67/200\n",
            "2/2 [==============================] - 1s 441ms/step - loss: 128.1988 - accuracy: 0.8462 - val_loss: 194.5311 - val_accuracy: 0.8217\n",
            "Epoch 68/200\n",
            "2/2 [==============================] - 1s 429ms/step - loss: 128.5119 - accuracy: 0.8462 - val_loss: 194.5210 - val_accuracy: 0.8217\n",
            "Epoch 69/200\n",
            "2/2 [==============================] - 1s 432ms/step - loss: 129.0190 - accuracy: 0.8460 - val_loss: 194.5134 - val_accuracy: 0.8217\n",
            "Epoch 70/200\n",
            "2/2 [==============================] - 1s 424ms/step - loss: 129.7320 - accuracy: 0.8448 - val_loss: 194.5125 - val_accuracy: 0.8217\n",
            "Epoch 71/200\n",
            "2/2 [==============================] - 1s 428ms/step - loss: 129.2158 - accuracy: 0.8457 - val_loss: 194.5132 - val_accuracy: 0.8217\n",
            "Epoch 72/200\n",
            "2/2 [==============================] - 1s 440ms/step - loss: 128.7880 - accuracy: 0.8452 - val_loss: 194.5265 - val_accuracy: 0.8217\n",
            "Epoch 73/200\n",
            "2/2 [==============================] - 1s 431ms/step - loss: 129.4653 - accuracy: 0.8453 - val_loss: 194.5363 - val_accuracy: 0.8217\n",
            "Epoch 74/200\n",
            "2/2 [==============================] - 1s 436ms/step - loss: 128.1702 - accuracy: 0.8461 - val_loss: 194.5466 - val_accuracy: 0.8217\n",
            "Epoch 75/200\n",
            "2/2 [==============================] - 1s 430ms/step - loss: 128.2394 - accuracy: 0.8461 - val_loss: 194.5325 - val_accuracy: 0.8217\n",
            "Epoch 76/200\n",
            "2/2 [==============================] - 1s 425ms/step - loss: 128.1183 - accuracy: 0.8465 - val_loss: 194.5128 - val_accuracy: 0.8217\n",
            "Epoch 77/200\n",
            "2/2 [==============================] - 1s 434ms/step - loss: 129.0847 - accuracy: 0.8455 - val_loss: 194.5063 - val_accuracy: 0.8217\n",
            "Epoch 78/200\n",
            "2/2 [==============================] - 1s 438ms/step - loss: 128.7719 - accuracy: 0.8464 - val_loss: 194.5160 - val_accuracy: 0.8217\n",
            "Epoch 79/200\n",
            "2/2 [==============================] - 1s 442ms/step - loss: 129.1616 - accuracy: 0.8465 - val_loss: 194.5346 - val_accuracy: 0.8217\n",
            "Epoch 80/200\n",
            "2/2 [==============================] - 1s 431ms/step - loss: 128.9256 - accuracy: 0.8453 - val_loss: 194.5168 - val_accuracy: 0.8217\n",
            "Epoch 81/200\n",
            "2/2 [==============================] - 1s 431ms/step - loss: 128.0968 - accuracy: 0.8472 - val_loss: 194.4911 - val_accuracy: 0.8217\n",
            "Epoch 82/200\n",
            "2/2 [==============================] - 1s 426ms/step - loss: 128.4046 - accuracy: 0.8458 - val_loss: 194.4735 - val_accuracy: 0.8217\n",
            "Epoch 83/200\n",
            "2/2 [==============================] - 1s 432ms/step - loss: 127.3477 - accuracy: 0.8472 - val_loss: 194.4681 - val_accuracy: 0.8217\n",
            "Epoch 84/200\n",
            "2/2 [==============================] - 1s 446ms/step - loss: 129.1557 - accuracy: 0.8461 - val_loss: 194.4828 - val_accuracy: 0.8217\n",
            "Epoch 85/200\n",
            "2/2 [==============================] - 1s 425ms/step - loss: 128.5013 - accuracy: 0.8462 - val_loss: 194.4922 - val_accuracy: 0.8217\n",
            "Epoch 86/200\n",
            "2/2 [==============================] - 1s 430ms/step - loss: 129.2056 - accuracy: 0.8453 - val_loss: 194.4805 - val_accuracy: 0.8217\n",
            "Epoch 87/200\n",
            "2/2 [==============================] - 1s 430ms/step - loss: 128.8186 - accuracy: 0.8466 - val_loss: 194.4871 - val_accuracy: 0.8217\n",
            "Epoch 88/200\n",
            "2/2 [==============================] - 1s 436ms/step - loss: 128.8921 - accuracy: 0.8468 - val_loss: 194.4989 - val_accuracy: 0.8217\n",
            "Epoch 89/200\n",
            "2/2 [==============================] - 1s 437ms/step - loss: 128.2067 - accuracy: 0.8472 - val_loss: 194.4924 - val_accuracy: 0.8217\n",
            "Epoch 90/200\n",
            "2/2 [==============================] - 1s 434ms/step - loss: 128.3727 - accuracy: 0.8468 - val_loss: 194.4762 - val_accuracy: 0.8217\n",
            "Epoch 91/200\n",
            "2/2 [==============================] - 1s 439ms/step - loss: 128.6382 - accuracy: 0.8461 - val_loss: 194.4646 - val_accuracy: 0.8217\n",
            "Epoch 92/200\n",
            "2/2 [==============================] - 1s 433ms/step - loss: 129.9421 - accuracy: 0.8450 - val_loss: 194.4777 - val_accuracy: 0.8217\n",
            "Epoch 93/200\n",
            "2/2 [==============================] - 1s 432ms/step - loss: 128.5293 - accuracy: 0.8461 - val_loss: 194.5001 - val_accuracy: 0.8217\n",
            "Epoch 94/200\n",
            "2/2 [==============================] - 1s 424ms/step - loss: 128.9032 - accuracy: 0.8454 - val_loss: 194.5161 - val_accuracy: 0.8217\n",
            "Epoch 95/200\n",
            "2/2 [==============================] - 1s 443ms/step - loss: 129.6897 - accuracy: 0.8455 - val_loss: 194.5041 - val_accuracy: 0.8217\n",
            "Epoch 96/200\n",
            "2/2 [==============================] - 1s 440ms/step - loss: 128.0237 - accuracy: 0.8470 - val_loss: 194.4784 - val_accuracy: 0.8217\n",
            "Epoch 97/200\n",
            "2/2 [==============================] - 1s 435ms/step - loss: 128.7634 - accuracy: 0.8453 - val_loss: 194.4710 - val_accuracy: 0.8217\n",
            "Epoch 98/200\n",
            "2/2 [==============================] - 1s 434ms/step - loss: 130.2140 - accuracy: 0.8446 - val_loss: 194.4924 - val_accuracy: 0.8217\n",
            "Epoch 99/200\n",
            "2/2 [==============================] - 1s 438ms/step - loss: 129.5725 - accuracy: 0.8458 - val_loss: 194.5098 - val_accuracy: 0.8217\n",
            "Epoch 100/200\n",
            "2/2 [==============================] - 1s 450ms/step - loss: 128.7139 - accuracy: 0.8461 - val_loss: 194.5095 - val_accuracy: 0.8217\n",
            "Epoch 101/200\n",
            "2/2 [==============================] - 1s 430ms/step - loss: 127.6659 - accuracy: 0.8471 - val_loss: 194.4711 - val_accuracy: 0.8217\n",
            "Epoch 102/200\n",
            "2/2 [==============================] - 1s 437ms/step - loss: 128.6888 - accuracy: 0.8463 - val_loss: 194.4372 - val_accuracy: 0.8217\n",
            "Epoch 103/200\n",
            "2/2 [==============================] - 1s 439ms/step - loss: 129.2852 - accuracy: 0.8459 - val_loss: 194.4594 - val_accuracy: 0.8217\n",
            "Epoch 104/200\n",
            "2/2 [==============================] - 1s 427ms/step - loss: 128.1082 - accuracy: 0.8472 - val_loss: 194.4832 - val_accuracy: 0.8217\n",
            "Epoch 105/200\n",
            "2/2 [==============================] - 1s 431ms/step - loss: 130.0279 - accuracy: 0.8449 - val_loss: 194.5034 - val_accuracy: 0.8191\n",
            "Epoch 106/200\n",
            "2/2 [==============================] - 1s 427ms/step - loss: 128.1053 - accuracy: 0.8469 - val_loss: 194.5022 - val_accuracy: 0.8191\n",
            "Epoch 107/200\n",
            "2/2 [==============================] - 1s 430ms/step - loss: 129.9394 - accuracy: 0.8452 - val_loss: 194.4933 - val_accuracy: 0.8191\n",
            "Epoch 108/200\n",
            "2/2 [==============================] - 1s 434ms/step - loss: 128.9322 - accuracy: 0.8461 - val_loss: 194.5120 - val_accuracy: 0.8217\n",
            "Epoch 109/200\n",
            "2/2 [==============================] - 1s 432ms/step - loss: 128.8942 - accuracy: 0.8456 - val_loss: 194.5061 - val_accuracy: 0.8217\n",
            "Epoch 110/200\n",
            "2/2 [==============================] - 1s 434ms/step - loss: 129.2729 - accuracy: 0.8450 - val_loss: 194.4880 - val_accuracy: 0.8217\n",
            "Epoch 111/200\n",
            "2/2 [==============================] - 1s 429ms/step - loss: 129.1162 - accuracy: 0.8459 - val_loss: 194.4577 - val_accuracy: 0.8217\n",
            "Epoch 112/200\n",
            "2/2 [==============================] - 1s 446ms/step - loss: 130.1958 - accuracy: 0.8454 - val_loss: 194.4614 - val_accuracy: 0.8217\n",
            "Epoch 113/200\n",
            "2/2 [==============================] - 1s 427ms/step - loss: 128.0191 - accuracy: 0.8477 - val_loss: 194.4747 - val_accuracy: 0.8217\n",
            "Epoch 114/200\n",
            "2/2 [==============================] - 1s 443ms/step - loss: 128.3213 - accuracy: 0.8469 - val_loss: 194.4700 - val_accuracy: 0.8217\n",
            "Epoch 115/200\n",
            "2/2 [==============================] - 1s 434ms/step - loss: 129.1037 - accuracy: 0.8451 - val_loss: 194.4661 - val_accuracy: 0.8217\n",
            "Epoch 116/200\n",
            "2/2 [==============================] - 1s 434ms/step - loss: 129.4294 - accuracy: 0.8461 - val_loss: 194.4594 - val_accuracy: 0.8217\n",
            "Epoch 117/200\n",
            "2/2 [==============================] - 1s 433ms/step - loss: 128.8571 - accuracy: 0.8469 - val_loss: 194.4928 - val_accuracy: 0.8217\n",
            "Epoch 118/200\n",
            "2/2 [==============================] - 1s 432ms/step - loss: 128.9357 - accuracy: 0.8465 - val_loss: 194.5115 - val_accuracy: 0.8217\n",
            "Epoch 119/200\n",
            "2/2 [==============================] - 1s 437ms/step - loss: 129.3895 - accuracy: 0.8455 - val_loss: 194.5007 - val_accuracy: 0.8217\n",
            "Epoch 120/200\n",
            "2/2 [==============================] - 1s 437ms/step - loss: 129.0240 - accuracy: 0.8460 - val_loss: 194.5098 - val_accuracy: 0.8217\n",
            "Epoch 121/200\n",
            "2/2 [==============================] - 1s 441ms/step - loss: 128.8308 - accuracy: 0.8465 - val_loss: 194.4924 - val_accuracy: 0.8217\n",
            "Epoch 122/200\n",
            "2/2 [==============================] - 1s 434ms/step - loss: 129.0799 - accuracy: 0.8462 - val_loss: 194.4939 - val_accuracy: 0.8217\n",
            "Epoch 123/200\n",
            "2/2 [==============================] - 1s 424ms/step - loss: 129.2651 - accuracy: 0.8454 - val_loss: 194.5144 - val_accuracy: 0.8217\n",
            "Epoch 124/200\n",
            "2/2 [==============================] - 1s 442ms/step - loss: 129.0198 - accuracy: 0.8459 - val_loss: 194.5208 - val_accuracy: 0.8217\n",
            "Epoch 125/200\n",
            "2/2 [==============================] - 1s 430ms/step - loss: 129.3405 - accuracy: 0.8448 - val_loss: 194.5121 - val_accuracy: 0.8217\n",
            "Epoch 126/200\n",
            "2/2 [==============================] - 1s 432ms/step - loss: 128.4406 - accuracy: 0.8466 - val_loss: 194.5074 - val_accuracy: 0.8217\n",
            "Epoch 127/200\n",
            "2/2 [==============================] - 1s 440ms/step - loss: 129.0854 - accuracy: 0.8456 - val_loss: 194.5094 - val_accuracy: 0.8217\n",
            "Epoch 128/200\n",
            "2/2 [==============================] - 1s 433ms/step - loss: 128.8493 - accuracy: 0.8454 - val_loss: 194.5101 - val_accuracy: 0.8217\n",
            "Epoch 129/200\n",
            "2/2 [==============================] - 1s 438ms/step - loss: 130.3079 - accuracy: 0.8450 - val_loss: 194.4984 - val_accuracy: 0.8217\n",
            "Epoch 130/200\n",
            "2/2 [==============================] - 1s 438ms/step - loss: 129.3760 - accuracy: 0.8446 - val_loss: 194.4888 - val_accuracy: 0.8217\n",
            "Epoch 131/200\n",
            "2/2 [==============================] - 1s 447ms/step - loss: 129.0135 - accuracy: 0.8461 - val_loss: 194.4767 - val_accuracy: 0.8217\n",
            "Epoch 132/200\n",
            "2/2 [==============================] - 1s 430ms/step - loss: 129.6721 - accuracy: 0.8459 - val_loss: 194.4794 - val_accuracy: 0.8217\n",
            "Epoch 133/200\n",
            "2/2 [==============================] - 1s 431ms/step - loss: 128.9617 - accuracy: 0.8463 - val_loss: 194.4744 - val_accuracy: 0.8217\n",
            "Epoch 134/200\n",
            "2/2 [==============================] - 1s 440ms/step - loss: 130.3052 - accuracy: 0.8442 - val_loss: 194.4903 - val_accuracy: 0.8186\n",
            "Epoch 135/200\n",
            "2/2 [==============================] - 1s 428ms/step - loss: 130.2488 - accuracy: 0.8441 - val_loss: 194.5087 - val_accuracy: 0.8202\n",
            "Epoch 136/200\n",
            "2/2 [==============================] - 1s 435ms/step - loss: 129.4897 - accuracy: 0.8447 - val_loss: 194.5099 - val_accuracy: 0.8202\n",
            "Epoch 137/200\n",
            "2/2 [==============================] - 1s 427ms/step - loss: 127.6454 - accuracy: 0.8465 - val_loss: 194.4881 - val_accuracy: 0.8202\n",
            "Epoch 138/200\n",
            "2/2 [==============================] - 1s 447ms/step - loss: 129.4691 - accuracy: 0.8455 - val_loss: 194.4843 - val_accuracy: 0.8202\n",
            "Epoch 139/200\n",
            "2/2 [==============================] - 1s 449ms/step - loss: 128.5120 - accuracy: 0.8466 - val_loss: 194.4819 - val_accuracy: 0.8217\n",
            "Epoch 140/200\n",
            "2/2 [==============================] - 1s 433ms/step - loss: 128.3960 - accuracy: 0.8466 - val_loss: 194.4655 - val_accuracy: 0.8217\n",
            "Epoch 141/200\n",
            "2/2 [==============================] - 1s 442ms/step - loss: 128.2975 - accuracy: 0.8469 - val_loss: 194.4791 - val_accuracy: 0.8217\n",
            "Epoch 142/200\n",
            "2/2 [==============================] - 1s 428ms/step - loss: 130.0697 - accuracy: 0.8455 - val_loss: 194.4993 - val_accuracy: 0.8202\n",
            "Epoch 143/200\n",
            "2/2 [==============================] - 1s 441ms/step - loss: 127.5929 - accuracy: 0.8471 - val_loss: 194.4802 - val_accuracy: 0.8217\n",
            "Epoch 144/200\n",
            "2/2 [==============================] - 1s 433ms/step - loss: 129.1765 - accuracy: 0.8463 - val_loss: 194.4466 - val_accuracy: 0.8217\n",
            "Epoch 145/200\n",
            "2/2 [==============================] - 1s 430ms/step - loss: 128.8844 - accuracy: 0.8466 - val_loss: 194.4272 - val_accuracy: 0.8217\n",
            "Epoch 146/200\n",
            "2/2 [==============================] - 1s 434ms/step - loss: 128.5402 - accuracy: 0.8468 - val_loss: 194.4523 - val_accuracy: 0.8217\n",
            "Epoch 147/200\n",
            "2/2 [==============================] - 1s 442ms/step - loss: 129.3740 - accuracy: 0.8462 - val_loss: 194.4951 - val_accuracy: 0.8217\n",
            "Epoch 148/200\n",
            "2/2 [==============================] - 1s 443ms/step - loss: 129.6619 - accuracy: 0.8457 - val_loss: 194.5171 - val_accuracy: 0.8202\n",
            "Epoch 149/200\n",
            "2/2 [==============================] - 1s 458ms/step - loss: 128.1454 - accuracy: 0.8464 - val_loss: 194.4980 - val_accuracy: 0.8202\n",
            "Epoch 150/200\n",
            "2/2 [==============================] - 1s 444ms/step - loss: 129.9370 - accuracy: 0.8461 - val_loss: 194.4514 - val_accuracy: 0.8202\n",
            "Epoch 151/200\n",
            "2/2 [==============================] - 1s 434ms/step - loss: 128.8736 - accuracy: 0.8461 - val_loss: 194.4399 - val_accuracy: 0.8202\n",
            "Epoch 152/200\n",
            "2/2 [==============================] - 1s 432ms/step - loss: 129.5949 - accuracy: 0.8463 - val_loss: 194.4326 - val_accuracy: 0.8202\n",
            "Epoch 153/200\n",
            "2/2 [==============================] - 1s 445ms/step - loss: 127.6702 - accuracy: 0.8470 - val_loss: 194.4734 - val_accuracy: 0.8202\n",
            "Epoch 154/200\n",
            "2/2 [==============================] - 1s 437ms/step - loss: 129.7096 - accuracy: 0.8449 - val_loss: 194.4990 - val_accuracy: 0.8202\n",
            "Epoch 155/200\n",
            "2/2 [==============================] - 1s 438ms/step - loss: 130.1695 - accuracy: 0.8452 - val_loss: 194.4966 - val_accuracy: 0.8202\n",
            "Epoch 156/200\n",
            "2/2 [==============================] - 1s 444ms/step - loss: 128.3340 - accuracy: 0.8467 - val_loss: 194.4830 - val_accuracy: 0.8202\n",
            "Epoch 157/200\n",
            "2/2 [==============================] - 1s 436ms/step - loss: 128.6479 - accuracy: 0.8466 - val_loss: 194.4577 - val_accuracy: 0.8217\n",
            "Epoch 158/200\n",
            "2/2 [==============================] - 1s 435ms/step - loss: 128.5686 - accuracy: 0.8468 - val_loss: 194.4724 - val_accuracy: 0.8217\n",
            "Epoch 159/200\n",
            "2/2 [==============================] - 1s 438ms/step - loss: 128.1252 - accuracy: 0.8465 - val_loss: 194.4815 - val_accuracy: 0.8202\n",
            "Epoch 160/200\n",
            "2/2 [==============================] - 1s 441ms/step - loss: 128.8989 - accuracy: 0.8455 - val_loss: 194.4798 - val_accuracy: 0.8202\n",
            "Epoch 161/200\n",
            "2/2 [==============================] - 1s 430ms/step - loss: 128.6595 - accuracy: 0.8464 - val_loss: 194.4906 - val_accuracy: 0.8202\n",
            "Epoch 162/200\n",
            "2/2 [==============================] - 1s 436ms/step - loss: 130.1539 - accuracy: 0.8451 - val_loss: 194.4542 - val_accuracy: 0.8217\n",
            "Epoch 163/200\n",
            "2/2 [==============================] - 1s 441ms/step - loss: 129.0783 - accuracy: 0.8469 - val_loss: 194.4556 - val_accuracy: 0.8217\n",
            "Epoch 164/200\n",
            "2/2 [==============================] - 1s 444ms/step - loss: 129.3333 - accuracy: 0.8458 - val_loss: 194.4763 - val_accuracy: 0.8202\n",
            "Epoch 165/200\n",
            "2/2 [==============================] - 1s 435ms/step - loss: 129.1484 - accuracy: 0.8454 - val_loss: 194.4564 - val_accuracy: 0.8202\n",
            "Epoch 166/200\n",
            "2/2 [==============================] - 1s 435ms/step - loss: 128.9533 - accuracy: 0.8459 - val_loss: 194.4435 - val_accuracy: 0.8202\n",
            "Epoch 167/200\n",
            "2/2 [==============================] - 1s 443ms/step - loss: 130.4006 - accuracy: 0.8448 - val_loss: 194.4467 - val_accuracy: 0.8202\n",
            "Epoch 168/200\n",
            "2/2 [==============================] - 1s 433ms/step - loss: 127.9748 - accuracy: 0.8472 - val_loss: 194.4583 - val_accuracy: 0.8202\n",
            "Epoch 169/200\n",
            "2/2 [==============================] - 1s 443ms/step - loss: 128.7228 - accuracy: 0.8459 - val_loss: 194.4799 - val_accuracy: 0.8202\n",
            "Epoch 170/200\n",
            "2/2 [==============================] - 1s 439ms/step - loss: 130.3257 - accuracy: 0.8451 - val_loss: 194.4692 - val_accuracy: 0.8202\n",
            "Epoch 171/200\n",
            "2/2 [==============================] - 1s 446ms/step - loss: 129.3820 - accuracy: 0.8458 - val_loss: 194.4650 - val_accuracy: 0.8202\n",
            "Epoch 172/200\n",
            "2/2 [==============================] - 1s 442ms/step - loss: 128.4916 - accuracy: 0.8459 - val_loss: 194.4742 - val_accuracy: 0.8202\n",
            "Epoch 173/200\n",
            "2/2 [==============================] - 1s 444ms/step - loss: 129.6903 - accuracy: 0.8462 - val_loss: 194.4720 - val_accuracy: 0.8202\n",
            "Epoch 174/200\n",
            "2/2 [==============================] - 1s 448ms/step - loss: 128.7110 - accuracy: 0.8464 - val_loss: 194.4590 - val_accuracy: 0.8202\n",
            "Epoch 175/200\n",
            "2/2 [==============================] - 1s 423ms/step - loss: 128.8395 - accuracy: 0.8461 - val_loss: 194.4416 - val_accuracy: 0.8202\n",
            "Epoch 176/200\n",
            "2/2 [==============================] - 1s 438ms/step - loss: 129.3621 - accuracy: 0.8454 - val_loss: 194.4385 - val_accuracy: 0.8202\n",
            "Epoch 177/200\n",
            "2/2 [==============================] - 1s 431ms/step - loss: 128.9295 - accuracy: 0.8466 - val_loss: 194.4351 - val_accuracy: 0.8202\n",
            "Epoch 178/200\n",
            "2/2 [==============================] - 1s 449ms/step - loss: 128.0759 - accuracy: 0.8468 - val_loss: 194.4214 - val_accuracy: 0.8202\n",
            "Epoch 179/200\n",
            "2/2 [==============================] - 1s 433ms/step - loss: 128.4211 - accuracy: 0.8465 - val_loss: 194.4215 - val_accuracy: 0.8202\n",
            "Epoch 180/200\n",
            "2/2 [==============================] - 1s 430ms/step - loss: 130.5349 - accuracy: 0.8453 - val_loss: 194.4357 - val_accuracy: 0.8202\n",
            "Epoch 181/200\n",
            "2/2 [==============================] - 1s 446ms/step - loss: 128.8757 - accuracy: 0.8450 - val_loss: 194.4650 - val_accuracy: 0.8202\n",
            "Epoch 182/200\n",
            "2/2 [==============================] - 1s 433ms/step - loss: 128.6381 - accuracy: 0.8459 - val_loss: 194.4780 - val_accuracy: 0.8202\n",
            "Epoch 183/200\n",
            "2/2 [==============================] - 1s 434ms/step - loss: 128.6915 - accuracy: 0.8460 - val_loss: 194.4582 - val_accuracy: 0.8202\n",
            "Epoch 184/200\n",
            "2/2 [==============================] - 1s 427ms/step - loss: 127.6636 - accuracy: 0.8471 - val_loss: 194.4349 - val_accuracy: 0.8202\n",
            "Epoch 185/200\n",
            "2/2 [==============================] - 1s 444ms/step - loss: 129.6871 - accuracy: 0.8451 - val_loss: 194.4265 - val_accuracy: 0.8202\n",
            "Epoch 186/200\n",
            "2/2 [==============================] - 1s 436ms/step - loss: 129.7368 - accuracy: 0.8455 - val_loss: 194.4422 - val_accuracy: 0.8202\n",
            "Epoch 187/200\n",
            "2/2 [==============================] - 1s 433ms/step - loss: 128.8948 - accuracy: 0.8461 - val_loss: 194.4650 - val_accuracy: 0.8202\n",
            "Epoch 188/200\n",
            "2/2 [==============================] - 1s 443ms/step - loss: 128.7433 - accuracy: 0.8456 - val_loss: 194.4619 - val_accuracy: 0.8202\n",
            "Epoch 189/200\n",
            "2/2 [==============================] - 1s 436ms/step - loss: 129.5295 - accuracy: 0.8465 - val_loss: 194.4582 - val_accuracy: 0.8202\n",
            "Epoch 190/200\n",
            "2/2 [==============================] - 1s 437ms/step - loss: 128.3685 - accuracy: 0.8461 - val_loss: 194.4439 - val_accuracy: 0.8202\n",
            "Epoch 191/200\n",
            "2/2 [==============================] - 1s 428ms/step - loss: 128.9501 - accuracy: 0.8458 - val_loss: 194.4353 - val_accuracy: 0.8202\n",
            "Epoch 192/200\n",
            "2/2 [==============================] - 1s 448ms/step - loss: 128.1322 - accuracy: 0.8467 - val_loss: 194.4502 - val_accuracy: 0.8202\n",
            "Epoch 193/200\n",
            "2/2 [==============================] - 1s 434ms/step - loss: 128.3063 - accuracy: 0.8463 - val_loss: 194.4701 - val_accuracy: 0.8176\n",
            "Epoch 194/200\n",
            "2/2 [==============================] - 1s 442ms/step - loss: 128.7194 - accuracy: 0.8454 - val_loss: 194.4869 - val_accuracy: 0.8151\n",
            "Epoch 195/200\n",
            "2/2 [==============================] - 1s 444ms/step - loss: 128.1881 - accuracy: 0.8448 - val_loss: 194.4910 - val_accuracy: 0.8177\n",
            "Epoch 196/200\n",
            "2/2 [==============================] - 1s 437ms/step - loss: 130.1071 - accuracy: 0.8454 - val_loss: 194.4694 - val_accuracy: 0.8177\n",
            "Epoch 197/200\n",
            "2/2 [==============================] - 1s 447ms/step - loss: 128.6588 - accuracy: 0.8453 - val_loss: 194.4349 - val_accuracy: 0.8183\n",
            "Epoch 198/200\n",
            "2/2 [==============================] - 1s 437ms/step - loss: 128.6742 - accuracy: 0.8464 - val_loss: 194.4174 - val_accuracy: 0.8183\n",
            "Epoch 199/200\n",
            "2/2 [==============================] - 1s 445ms/step - loss: 129.5400 - accuracy: 0.8456 - val_loss: 194.4147 - val_accuracy: 0.8183\n",
            "Epoch 200/200\n",
            "2/2 [==============================] - 1s 433ms/step - loss: 129.2865 - accuracy: 0.8456 - val_loss: 194.4381 - val_accuracy: 0.8167\n",
            "Accuracy: 84.01%\n"
          ],
          "name": "stdout"
        }
      ]
    },
    {
      "cell_type": "code",
      "metadata": {
        "colab": {
          "base_uri": "https://localhost:8080/",
          "height": 545
        },
        "id": "_lrSLLX83I20",
        "outputId": "1d6bf447-ba88-47f4-e596-67e075996d78"
      },
      "source": [
        "import matplotlib.pyplot as plt\n",
        "\n",
        "acc = history.history['accuracy']\n",
        "val_acc = history.history['val_accuracy']\n",
        "loss = history.history['loss']\n",
        "val_loss = history.history['val_loss']\n",
        "\n",
        "epochs = range(len(acc))\n",
        "\n",
        "plt.plot(epochs, acc, 'bo', label='Training acc')\n",
        "plt.plot(epochs, val_acc, 'b', label='Validation acc')\n",
        "plt.title('Training and validation accuracy')\n",
        "plt.legend()\n",
        "\n",
        "plt.figure()\n",
        "\n",
        "plt.plot(epochs, loss, 'bo', label='Training loss')\n",
        "plt.plot(epochs, val_loss, 'b', label='Validation loss')\n",
        "plt.title('Training and validation loss')\n",
        "plt.legend()\n",
        "\n",
        "plt.show()"
      ],
      "execution_count": 25,
      "outputs": [
        {
          "output_type": "display_data",
          "data": {
            "image/png": "[encoded data removed]",
            "text/plain": [
              "<Figure size 432x288 with 1 Axes>"
            ]
          },
          "metadata": {
            "tags": [],
            "needs_background": "light"
          }
        },
        {
          "output_type": "display_data",
          "data": {
            "image/png": "[encoded data removed]",
            "text/plain": [
              "<Figure size 432x288 with 1 Axes>"
            ]
          },
          "metadata": {
            "tags": [],
            "needs_background": "light"
          }
        }
      ]
    },
    {
      "cell_type": "code",
      "metadata": {
        "id": "4_44LGpK-xx4"
      },
      "source": [
        "def final_predictions(text):\n",
        "  y_id_to_word = {value: key for key, value in french_tokenizer.word_index.items()}\n",
        "  y_id_to_word[0] = '<PAD>'\n",
        "\n",
        "  sentence = [english_tokenizer.word_index[word] for word in text.split()]\n",
        "  sentence = pad_sequences([sentence], maxlen=preproc_french_sentences.shape[-2], padding='post')\n",
        "  \n",
        "  print(sentence.shape)\n",
        "  print(logits_to_text(simple_rnn_model.predict(sentence[:1])[0], french_tokenizer))"
      ],
      "execution_count": 26,
      "outputs": []
    },
    {
      "cell_type": "code",
      "metadata": {
        "id": "Lm-DAR9H-4xD",
        "colab": {
          "base_uri": "https://localhost:8080/"
        },
        "outputId": "43179696-d46a-42a9-b27f-cc6bc638345b"
      },
      "source": [
        "cnn_model.save('model')"
      ],
      "execution_count": 153,
      "outputs": [
        {
          "output_type": "stream",
          "text": [
            "INFO:tensorflow:Assets written to: model/assets\n"
          ],
          "name": "stdout"
        }
      ]
    },
    {
      "cell_type": "code",
      "metadata": {
        "id": "onnTqdkf-_ry",
        "colab": {
          "base_uri": "https://localhost:8080/"
        },
        "outputId": "0a45f0a0-112a-436c-e4a0-956fb9f7be0c"
      },
      "source": [
        "! mkdir \"pickles\""
      ],
      "execution_count": 154,
      "outputs": [
        {
          "output_type": "stream",
          "text": [
            "mkdir: cannot create directory ‘pickles’: File exists\n"
          ],
          "name": "stdout"
        }
      ]
    },
    {
      "cell_type": "code",
      "metadata": {
        "id": "nhDpg-NB_AXV"
      },
      "source": [
        "with open('pickles/french_tokenizer.pickle', 'wb') as handle:\n",
        "    pickle.dump(french_tokenizer, handle, protocol=pickle.HIGHEST_PROTOCOL)\n",
        "\n",
        "with open('pickles/english_tokenizer.pickle', 'wb') as handle:\n",
        "    pickle.dump(english_tokenizer, handle, protocol=pickle.HIGHEST_PROTOCOL)\n",
        "\n",
        "with open('pickles/preproc_french_sentences.pickle', 'wb') as handle:\n",
        "    pickle.dump(preproc_french_sentences, handle, protocol=pickle.HIGHEST_PROTOCOL) "
      ],
      "execution_count": 155,
      "outputs": []
    }
  ]
}