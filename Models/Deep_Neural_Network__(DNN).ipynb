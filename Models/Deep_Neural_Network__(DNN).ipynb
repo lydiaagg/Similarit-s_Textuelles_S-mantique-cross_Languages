{
  "nbformat": 4,
  "nbformat_minor": 0,
  "metadata": {
    "colab": {
      "name": "Deep_Neural_Network _(DNN).ipynb",
      "provenance": [],
      "collapsed_sections": []
    },
    "kernelspec": {
      "name": "python3",
      "display_name": "Python 3"
    },
    "language_info": {
      "name": "python"
    }
  },
  "cells": [
    {
      "cell_type": "code",
      "metadata": {
        "id": "xyCAqBpNCnPq"
      },
      "source": [
        "%%capture\n",
        "# Install the latest Tensorflow version.\n",
        "!pip install tensorflow_text\n",
        "!pip install bokeh\n",
        "!pip install simpleneighbors[annoy]\n",
        "!pip install tqdm\n",
        "!pip install unidecode"
      ],
      "execution_count": 1,
      "outputs": []
    },
    {
      "cell_type": "code",
      "metadata": {
        "id": "8JlNt2Iu72or"
      },
      "source": [
        "import os,re,collections\n",
        "import numpy as np\n",
        "\n",
        "import keras\n",
        "from keras.preprocessing.text import Tokenizer\n",
        "from keras.preprocessing.sequence import pad_sequences\n",
        "from keras.models import Model, Sequential\n",
        "from keras.layers import GRU,LSTM, Input, Dense, TimeDistributed, Activation, RepeatVector, Bidirectional, Dropout, LSTM\n",
        "from keras.layers.embeddings import Embedding\n",
        "from keras.optimizers import Adam\n",
        "from keras.losses import sparse_categorical_crossentropy\n",
        "import tensorflow.compat.v2 as tf\n",
        "import pickle"
      ],
      "execution_count": 2,
      "outputs": []
    },
    {
      "cell_type": "code",
      "metadata": {
        "id": "LC7HSIxzb33E"
      },
      "source": [
        "import zipfile\n",
        "\n",
        "\n",
        "#nous allons extraire nos données qui se trouvent dans un fichier zip dans notre drive \n",
        "zip_ref = zipfile.ZipFile(\"/content/drive/MyDrive/rebuilt.Cross-Language-Dataset-master.zip\", 'r')\n",
        "zip_ref.extractall(\"/tmp\")\n",
        "zip_ref.close()"
      ],
      "execution_count": null,
      "outputs": []
    },
    {
      "cell_type": "code",
      "metadata": {
        "id": "NohB7jO3jL0w"
      },
      "source": [
        "#nous allons experimenter une partie de nos donnée dans cette partie on commence par le corpus APR \n",
        "English_Dataset = tf.data.Dataset.list_files(\"/tmp/Cross-Language-Dataset-master/dataset/chunks/APR/en/*.txt\")\n",
        "Frensh_Dataset = tf.data.Dataset.list_files(\"/tmp/Cross-Language-Dataset-master/dataset/chunks/APR/fr/*.txt\")\n"
      ],
      "execution_count": 5,
      "outputs": []
    },
    {
      "cell_type": "code",
      "metadata": {
        "id": "xH58fu-j_in7"
      },
      "source": [
        "#nous allons organiser nos fichier text de sort a ce que les fichier en francais aille leur traduction anglaise\n",
        "English_DatasetFiles=list(English_Dataset.as_numpy_iterator())\n",
        "English_DatasetFiles.sort()\n",
        "Frensh_DatasetFiles=list(Frensh_Dataset .as_numpy_iterator())\n",
        "Frensh_DatasetFiles.sort()"
      ],
      "execution_count": 6,
      "outputs": []
    },
    {
      "cell_type": "code",
      "metadata": {
        "id": "AtJR_FFUUQ0d"
      },
      "source": [
        "#cette fonction permet d'extraire extrait les donnees des fichier\n",
        "def load_data(Files):\n",
        "  sentences=[]\n",
        "  for file_content in Files: \n",
        "    with open(file_content, \"r\") as f:\n",
        "      data = f.read()\n",
        "      sentences.append(data)\n",
        "  return sentences\n",
        "\n",
        "english_sentences=load_data(English_DatasetFiles)\n",
        "french_sentences=load_data(Frensh_DatasetFiles)\n"
      ],
      "execution_count": 7,
      "outputs": []
    },
    {
      "cell_type": "code",
      "metadata": {
        "colab": {
          "base_uri": "https://localhost:8080/"
        },
        "id": "ITcf0jAdfy6u",
        "outputId": "b0285641-b4a9-4432-b52a-1fffca0c6e41"
      },
      "source": [
        "for i in range(5):\n",
        "  print('Sample :',i)\n",
        "  print(english_sentences[i])\n",
        "  print(french_sentences[i])\n",
        "  print('-'*50)"
      ],
      "execution_count": 8,
      "outputs": [
        {
          "output_type": "stream",
          "text": [
            "Sample : 0\n",
            "the association gregory lemarchal\n",
            "\n",
            "l' association gregory lemarchal\n",
            "\n",
            "--------------------------------------------------\n",
            "Sample : 1\n",
            "after the dresden file\n",
            "\n",
            "après les dossier dresden\n",
            "\n",
            "--------------------------------------------------\n",
            "Sample : 2\n",
            "the tradition of lanfeust troy\n",
            "invention of reverse auctions\n",
            "\n",
            "la tradition lanfeust de troy\n",
            "invention des ventes aux enchères\n",
            "\n",
            "--------------------------------------------------\n",
            "Sample : 3\n",
            "the manner of dos passos\n",
            "\n",
            "la manière de dos passos\n",
            "\n",
            "--------------------------------------------------\n",
            "Sample : 4\n",
            "trace of fat in this book\n",
            "\n",
            "trace de gras dans le livre\n",
            "\n",
            "--------------------------------------------------\n"
          ],
          "name": "stdout"
        }
      ]
    },
    {
      "cell_type": "code",
      "metadata": {
        "id": "gth9wlQr9j3f",
        "colab": {
          "base_uri": "https://localhost:8080/"
        },
        "outputId": "342a3644-ab34-49ab-d319-02bf381dd06b"
      },
      "source": [
        "english_words_counter = collections.Counter([word for sentence in english_sentences for word in sentence.split()])\n",
        "french_words_counter = collections.Counter([word for sentence in french_sentences for word in sentence.split()])\n",
        "\n",
        "print('English Vocab:',len(english_words_counter))\n",
        "print('French Vocab:',len(french_words_counter))"
      ],
      "execution_count": 9,
      "outputs": [
        {
          "output_type": "stream",
          "text": [
            "English Vocab: 4036\n",
            "French Vocab: 4309\n"
          ],
          "name": "stdout"
        }
      ]
    },
    {
      "cell_type": "code",
      "metadata": {
        "id": "ZP0AOadJ9lCz"
      },
      "source": [
        "def tokenize(x):\n",
        "  tokenizer = Tokenizer()\n",
        "  tokenizer.fit_on_texts(x)\n",
        "  return tokenizer.texts_to_sequences(x), tokenizer"
      ],
      "execution_count": 10,
      "outputs": []
    },
    {
      "cell_type": "code",
      "metadata": {
        "id": "vL_rK09M9vJf"
      },
      "source": [
        "def pad(x, length=None):\n",
        "  return pad_sequences(x, maxlen=length, padding='post')"
      ],
      "execution_count": 11,
      "outputs": []
    },
    {
      "cell_type": "code",
      "metadata": {
        "id": "R7_d5he_9ywE"
      },
      "source": [
        "def preprocess(x, y):\n",
        "    \"\"\"\n",
        "      Prétraiter x et y\n",
        "    : param x: Feature Liste des phrases\n",
        "    : param y: Label Liste des phrases\n",
        "    : return: Tuple de (pré-traité x, pré-traité y, x tokenizer, y tokenizer)\n",
        "    \"\"\"\n",
        "    preprocess_x, x_tk = tokenize(x)\n",
        "    preprocess_y, y_tk = tokenize(y)\n",
        "\n",
        "    preprocess_x = pad(preprocess_x)\n",
        "    preprocess_y = pad(preprocess_y)\n",
        "\n",
        "    # La fonction sparse_categorical_crossentropy de Keras nécessite que les étiquettes soient en 3 dimensions\n",
        "    # Extension des dimensions\n",
        "    \n",
        "    preprocess_y = preprocess_y.reshape(*preprocess_y.shape, 1)\n",
        "\n",
        "    return preprocess_x, preprocess_y, x_tk, y_tk"
      ],
      "execution_count": 12,
      "outputs": []
    },
    {
      "cell_type": "code",
      "metadata": {
        "id": "4yDJo4gD96lH"
      },
      "source": [
        "preproc_english_sentences, preproc_french_sentences, english_tokenizer, french_tokenizer =\\\n",
        "    preprocess(english_sentences, french_sentences)"
      ],
      "execution_count": 13,
      "outputs": []
    },
    {
      "cell_type": "code",
      "metadata": {
        "id": "N5tS4iyl-Lhr",
        "colab": {
          "base_uri": "https://localhost:8080/"
        },
        "outputId": "7d039652-1ad9-486c-a088-552e6764fd0d"
      },
      "source": [
        "max_english_sequence_length = preproc_english_sentences.shape[1]\n",
        "max_french_sequence_length = preproc_french_sentences.shape[1]\n",
        "english_vocab_size = len(english_tokenizer.word_index)\n",
        "french_vocab_size = len(french_tokenizer.word_index)\n",
        "\n",
        "print('Data Preprocessed')\n",
        "print(\"Max English sentence length:\", max_english_sequence_length)\n",
        "print(\"Max French sentence length:\", max_french_sequence_length)\n",
        "print(\"English vocabulary size:\", english_vocab_size)\n",
        "print(\"French vocabulary size:\", french_vocab_size)"
      ],
      "execution_count": 14,
      "outputs": [
        {
          "output_type": "stream",
          "text": [
            "Data Preprocessed\n",
            "Max English sentence length: 44\n",
            "Max French sentence length: 46\n",
            "English vocabulary size: 4020\n",
            "French vocabulary size: 4294\n"
          ],
          "name": "stdout"
        }
      ]
    },
    {
      "cell_type": "code",
      "metadata": {
        "id": "Kxd8wRHV-OlA"
      },
      "source": [
        "def logits_to_text(logits, tokenizer):\n",
        "  index_to_words = {id: word for word, id in tokenizer.word_index.items()}\n",
        "  index_to_words[0] = '<PAD>'\n",
        "\n",
        "   # Nous prédisons la sortie pour un mot donné, puis sélectionnons la meilleure réponse\n",
        "   # En sélectionnant cette étiquette, nous énumérons le mot à partir de l'identifiant\n",
        "    \n",
        "  return ' '.join([index_to_words[prediction] for prediction in np.argmax(logits, 1)])"
      ],
      "execution_count": 15,
      "outputs": []
    },
    {
      "cell_type": "code",
      "metadata": {
        "id": "pkGroinK-g_9"
      },
      "source": [
        "\n",
        "tmp_x = pad(preproc_english_sentences, preproc_french_sentences.shape[1])\n",
        "tmp_x = tmp_x.reshape((-1, preproc_french_sentences.shape[-2]))"
      ],
      "execution_count": 28,
      "outputs": []
    },
    {
      "cell_type": "code",
      "metadata": {
        "colab": {
          "base_uri": "https://localhost:8080/"
        },
        "id": "BCwMiNIc56t4",
        "outputId": "f231e283-09fd-42bb-bc4d-b0b133b162c6"
      },
      "source": [
        "glove_dir = '/content/drive/MyDrive/glove/'\n",
        "\n",
        "embeddings_index = {}\n",
        "f = open(os.path.join(glove_dir, 'glove.6B.100d.txt'))\n",
        "for line in f:\n",
        "    values = line.split()\n",
        "    word = values[0]\n",
        "    coefs = np.asarray(values[1:], dtype='float32')\n",
        "    embeddings_index[word] = coefs\n",
        "f.close()\n",
        "\n",
        "print('Found %s word vectors.' % len(embeddings_index))"
      ],
      "execution_count": 18,
      "outputs": [
        {
          "output_type": "stream",
          "text": [
            "Found 400000 word vectors.\n"
          ],
          "name": "stdout"
        }
      ]
    },
    {
      "cell_type": "code",
      "metadata": {
        "id": "ByXen8xW59C4"
      },
      "source": [
        "embedding_dim = 100\n",
        "max_words = 4021\n",
        "embedding_matrix = np.zeros((max_words, embedding_dim))\n",
        "for word, i in english_tokenizer.word_index.items():\n",
        "    embedding_vector = embeddings_index.get(word)\n",
        "    if i < max_words:\n",
        "        if embedding_vector is not None:\n",
        "            # Words not found in embedding index will be all-zeros.\n",
        "            embedding_matrix[i] = embedding_vector\n"
      ],
      "execution_count": 19,
      "outputs": []
    },
    {
      "cell_type": "code",
      "metadata": {
        "colab": {
          "base_uri": "https://localhost:8080/"
        },
        "id": "fN3R2ZDg4T8-",
        "outputId": "2cab12f7-950d-44cb-c384-3e247620a952"
      },
      "source": [
        "def DNN_Model(input_shape, output_sequence_length, english_vocab_size, french_vocab_size):\n",
        "\n",
        "  learning_rate = 0.005\n",
        "  model = Sequential()             \n",
        "  model.add(Embedding(english_vocab_size, 100, weights=[embedding_matrix],input_length=input_shape[1], input_shape=input_shape[1:]))\n",
        "  model.add(Dense(32, activation=tf.nn.relu ))\n",
        "  model.add(Dense(32, activation=tf.nn.relu))\n",
        "  model.add(Dense(32, activation=tf.nn.relu))\n",
        "  model.add(Dense(french_vocab_size))\n",
        "  model.summary()\n",
        "  model.compile(loss=sparse_categorical_crossentropy,\n",
        "                  optimizer=Adam(learning_rate),\n",
        "                  metrics=['accuracy'])\n",
        "  return model\n",
        "\n",
        "DNN_Model = DNN_Model(\n",
        "    tmp_x.shape,\n",
        "    preproc_french_sentences.shape[1],\n",
        "    len(english_tokenizer.word_index)+1,\n",
        "    len(french_tokenizer.word_index)+1)\n",
        "\n",
        "history=DNN_Model.fit(tmp_x, preproc_french_sentences, batch_size=1024, epochs=20, validation_split=0.2)"
      ],
      "execution_count": 31,
      "outputs": [
        {
          "output_type": "stream",
          "text": [
            "Model: \"sequential_5\"\n",
            "_________________________________________________________________\n",
            "Layer (type)                 Output Shape              Param #   \n",
            "=================================================================\n",
            "embedding_5 (Embedding)      (None, 46, 100)           402100    \n",
            "_________________________________________________________________\n",
            "dense_18 (Dense)             (None, 46, 32)            3232      \n",
            "_________________________________________________________________\n",
            "dense_19 (Dense)             (None, 46, 32)            1056      \n",
            "_________________________________________________________________\n",
            "dense_20 (Dense)             (None, 46, 32)            1056      \n",
            "_________________________________________________________________\n",
            "dense_21 (Dense)             (None, 46, 4295)          141735    \n",
            "=================================================================\n",
            "Total params: 549,179\n",
            "Trainable params: 549,179\n",
            "Non-trainable params: 0\n",
            "_________________________________________________________________\n",
            "Epoch 1/20\n",
            "2/2 [==============================] - 13s 5s/step - loss: 8.7291 - accuracy: 0.6852 - val_loss: 5.6403 - val_accuracy: 0.8250\n",
            "Epoch 2/20\n",
            "2/2 [==============================] - 10s 5s/step - loss: 5.0732 - accuracy: 0.8385 - val_loss: 3.2068 - val_accuracy: 0.8268\n",
            "Epoch 3/20\n",
            "2/2 [==============================] - 11s 5s/step - loss: 2.8599 - accuracy: 0.8395 - val_loss: 2.4301 - val_accuracy: 0.8251\n",
            "Epoch 4/20\n",
            "2/2 [==============================] - 10s 5s/step - loss: 2.1605 - accuracy: 0.8386 - val_loss: 2.0553 - val_accuracy: 0.8253\n",
            "Epoch 5/20\n",
            "2/2 [==============================] - 10s 5s/step - loss: 1.8164 - accuracy: 0.8377 - val_loss: 1.9907 - val_accuracy: 0.8253\n",
            "Epoch 6/20\n",
            "2/2 [==============================] - 10s 5s/step - loss: 1.7583 - accuracy: 0.8379 - val_loss: 1.9930 - val_accuracy: 0.8253\n",
            "Epoch 7/20\n",
            "2/2 [==============================] - 10s 5s/step - loss: 1.7514 - accuracy: 0.8384 - val_loss: 2.0005 - val_accuracy: 0.8253\n",
            "Epoch 8/20\n",
            "2/2 [==============================] - 10s 5s/step - loss: 1.7584 - accuracy: 0.8375 - val_loss: 1.9937 - val_accuracy: 0.8253\n",
            "Epoch 9/20\n",
            "2/2 [==============================] - 10s 5s/step - loss: 1.7246 - accuracy: 0.8387 - val_loss: 1.9838 - val_accuracy: 0.8253\n",
            "Epoch 10/20\n",
            "2/2 [==============================] - 10s 4s/step - loss: 1.6973 - accuracy: 0.8399 - val_loss: 1.9799 - val_accuracy: 0.8255\n",
            "Epoch 11/20\n",
            "2/2 [==============================] - 11s 4s/step - loss: 1.7213 - accuracy: 0.8395 - val_loss: 1.9899 - val_accuracy: 0.8354\n",
            "Epoch 12/20\n",
            "2/2 [==============================] - 10s 4s/step - loss: 1.7172 - accuracy: 0.8478 - val_loss: 1.9879 - val_accuracy: 0.8369\n",
            "Epoch 13/20\n",
            "2/2 [==============================] - 10s 4s/step - loss: 1.6949 - accuracy: 0.8511 - val_loss: 1.9756 - val_accuracy: 0.8357\n",
            "Epoch 14/20\n",
            "2/2 [==============================] - 10s 4s/step - loss: 1.6879 - accuracy: 0.8501 - val_loss: 1.9561 - val_accuracy: 0.8362\n",
            "Epoch 15/20\n",
            "2/2 [==============================] - 11s 5s/step - loss: 1.6627 - accuracy: 0.8510 - val_loss: 1.9144 - val_accuracy: 0.8364\n",
            "Epoch 16/20\n",
            "2/2 [==============================] - 10s 5s/step - loss: 1.6079 - accuracy: 0.8524 - val_loss: 1.8392 - val_accuracy: 0.8353\n",
            "Epoch 17/20\n",
            "2/2 [==============================] - 11s 4s/step - loss: 1.5219 - accuracy: 0.8534 - val_loss: 1.7596 - val_accuracy: 0.8258\n",
            "Epoch 18/20\n",
            "2/2 [==============================] - 10s 5s/step - loss: 1.5378 - accuracy: 0.8416 - val_loss: 1.6114 - val_accuracy: 0.8261\n",
            "Epoch 19/20\n",
            "2/2 [==============================] - 10s 4s/step - loss: 1.4480 - accuracy: 0.8419 - val_loss: 1.5994 - val_accuracy: 0.8219\n",
            "Epoch 20/20\n",
            "2/2 [==============================] - 11s 4s/step - loss: 1.4619 - accuracy: 0.8356 - val_loss: 1.5907 - val_accuracy: 0.8194\n"
          ],
          "name": "stdout"
        }
      ]
    },
    {
      "cell_type": "code",
      "metadata": {
        "colab": {
          "base_uri": "https://localhost:8080/"
        },
        "id": "Vz9MWafhZ8pE",
        "outputId": "03d09ea7-5306-4213-fe8b-669553129d2c"
      },
      "source": [
        "scores =  DNN_Model.evaluate(tmp_x, preproc_french_sentences, verbose=0)\n",
        "# Displays the accuracy of correct sentiment prediction over test data\n",
        "print(\"Accuracy: %.2f%%\" % (scores[1]*100))"
      ],
      "execution_count": 25,
      "outputs": [
        {
          "output_type": "stream",
          "text": [
            "Accuracy: 83.33%\n"
          ],
          "name": "stdout"
        }
      ]
    },
    {
      "cell_type": "code",
      "metadata": {
        "colab": {
          "base_uri": "https://localhost:8080/",
          "height": 545
        },
        "id": "_lrSLLX83I20",
        "outputId": "4cad4e01-12b6-4b96-bc98-5f7d3fe5e3bf"
      },
      "source": [
        "import matplotlib.pyplot as plt\n",
        "\n",
        "acc = history.history['accuracy']\n",
        "val_acc = history.history['val_accuracy']\n",
        "loss = history.history['loss']\n",
        "val_loss = history.history['val_loss']\n",
        "\n",
        "epochs = range(len(acc))\n",
        "\n",
        "plt.plot(epochs, acc, 'bo', label='Training acc')\n",
        "plt.plot(epochs, val_acc, 'b', label='Validation acc')\n",
        "plt.title('Training and validation accuracy')\n",
        "plt.legend()\n",
        "\n",
        "plt.figure()\n",
        "\n",
        "plt.plot(epochs, loss, 'bo', label='Training loss')\n",
        "plt.plot(epochs, val_loss, 'b', label='Validation loss')\n",
        "plt.title('Training and validation loss')\n",
        "plt.legend()\n",
        "\n",
        "plt.show()"
      ],
      "execution_count": 27,
      "outputs": [
        {
          "output_type": "display_data",
          "data": {
            "image/png": "[encoded data removed]",
            "text/plain": [
              "<Figure size 432x288 with 1 Axes>"
            ]
          },
          "metadata": {
            "tags": [],
            "needs_background": "light"
          }
        },
        {
          "output_type": "display_data",
          "data": {
            "image/png": "[encoded data removed]",
            "text/plain": [
              "<Figure size 432x288 with 1 Axes>"
            ]
          },
          "metadata": {
            "tags": [],
            "needs_background": "light"
          }
        }
      ]
    },
    {
      "cell_type": "code",
      "metadata": {
        "id": "4_44LGpK-xx4"
      },
      "source": [
        "def final_predictions(text):\n",
        "  y_id_to_word = {value: key for key, value in french_tokenizer.word_index.items()}\n",
        "  y_id_to_word[0] = '<PAD>'\n",
        "\n",
        "  sentence = [english_tokenizer.word_index[word] for word in text.split()]\n",
        "  sentence = pad_sequences([sentence], maxlen=preproc_french_sentences.shape[-2], padding='post')\n",
        "  \n",
        "  print(sentence.shape)\n",
        "  print(logits_to_text(simple_rnn_model.predict(sentence[:1])[0], french_tokenizer))"
      ],
      "execution_count": null,
      "outputs": []
    },
    {
      "cell_type": "code",
      "metadata": {
        "id": "Lm-DAR9H-4xD"
      },
      "source": [
        "simple_rnn_model.save('model')"
      ],
      "execution_count": null,
      "outputs": []
    },
    {
      "cell_type": "code",
      "metadata": {
        "id": "onnTqdkf-_ry"
      },
      "source": [
        "! mkdir \"pickles\""
      ],
      "execution_count": null,
      "outputs": []
    },
    {
      "cell_type": "code",
      "metadata": {
        "id": "nhDpg-NB_AXV"
      },
      "source": [
        "with open('pickles/french_tokenizer.pickle', 'wb') as handle:\n",
        "    pickle.dump(french_tokenizer, handle, protocol=pickle.HIGHEST_PROTOCOL)\n",
        "\n",
        "with open('pickles/english_tokenizer.pickle', 'wb') as handle:\n",
        "    pickle.dump(english_tokenizer, handle, protocol=pickle.HIGHEST_PROTOCOL)\n",
        "\n",
        "with open('pickles/preproc_french_sentences.pickle', 'wb') as handle:\n",
        "    pickle.dump(preproc_french_sentences, handle, protocol=pickle.HIGHEST_PROTOCOL) "
      ],
      "execution_count": null,
      "outputs": []
    }
  ]
}