{
  "nbformat": 4,
  "nbformat_minor": 0,
  "metadata": {
    "colab": {
      "name": "Deep_Neural_Network _(DNN).ipynb",
      "provenance": [],
      "collapsed_sections": []
    },
    "kernelspec": {
      "name": "python3",
      "display_name": "Python 3"
    },
    "language_info": {
      "name": "python"
    }
  },
  "cells": [
    {
      "cell_type": "code",
      "metadata": {
        "id": "xyCAqBpNCnPq"
      },
      "source": [
        "%%capture\n",
        "# Install the latest Tensorflow version.\n",
        "!pip install tensorflow_text\n",
        "!pip install bokeh\n",
        "!pip install simpleneighbors[annoy]\n",
        "!pip install tqdm\n",
        "!pip install unidecode"
      ],
      "execution_count": 1,
      "outputs": []
    },
    {
      "cell_type": "code",
      "metadata": {
        "id": "8JlNt2Iu72or"
      },
      "source": [
        "import os,re,collections\n",
        "import numpy as np\n",
        "\n",
        "import keras\n",
        "from keras.preprocessing.text import Tokenizer\n",
        "from keras.preprocessing.sequence import pad_sequences\n",
        "from keras.models import Model, Sequential\n",
        "from keras.layers import GRU,LSTM, Input, Dense, TimeDistributed, Activation, RepeatVector, Bidirectional, Dropout, LSTM\n",
        "from keras.layers.embeddings import Embedding\n",
        "from keras.optimizers import Adam\n",
        "from keras.losses import sparse_categorical_crossentropy\n",
        "import tensorflow.compat.v2 as tf\n",
        "import pickle"
      ],
      "execution_count": 2,
      "outputs": []
    },
    {
      "cell_type": "code",
      "metadata": {
        "colab": {
          "base_uri": "https://localhost:8080/"
        },
        "id": "_T82KUFf0s2u",
        "outputId": "18bedd9d-4cf7-4eb2-8659-cce6eb02c034"
      },
      "source": [
        "from google.colab import drive\n",
        "drive.mount('/content/drive')"
      ],
      "execution_count": 3,
      "outputs": [
        {
          "output_type": "stream",
          "text": [
            "Drive already mounted at /content/drive; to attempt to forcibly remount, call drive.mount(\"/content/drive\", force_remount=True).\n"
          ],
          "name": "stdout"
        }
      ]
    },
    {
      "cell_type": "markdown",
      "metadata": {
        "id": "_vt2rQCOPz74"
      },
      "source": [
        "## ***Etape 1 : Chargement de données*** \n",
        " Nous allons extraire les données qui se trouvent dans le zip dans le drive ainsi pouvoirs les exploité facilement puis nous allons organiser les fichier de sort a ce que chaque phrase aille sa traduction dans le fichier correspondant,les phrase qui seront extraitent du fichier vont étre prétraiter "
      ]
    },
    {
      "cell_type": "code",
      "metadata": {
        "id": "XbD5Gp2uf6Fo"
      },
      "source": [
        "import zipfile\n",
        "\n",
        "#nous allons extraire nos données qui se trouvent dans un fichier zip dans notre drive \n",
        "zip_ref = zipfile.ZipFile(\"/content/drive/MyDrive/rebuilt.Cross-Language-Dataset-master.zip\", 'r')\n",
        "zip_ref.extractall(\"/tmp\")\n",
        "zip_ref.close()"
      ],
      "execution_count": null,
      "outputs": []
    },
    {
      "cell_type": "code",
      "metadata": {
        "id": "NohB7jO3jL0w"
      },
      "source": [
        "#nous allons experimenter une partie de nos donnée dans cette partie on commence par le corpus APR \n",
        "English_Dataset = tf.data.Dataset.list_files(\"/tmp/Cross-Language-Dataset-master/dataset/chunks/APR/en/*.txt\")\n",
        "Frensh_Dataset = tf.data.Dataset.list_files(\"/tmp/Cross-Language-Dataset-master/dataset/chunks/APR/fr/*.txt\")\n"
      ],
      "execution_count": 6,
      "outputs": []
    },
    {
      "cell_type": "code",
      "metadata": {
        "id": "xH58fu-j_in7"
      },
      "source": [
        "#nous allons organiser nos fichier text de sort a ce que les fichier en francais aille leur traduction anglaise\n",
        "English_DatasetFiles=list(English_Dataset.as_numpy_iterator())\n",
        "English_DatasetFiles.sort()\n",
        "Frensh_DatasetFiles=list(Frensh_Dataset .as_numpy_iterator())\n",
        "Frensh_DatasetFiles.sort()"
      ],
      "execution_count": 7,
      "outputs": []
    },
    {
      "cell_type": "code",
      "metadata": {
        "id": "AtJR_FFUUQ0d"
      },
      "source": [
        "#cette fonction permet d'extraire extrait les donnees des fichier\n",
        "def load_data(Files):\n",
        "  sentences=[]\n",
        "  for file_content in Files: \n",
        "    with open(file_content, \"r\") as f:\n",
        "      data = f.read()\n",
        "      sentences.append(data)\n",
        "  return sentences\n",
        "\n",
        "english_sentences=load_data(English_DatasetFiles)\n",
        "french_sentences=load_data(Frensh_DatasetFiles)\n"
      ],
      "execution_count": 8,
      "outputs": []
    },
    {
      "cell_type": "code",
      "metadata": {
        "colab": {
          "base_uri": "https://localhost:8080/"
        },
        "id": "ITcf0jAdfy6u",
        "outputId": "cc1c3672-25a4-4183-d344-6ac72433f6aa"
      },
      "source": [
        "for i in range(5):\n",
        "  print('Sample :',i)\n",
        "  print(english_sentences[i])\n",
        "  print(french_sentences[i])\n",
        "  print('-'*50)"
      ],
      "execution_count": 9,
      "outputs": [
        {
          "output_type": "stream",
          "text": [
            "Sample : 0\n",
            "the association gregory lemarchal\n",
            "\n",
            "l' association gregory lemarchal\n",
            "\n",
            "--------------------------------------------------\n",
            "Sample : 1\n",
            "after the dresden file\n",
            "\n",
            "après les dossier dresden\n",
            "\n",
            "--------------------------------------------------\n",
            "Sample : 2\n",
            "the tradition of lanfeust troy\n",
            "invention of reverse auctions\n",
            "\n",
            "la tradition lanfeust de troy\n",
            "invention des ventes aux enchères\n",
            "\n",
            "--------------------------------------------------\n",
            "Sample : 3\n",
            "the manner of dos passos\n",
            "\n",
            "la manière de dos passos\n",
            "\n",
            "--------------------------------------------------\n",
            "Sample : 4\n",
            "trace of fat in this book\n",
            "\n",
            "trace de gras dans le livre\n",
            "\n",
            "--------------------------------------------------\n"
          ],
          "name": "stdout"
        }
      ]
    },
    {
      "cell_type": "markdown",
      "metadata": {
        "id": "vcTWq6nvOmDQ"
      },
      "source": [
        "# ***Etape 2 : Stopwords***\n",
        "première manipulation souvent effectuée dans le traitement du texte est la suppression de ce qu'on appelle en anglais les stopwords. Ce sont les mots très courants dans la langue étudiée (\"et\", \"à\", \"le\"... en français) qui n'apportent pas de valeur informative pour la compréhension du \"sens\" d'un document et corpus. Il sont très fréquents et ralentissent notre travail : nous souhaitons donc les supprimer.\n",
        "\n",
        "Il existe dans la librairie NLTK une liste par défaut des stopwords dans plusieurs Langues"
      ]
    },
    {
      "cell_type": "code",
      "metadata": {
        "colab": {
          "base_uri": "https://localhost:8080/"
        },
        "id": "e0hrikyVlnAw",
        "outputId": "3077f125-23f2-4282-def4-2169da9a60ea"
      },
      "source": [
        "\n",
        "import nltk\n",
        "nltk.download('stopwords')\n",
        "from nltk.corpus import stopwords\n",
        "#pour supprimer les stopword de chaque langue\n",
        "def remove_stopwords(text,langue):\n",
        "    STOPWORDS = set(stopwords.words(langue))\n",
        "    \"\"\"custom function to remove the stopwords\"\"\"\n",
        "    return \" \".join([word for word in str(text).split() if word not in STOPWORDS])\n",
        "#supprimer les stopword dans une liste de phrase\n",
        "def remove(sentences,langue):\n",
        "    values=[]\n",
        "    for text in sentences:\n",
        "       values.append(remove_stopwords(text,langue))\n",
        "    return values\n"
      ],
      "execution_count": 10,
      "outputs": [
        {
          "output_type": "stream",
          "text": [
            "[nltk_data] Downloading package stopwords to /root/nltk_data...\n",
            "[nltk_data]   Unzipping corpora/stopwords.zip.\n"
          ],
          "name": "stdout"
        }
      ]
    },
    {
      "cell_type": "code",
      "metadata": {
        "id": "6FFU2kwwlp3r"
      },
      "source": [
        "\n",
        "english_sentences=remove(english_sentences,'english')\n",
        "french_sentences=remove(french_sentences,'french')"
      ],
      "execution_count": 12,
      "outputs": []
    },
    {
      "cell_type": "code",
      "metadata": {
        "id": "gth9wlQr9j3f",
        "colab": {
          "base_uri": "https://localhost:8080/"
        },
        "outputId": "84efca00-455d-4ea0-ba9a-22993522f423"
      },
      "source": [
        "english_words_counter = collections.Counter([word for sentence in english_sentences for word in sentence.split()])\n",
        "french_words_counter = collections.Counter([word for sentence in french_sentences for word in sentence.split()])\n",
        "\n",
        "print('English Vocab:',len(english_words_counter))\n",
        "print('French Vocab:',len(french_words_counter))"
      ],
      "execution_count": 13,
      "outputs": [
        {
          "output_type": "stream",
          "text": [
            "English Vocab: 3981\n",
            "French Vocab: 4271\n"
          ],
          "name": "stdout"
        }
      ]
    },
    {
      "cell_type": "markdown",
      "metadata": {
        "id": "tGEo2THGR3hr"
      },
      "source": [
        "# ***Etape 3 :le Stemming*** \n",
        "racinisation(ou stemming en anglais). Cela consiste à ne conserver que la racine des mots étudiés. L'idée étant de supprimer les suffixes, préfixes et autres des mots afin de ne conserver que leur origine. C'est un procédé plus simple que la lemmatisation et plus rapide à effectuer puisqu'on tronque les mots essentiellement contrairement à la lemmatisation qui nécessite d'utiliser un dictionnaire.Dans notre cas, on va effectuer une racinisation parce qu'il n'existe pas de fonction de lemmatisation de corpus français dans NLTK"
      ]
    },
    {
      "cell_type": "code",
      "metadata": {
        "id": "y3gDnA9XoD2Q"
      },
      "source": [
        "from nltk.stem.porter import PorterStemmer\n",
        "from nltk.stem.snowball import SnowballStemmer\n",
        "\n",
        "def stem_words_langue(text,langue):\n",
        "    stemmer2=SnowballStemmer(langue)\n",
        "    return \" \".join([stemmer2.stem(word) for word in text.split()])\n",
        "\n",
        "def stemming_langue(sentences,langue):\n",
        "  values=[]\n",
        "  for text in sentences:\n",
        "    values.append(stem_words_langue(text,langue))\n",
        "  return values\n",
        " "
      ],
      "execution_count": 14,
      "outputs": []
    },
    {
      "cell_type": "code",
      "metadata": {
        "id": "9Zds9TdSQEnn"
      },
      "source": [
        "\n",
        "english_sentences=stemming_langue(english_sentences,'english')\n",
        "french_sentences=stemming_langue(french_sentences,'french')"
      ],
      "execution_count": 16,
      "outputs": []
    },
    {
      "cell_type": "markdown",
      "metadata": {
        "id": "gfDrPIYqTiPv"
      },
      "source": [
        "## ***Etape 4 : la tokenisation***\n",
        "La tokenisation est la division du texte brut en petits morceaux de mots ou de phrases, appelés jetons.Chaque phrase prend son sens par les mots qu'elle contient. Ainsi, en analysant les mots présents dans le texte, nous pouvons facilement interpréter le sens du texte. Une fois que nous avons une liste de mots, nous pouvons également utiliser des outils et des méthodes statistiques pour mieux comprendre le texte. Par exemple, nous pouvons utiliser le nombre de mots et la fréquence des mots pour découvrir l'importance d'un mot dans cette phrase ou ce document."
      ]
    },
    {
      "cell_type": "code",
      "metadata": {
        "id": "ZP0AOadJ9lCz"
      },
      "source": [
        "def tokenize(x):\n",
        "  tokenizer = Tokenizer()\n",
        "  tokenizer.fit_on_texts(x)\n",
        "  return tokenizer.texts_to_sequences(x), tokenizer"
      ],
      "execution_count": 17,
      "outputs": []
    },
    {
      "cell_type": "code",
      "metadata": {
        "id": "vL_rK09M9vJf"
      },
      "source": [
        "def pad(x, length=None):\n",
        "  return pad_sequences(x, maxlen=length, padding='post')"
      ],
      "execution_count": 18,
      "outputs": []
    },
    {
      "cell_type": "code",
      "metadata": {
        "id": "R7_d5he_9ywE"
      },
      "source": [
        "def preprocess(x, y):\n",
        "    \"\"\"\n",
        "      Prétraiter x et y\n",
        "    : param x: Feature Liste des phrases\n",
        "    : param y: Label Liste des phrases\n",
        "    : return: Tuple de (pré-traité x, pré-traité y, x tokenizer, y tokenizer)\n",
        "    \"\"\"\n",
        "    preprocess_x, x_tk = tokenize(x)\n",
        "    preprocess_y, y_tk = tokenize(y)\n",
        "\n",
        "    preprocess_x = pad(preprocess_x)\n",
        "    preprocess_y = pad(preprocess_y)\n",
        "\n",
        "    # La fonction sparse_categorical_crossentropy de Keras nécessite que les étiquettes soient en 3 dimensions\n",
        "    # Extension des dimensions\n",
        "    \n",
        "    preprocess_y = preprocess_y.reshape(*preprocess_y.shape, 1)\n",
        "\n",
        "    return preprocess_x, preprocess_y, x_tk, y_tk"
      ],
      "execution_count": 19,
      "outputs": []
    },
    {
      "cell_type": "code",
      "metadata": {
        "id": "4yDJo4gD96lH"
      },
      "source": [
        "preproc_english_sentences, preproc_french_sentences, english_tokenizer, french_tokenizer =\\\n",
        "    preprocess(english_sentences, french_sentences)"
      ],
      "execution_count": 20,
      "outputs": []
    },
    {
      "cell_type": "code",
      "metadata": {
        "id": "N5tS4iyl-Lhr",
        "colab": {
          "base_uri": "https://localhost:8080/"
        },
        "outputId": "ce93fe10-6b5c-421a-db16-4971e57e6d87"
      },
      "source": [
        "max_english_sequence_length = preproc_english_sentences.shape[1]\n",
        "max_french_sequence_length = preproc_french_sentences.shape[1]\n",
        "english_vocab_size = len(english_tokenizer.word_index)\n",
        "french_vocab_size = len(french_tokenizer.word_index)\n",
        "\n",
        "print('Data Preprocessed')\n",
        "print(\"Max English sentence length:\", max_english_sequence_length)\n",
        "print(\"Max French sentence length:\", max_french_sequence_length)\n",
        "print(\"English vocabulary size:\", english_vocab_size)\n",
        "print(\"French vocabulary size:\", french_vocab_size)"
      ],
      "execution_count": 21,
      "outputs": [
        {
          "output_type": "stream",
          "text": [
            "Data Preprocessed\n",
            "Max English sentence length: 31\n",
            "Max French sentence length: 34\n",
            "English vocabulary size: 3608\n",
            "French vocabulary size: 3691\n"
          ],
          "name": "stdout"
        }
      ]
    },
    {
      "cell_type": "code",
      "metadata": {
        "id": "Kxd8wRHV-OlA"
      },
      "source": [
        "def logits_to_text(logits, tokenizer):\n",
        "  index_to_words = {id: word for word, id in tokenizer.word_index.items()}\n",
        "  index_to_words[0] = '<PAD>'\n",
        "\n",
        "   # Nous prédisons la sortie pour un mot donné, puis sélectionnons la meilleure réponse\n",
        "   # En sélectionnant cette étiquette, nous énumérons le mot à partir de l'identifiant\n",
        "    \n",
        "  return ' '.join([index_to_words[prediction] for prediction in np.argmax(logits, 1)])"
      ],
      "execution_count": 22,
      "outputs": []
    },
    {
      "cell_type": "code",
      "metadata": {
        "id": "pkGroinK-g_9"
      },
      "source": [
        "\n",
        "tmp_x = pad(preproc_english_sentences, preproc_french_sentences.shape[1])\n",
        "tmp_x = tmp_x.reshape((-1, preproc_french_sentences.shape[-2]))"
      ],
      "execution_count": 23,
      "outputs": []
    },
    {
      "cell_type": "markdown",
      "metadata": {
        "id": "qzq41ASNU-pX"
      },
      "source": [
        "# ***Etape 5 les Word embedding*** \n",
        "Nous allons utilisée un prétrained model Glove word embedding "
      ]
    },
    {
      "cell_type": "code",
      "metadata": {
        "colab": {
          "base_uri": "https://localhost:8080/"
        },
        "id": "BCwMiNIc56t4",
        "outputId": "15b9a966-b38a-4c1a-f32c-0189332841c5"
      },
      "source": [
        "glove_dir = '/content/drive/MyDrive/glove/'\n",
        "\n",
        "embeddings_index = {}\n",
        "f = open(os.path.join(glove_dir, 'glove.6B.100d.txt'))\n",
        "for line in f:\n",
        "    values = line.split()\n",
        "    word = values[0]\n",
        "    coefs = np.asarray(values[1:], dtype='float32')\n",
        "    embeddings_index[word] = coefs\n",
        "f.close()\n",
        "\n",
        "print('Found %s word vectors.' % len(embeddings_index))"
      ],
      "execution_count": 24,
      "outputs": [
        {
          "output_type": "stream",
          "text": [
            "Found 400000 word vectors.\n"
          ],
          "name": "stdout"
        }
      ]
    },
    {
      "cell_type": "code",
      "metadata": {
        "id": "HaowQuvlBT7p"
      },
      "source": [
        "embedding_dim = 100\n",
        "max_words = english_vocab_size+1\n",
        "embedding_matrix = np.zeros((max_words, embedding_dim))\n",
        "for word, i in english_tokenizer.word_index.items():\n",
        "    embedding_vector = embeddings_index.get(word)\n",
        "    if i < max_words:\n",
        "        if embedding_vector is not None:\n",
        "            # Words not found in embedding index will be all-zeros.\n",
        "            embedding_matrix[i] = embedding_vector"
      ],
      "execution_count": 25,
      "outputs": []
    },
    {
      "cell_type": "markdown",
      "metadata": {
        "id": "5EoAYcFZWPVi"
      },
      "source": [
        "# ***Etape 6 : Model***\n",
        "Nous allons maintenant procedé a la creation de notre model neuronal ,l'entrainer et l'evaluer puis afficher les resulats  à l'aide d'un graphe"
      ]
    },
    {
      "cell_type": "code",
      "metadata": {
        "id": "oJGH57sOBiJR",
        "colab": {
          "base_uri": "https://localhost:8080/"
        },
        "outputId": "a688da0b-60ef-4caa-972e-7fcca9ea69b0"
      },
      "source": [
        "def DNN_Model(input_shape, output_sequence_length, english_vocab_size, french_vocab_size):\n",
        "\n",
        "  learning_rate = 0.005\n",
        "  model = Sequential()             \n",
        "  model.add(Embedding(english_vocab_size, 100, weights=[embedding_matrix],input_length=input_shape[1], input_shape=input_shape[1:]))\n",
        "  model.add(Dense(32, activation=tf.nn.relu ))\n",
        "  model.add(Dense(32, activation=tf.nn.relu))\n",
        "  model.add(Dense(32, activation=tf.nn.relu))\n",
        "  model.add(Dense(french_vocab_size))\n",
        "  model.summary()\n",
        "  model.compile(loss=sparse_categorical_crossentropy,\n",
        "                  optimizer=Adam(learning_rate),\n",
        "                  metrics=['accuracy'])\n",
        "  return model\n",
        "\n",
        "DNN_Model = DNN_Model(\n",
        "    tmp_x.shape,\n",
        "    preproc_french_sentences.shape[1],\n",
        "    len(english_tokenizer.word_index)+1,\n",
        "    len(french_tokenizer.word_index)+1)\n",
        "\n",
        "history=DNN_Model.fit(tmp_x, preproc_french_sentences, batch_size=1024, epochs=200, validation_split=0.2)"
      ],
      "execution_count": 26,
      "outputs": [
        {
          "output_type": "stream",
          "text": [
            "Model: \"sequential\"\n",
            "_________________________________________________________________\n",
            "Layer (type)                 Output Shape              Param #   \n",
            "=================================================================\n",
            "embedding (Embedding)        (None, 34, 100)           360900    \n",
            "_________________________________________________________________\n",
            "dense (Dense)                (None, 34, 32)            3232      \n",
            "_________________________________________________________________\n",
            "dense_1 (Dense)              (None, 34, 32)            1056      \n",
            "_________________________________________________________________\n",
            "dense_2 (Dense)              (None, 34, 32)            1056      \n",
            "_________________________________________________________________\n",
            "dense_3 (Dense)              (None, 34, 3692)          121836    \n",
            "=================================================================\n",
            "Total params: 488,080\n",
            "Trainable params: 488,080\n",
            "Non-trainable params: 0\n",
            "_________________________________________________________________\n",
            "Epoch 1/200\n",
            "2/2 [==============================] - 21s 3s/step - loss: 8.5747 - accuracy: 0.6960 - val_loss: 5.6969 - val_accuracy: 0.0023\n",
            "Epoch 2/200\n",
            "2/2 [==============================] - 5s 2s/step - loss: 4.9853 - accuracy: 0.1534 - val_loss: 2.7419 - val_accuracy: 0.8333\n",
            "Epoch 3/200\n",
            "2/2 [==============================] - 6s 2s/step - loss: 2.2932 - accuracy: 0.8493 - val_loss: 2.1989 - val_accuracy: 0.8334\n",
            "Epoch 4/200\n",
            "2/2 [==============================] - 6s 2s/step - loss: 1.8357 - accuracy: 0.8497 - val_loss: 2.1828 - val_accuracy: 0.8334\n",
            "Epoch 5/200\n",
            "2/2 [==============================] - 6s 2s/step - loss: 1.8614 - accuracy: 0.8480 - val_loss: 2.2065 - val_accuracy: 0.8334\n",
            "Epoch 6/200\n",
            "2/2 [==============================] - 6s 2s/step - loss: 1.8946 - accuracy: 0.8476 - val_loss: 2.2191 - val_accuracy: 0.8334\n",
            "Epoch 7/200\n",
            "2/2 [==============================] - 6s 2s/step - loss: 1.8873 - accuracy: 0.8476 - val_loss: 2.1818 - val_accuracy: 0.8334\n",
            "Epoch 8/200\n",
            "2/2 [==============================] - 5s 2s/step - loss: 1.8247 - accuracy: 0.8489 - val_loss: 2.1637 - val_accuracy: 0.8335\n",
            "Epoch 9/200\n",
            "2/2 [==============================] - 6s 2s/step - loss: 1.8037 - accuracy: 0.8490 - val_loss: 2.1590 - val_accuracy: 0.8335\n",
            "Epoch 10/200\n",
            "2/2 [==============================] - 5s 2s/step - loss: 1.7980 - accuracy: 0.8482 - val_loss: 2.1389 - val_accuracy: 0.8336\n",
            "Epoch 11/200\n",
            "2/2 [==============================] - 6s 2s/step - loss: 1.7699 - accuracy: 0.8492 - val_loss: 2.1027 - val_accuracy: 0.8346\n",
            "Epoch 12/200\n",
            "2/2 [==============================] - 6s 2s/step - loss: 1.7318 - accuracy: 0.8514 - val_loss: 2.0201 - val_accuracy: 0.8386\n",
            "Epoch 13/200\n",
            "2/2 [==============================] - 6s 2s/step - loss: 1.6411 - accuracy: 0.8573 - val_loss: 1.8668 - val_accuracy: 0.8398\n",
            "Epoch 14/200\n",
            "2/2 [==============================] - 6s 2s/step - loss: 1.5138 - accuracy: 0.8597 - val_loss: 1.7227 - val_accuracy: 0.8367\n",
            "Epoch 15/200\n",
            "2/2 [==============================] - 6s 2s/step - loss: 1.4256 - accuracy: 0.8576 - val_loss: 1.6217 - val_accuracy: 0.8329\n",
            "Epoch 16/200\n",
            "2/2 [==============================] - 6s 2s/step - loss: 1.3659 - accuracy: 0.8536 - val_loss: 1.5769 - val_accuracy: 0.8322\n",
            "Epoch 17/200\n",
            "2/2 [==============================] - 6s 2s/step - loss: 1.3637 - accuracy: 0.8518 - val_loss: 1.5233 - val_accuracy: 0.8313\n",
            "Epoch 18/200\n",
            "2/2 [==============================] - 6s 2s/step - loss: 1.3178 - accuracy: 0.8512 - val_loss: 1.5241 - val_accuracy: 0.8304\n",
            "Epoch 19/200\n",
            "2/2 [==============================] - 6s 2s/step - loss: 1.3219 - accuracy: 0.8494 - val_loss: 1.5286 - val_accuracy: 0.8303\n",
            "Epoch 20/200\n",
            "2/2 [==============================] - 6s 2s/step - loss: 1.3330 - accuracy: 0.8488 - val_loss: 1.5250 - val_accuracy: 0.8301\n",
            "Epoch 21/200\n",
            "2/2 [==============================] - 6s 2s/step - loss: 1.3182 - accuracy: 0.8493 - val_loss: 1.5184 - val_accuracy: 0.8299\n",
            "Epoch 22/200\n",
            "2/2 [==============================] - 6s 2s/step - loss: 1.3296 - accuracy: 0.8482 - val_loss: 1.5114 - val_accuracy: 0.8299\n",
            "Epoch 23/200\n",
            "2/2 [==============================] - 6s 2s/step - loss: 1.3330 - accuracy: 0.8477 - val_loss: 1.4977 - val_accuracy: 0.8297\n",
            "Epoch 24/200\n",
            "2/2 [==============================] - 6s 2s/step - loss: 1.3207 - accuracy: 0.8489 - val_loss: 1.4788 - val_accuracy: 0.8297\n",
            "Epoch 25/200\n",
            "2/2 [==============================] - 6s 2s/step - loss: 1.3363 - accuracy: 0.8469 - val_loss: 1.4796 - val_accuracy: 0.8297\n",
            "Epoch 26/200\n",
            "2/2 [==============================] - 5s 2s/step - loss: 1.3246 - accuracy: 0.8480 - val_loss: 1.4795 - val_accuracy: 0.8297\n",
            "Epoch 27/200\n",
            "2/2 [==============================] - 6s 2s/step - loss: 1.3301 - accuracy: 0.8474 - val_loss: 1.4804 - val_accuracy: 0.8297\n",
            "Epoch 28/200\n",
            "2/2 [==============================] - 6s 3s/step - loss: 1.3260 - accuracy: 0.8479 - val_loss: 1.4803 - val_accuracy: 0.8296\n",
            "Epoch 29/200\n",
            "2/2 [==============================] - 6s 2s/step - loss: 1.3402 - accuracy: 0.8462 - val_loss: 1.4811 - val_accuracy: 0.8296\n",
            "Epoch 30/200\n",
            "2/2 [==============================] - 6s 2s/step - loss: 1.3358 - accuracy: 0.8469 - val_loss: 1.4802 - val_accuracy: 0.8296\n",
            "Epoch 31/200\n",
            "2/2 [==============================] - 5s 2s/step - loss: 1.3333 - accuracy: 0.8470 - val_loss: 1.4795 - val_accuracy: 0.8296\n",
            "Epoch 32/200\n",
            "2/2 [==============================] - 6s 3s/step - loss: 1.3275 - accuracy: 0.8477 - val_loss: 1.4797 - val_accuracy: 0.8296\n",
            "Epoch 33/200\n",
            "2/2 [==============================] - 5s 2s/step - loss: 1.3330 - accuracy: 0.8469 - val_loss: 1.4793 - val_accuracy: 0.8296\n",
            "Epoch 34/200\n",
            "2/2 [==============================] - 6s 2s/step - loss: 1.3203 - accuracy: 0.8483 - val_loss: 1.4821 - val_accuracy: 0.8296\n",
            "Epoch 35/200\n",
            "2/2 [==============================] - 5s 2s/step - loss: 1.3221 - accuracy: 0.8481 - val_loss: 1.4890 - val_accuracy: 0.8296\n",
            "Epoch 36/200\n",
            "2/2 [==============================] - 6s 2s/step - loss: 1.3367 - accuracy: 0.8464 - val_loss: 1.4914 - val_accuracy: 0.8296\n",
            "Epoch 37/200\n",
            "2/2 [==============================] - 6s 2s/step - loss: 1.3428 - accuracy: 0.8458 - val_loss: 1.4930 - val_accuracy: 0.8295\n",
            "Epoch 38/200\n",
            "2/2 [==============================] - 6s 2s/step - loss: 1.3327 - accuracy: 0.8468 - val_loss: 1.4944 - val_accuracy: 0.8295\n",
            "Epoch 39/200\n",
            "2/2 [==============================] - 6s 2s/step - loss: 1.3307 - accuracy: 0.8470 - val_loss: 1.4944 - val_accuracy: 0.8295\n",
            "Epoch 40/200\n",
            "2/2 [==============================] - 6s 2s/step - loss: 1.3283 - accuracy: 0.8473 - val_loss: 1.4942 - val_accuracy: 0.8295\n",
            "Epoch 41/200\n",
            "2/2 [==============================] - 6s 2s/step - loss: 1.3311 - accuracy: 0.8470 - val_loss: 1.4938 - val_accuracy: 0.8294\n",
            "Epoch 42/200\n",
            "2/2 [==============================] - 6s 2s/step - loss: 1.3348 - accuracy: 0.8465 - val_loss: 1.4927 - val_accuracy: 0.8294\n",
            "Epoch 43/200\n",
            "2/2 [==============================] - 6s 2s/step - loss: 1.3431 - accuracy: 0.8456 - val_loss: 1.4896 - val_accuracy: 0.8294\n",
            "Epoch 44/200\n",
            "2/2 [==============================] - 6s 2s/step - loss: 1.3331 - accuracy: 0.8467 - val_loss: 1.4861 - val_accuracy: 0.8294\n",
            "Epoch 45/200\n",
            "2/2 [==============================] - 6s 2s/step - loss: 1.3359 - accuracy: 0.8463 - val_loss: 1.4829 - val_accuracy: 0.8294\n",
            "Epoch 46/200\n",
            "2/2 [==============================] - 6s 2s/step - loss: 1.3338 - accuracy: 0.8465 - val_loss: 1.4784 - val_accuracy: 0.8294\n",
            "Epoch 47/200\n",
            "2/2 [==============================] - 6s 2s/step - loss: 1.3363 - accuracy: 0.8464 - val_loss: 1.4797 - val_accuracy: 0.8294\n",
            "Epoch 48/200\n",
            "2/2 [==============================] - 6s 2s/step - loss: 1.3363 - accuracy: 0.8465 - val_loss: 1.4797 - val_accuracy: 0.8294\n",
            "Epoch 49/200\n",
            "2/2 [==============================] - 6s 2s/step - loss: 1.3310 - accuracy: 0.8470 - val_loss: 1.4798 - val_accuracy: 0.8294\n",
            "Epoch 50/200\n",
            "2/2 [==============================] - 6s 2s/step - loss: 1.3292 - accuracy: 0.8473 - val_loss: 1.4798 - val_accuracy: 0.8294\n",
            "Epoch 51/200\n",
            "2/2 [==============================] - 5s 2s/step - loss: 1.3321 - accuracy: 0.8468 - val_loss: 1.4799 - val_accuracy: 0.8294\n",
            "Epoch 52/200\n",
            "2/2 [==============================] - 6s 2s/step - loss: 1.3317 - accuracy: 0.8469 - val_loss: 1.4799 - val_accuracy: 0.8294\n",
            "Epoch 53/200\n",
            "2/2 [==============================] - 6s 2s/step - loss: 1.3415 - accuracy: 0.8458 - val_loss: 1.4799 - val_accuracy: 0.8294\n",
            "Epoch 54/200\n",
            "2/2 [==============================] - 6s 2s/step - loss: 1.3396 - accuracy: 0.8460 - val_loss: 1.4799 - val_accuracy: 0.8294\n",
            "Epoch 55/200\n",
            "2/2 [==============================] - 6s 2s/step - loss: 1.3348 - accuracy: 0.8465 - val_loss: 1.4799 - val_accuracy: 0.8294\n",
            "Epoch 56/200\n",
            "2/2 [==============================] - 6s 2s/step - loss: 1.3388 - accuracy: 0.8462 - val_loss: 1.4776 - val_accuracy: 0.8294\n",
            "Epoch 57/200\n",
            "2/2 [==============================] - 6s 2s/step - loss: 1.3323 - accuracy: 0.8469 - val_loss: 1.4789 - val_accuracy: 0.8294\n",
            "Epoch 58/200\n",
            "2/2 [==============================] - 6s 2s/step - loss: 1.3357 - accuracy: 0.8464 - val_loss: 1.4801 - val_accuracy: 0.8294\n",
            "Epoch 59/200\n",
            "2/2 [==============================] - 6s 2s/step - loss: 1.3310 - accuracy: 0.8470 - val_loss: 1.4812 - val_accuracy: 0.8294\n",
            "Epoch 60/200\n",
            "2/2 [==============================] - 6s 2s/step - loss: 1.3283 - accuracy: 0.8474 - val_loss: 1.4815 - val_accuracy: 0.8294\n",
            "Epoch 61/200\n",
            "2/2 [==============================] - 6s 2s/step - loss: 1.3335 - accuracy: 0.8467 - val_loss: 1.4814 - val_accuracy: 0.8294\n",
            "Epoch 62/200\n",
            "2/2 [==============================] - 6s 2s/step - loss: 1.3312 - accuracy: 0.8470 - val_loss: 1.4807 - val_accuracy: 0.8294\n",
            "Epoch 63/200\n",
            "2/2 [==============================] - 6s 2s/step - loss: 1.3270 - accuracy: 0.8475 - val_loss: 1.4786 - val_accuracy: 0.8294\n",
            "Epoch 64/200\n",
            "2/2 [==============================] - 5s 2s/step - loss: 1.3318 - accuracy: 0.8469 - val_loss: 1.4800 - val_accuracy: 0.8294\n",
            "Epoch 65/200\n",
            "2/2 [==============================] - 6s 2s/step - loss: 1.3285 - accuracy: 0.8472 - val_loss: 1.4800 - val_accuracy: 0.8294\n",
            "Epoch 66/200\n",
            "2/2 [==============================] - 5s 2s/step - loss: 1.3355 - accuracy: 0.8465 - val_loss: 1.4802 - val_accuracy: 0.8294\n",
            "Epoch 67/200\n",
            "2/2 [==============================] - 6s 2s/step - loss: 1.3323 - accuracy: 0.8468 - val_loss: 1.4800 - val_accuracy: 0.8294\n",
            "Epoch 68/200\n",
            "2/2 [==============================] - 5s 2s/step - loss: 1.3271 - accuracy: 0.8474 - val_loss: 1.4791 - val_accuracy: 0.8294\n",
            "Epoch 69/200\n",
            "2/2 [==============================] - 6s 2s/step - loss: 1.3340 - accuracy: 0.8467 - val_loss: 1.4791 - val_accuracy: 0.8294\n",
            "Epoch 70/200\n",
            "2/2 [==============================] - 6s 2s/step - loss: 1.3408 - accuracy: 0.8459 - val_loss: 1.4791 - val_accuracy: 0.8294\n",
            "Epoch 71/200\n",
            "2/2 [==============================] - 5s 2s/step - loss: 1.3363 - accuracy: 0.8464 - val_loss: 1.4792 - val_accuracy: 0.8294\n",
            "Epoch 72/200\n",
            "2/2 [==============================] - 5s 2s/step - loss: 1.3288 - accuracy: 0.8473 - val_loss: 1.4792 - val_accuracy: 0.8294\n",
            "Epoch 73/200\n",
            "2/2 [==============================] - 6s 2s/step - loss: 1.3361 - accuracy: 0.8464 - val_loss: 1.4792 - val_accuracy: 0.8294\n",
            "Epoch 74/200\n",
            "2/2 [==============================] - 6s 2s/step - loss: 1.3350 - accuracy: 0.8467 - val_loss: 1.4792 - val_accuracy: 0.8294\n",
            "Epoch 75/200\n",
            "2/2 [==============================] - 6s 2s/step - loss: 1.3236 - accuracy: 0.8479 - val_loss: 1.4793 - val_accuracy: 0.8294\n",
            "Epoch 76/200\n",
            "2/2 [==============================] - 6s 2s/step - loss: 1.3225 - accuracy: 0.8480 - val_loss: 1.4793 - val_accuracy: 0.8294\n",
            "Epoch 77/200\n",
            "2/2 [==============================] - 6s 2s/step - loss: 1.3373 - accuracy: 0.8463 - val_loss: 1.4793 - val_accuracy: 0.8294\n",
            "Epoch 78/200\n",
            "2/2 [==============================] - 6s 2s/step - loss: 1.3318 - accuracy: 0.8471 - val_loss: 1.4793 - val_accuracy: 0.8294\n",
            "Epoch 79/200\n",
            "2/2 [==============================] - 6s 3s/step - loss: 1.3362 - accuracy: 0.8464 - val_loss: 1.4793 - val_accuracy: 0.8294\n",
            "Epoch 80/200\n",
            "2/2 [==============================] - 6s 2s/step - loss: 1.3360 - accuracy: 0.8464 - val_loss: 1.4793 - val_accuracy: 0.8294\n",
            "Epoch 81/200\n",
            "2/2 [==============================] - 6s 2s/step - loss: 1.3335 - accuracy: 0.8468 - val_loss: 1.4776 - val_accuracy: 0.8294\n",
            "Epoch 82/200\n",
            "2/2 [==============================] - 6s 2s/step - loss: 1.3344 - accuracy: 0.8466 - val_loss: 1.4797 - val_accuracy: 0.8294\n",
            "Epoch 83/200\n",
            "2/2 [==============================] - 6s 2s/step - loss: 1.3400 - accuracy: 0.8460 - val_loss: 1.4813 - val_accuracy: 0.8294\n",
            "Epoch 84/200\n",
            "2/2 [==============================] - 6s 2s/step - loss: 1.3283 - accuracy: 0.8472 - val_loss: 1.4823 - val_accuracy: 0.8294\n",
            "Epoch 85/200\n",
            "2/2 [==============================] - 6s 2s/step - loss: 1.3359 - accuracy: 0.8464 - val_loss: 1.4818 - val_accuracy: 0.8294\n",
            "Epoch 86/200\n",
            "2/2 [==============================] - 5s 2s/step - loss: 1.3354 - accuracy: 0.8466 - val_loss: 1.4813 - val_accuracy: 0.8294\n",
            "Epoch 87/200\n",
            "2/2 [==============================] - 6s 2s/step - loss: 1.3349 - accuracy: 0.8466 - val_loss: 1.4814 - val_accuracy: 0.8294\n",
            "Epoch 88/200\n",
            "2/2 [==============================] - 6s 2s/step - loss: 1.3316 - accuracy: 0.8469 - val_loss: 1.4817 - val_accuracy: 0.8294\n",
            "Epoch 89/200\n",
            "2/2 [==============================] - 6s 2s/step - loss: 1.3398 - accuracy: 0.8459 - val_loss: 1.4816 - val_accuracy: 0.8294\n",
            "Epoch 90/200\n",
            "2/2 [==============================] - 6s 2s/step - loss: 1.3322 - accuracy: 0.8468 - val_loss: 1.4815 - val_accuracy: 0.8294\n",
            "Epoch 91/200\n",
            "2/2 [==============================] - 6s 2s/step - loss: 1.3371 - accuracy: 0.8463 - val_loss: 1.4816 - val_accuracy: 0.8294\n",
            "Epoch 92/200\n",
            "2/2 [==============================] - 6s 2s/step - loss: 1.3313 - accuracy: 0.8470 - val_loss: 1.4815 - val_accuracy: 0.8294\n",
            "Epoch 93/200\n",
            "2/2 [==============================] - 6s 2s/step - loss: 1.3386 - accuracy: 0.8461 - val_loss: 1.4812 - val_accuracy: 0.8294\n",
            "Epoch 94/200\n",
            "2/2 [==============================] - 6s 2s/step - loss: 1.3416 - accuracy: 0.8459 - val_loss: 1.4817 - val_accuracy: 0.8294\n",
            "Epoch 95/200\n",
            "2/2 [==============================] - 5s 2s/step - loss: 1.3385 - accuracy: 0.8461 - val_loss: 1.4827 - val_accuracy: 0.8294\n",
            "Epoch 96/200\n",
            "2/2 [==============================] - 5s 2s/step - loss: 1.3341 - accuracy: 0.8466 - val_loss: 1.4830 - val_accuracy: 0.8294\n",
            "Epoch 97/200\n",
            "2/2 [==============================] - 6s 2s/step - loss: 1.3421 - accuracy: 0.8456 - val_loss: 1.4826 - val_accuracy: 0.8294\n",
            "Epoch 98/200\n",
            "2/2 [==============================] - 6s 2s/step - loss: 1.3277 - accuracy: 0.8473 - val_loss: 1.4818 - val_accuracy: 0.8294\n",
            "Epoch 99/200\n",
            "2/2 [==============================] - 6s 2s/step - loss: 1.3352 - accuracy: 0.8465 - val_loss: 1.4800 - val_accuracy: 0.8294\n",
            "Epoch 100/200\n",
            "2/2 [==============================] - 6s 2s/step - loss: 1.3248 - accuracy: 0.8476 - val_loss: 1.4778 - val_accuracy: 0.8294\n",
            "Epoch 101/200\n",
            "2/2 [==============================] - 6s 2s/step - loss: 1.3402 - accuracy: 0.8459 - val_loss: 1.4799 - val_accuracy: 0.8294\n",
            "Epoch 102/200\n",
            "2/2 [==============================] - 5s 2s/step - loss: 1.3404 - accuracy: 0.8459 - val_loss: 1.4799 - val_accuracy: 0.8294\n",
            "Epoch 103/200\n",
            "2/2 [==============================] - 6s 2s/step - loss: 1.3357 - accuracy: 0.8463 - val_loss: 1.4799 - val_accuracy: 0.8294\n",
            "Epoch 104/200\n",
            "2/2 [==============================] - 5s 2s/step - loss: 1.3296 - accuracy: 0.8472 - val_loss: 1.4800 - val_accuracy: 0.8294\n",
            "Epoch 105/200\n",
            "2/2 [==============================] - 6s 2s/step - loss: 1.3354 - accuracy: 0.8465 - val_loss: 1.4800 - val_accuracy: 0.8294\n",
            "Epoch 106/200\n",
            "2/2 [==============================] - 6s 2s/step - loss: 1.3397 - accuracy: 0.8460 - val_loss: 1.4800 - val_accuracy: 0.8294\n",
            "Epoch 107/200\n",
            "2/2 [==============================] - 6s 2s/step - loss: 1.3475 - accuracy: 0.8451 - val_loss: 1.4800 - val_accuracy: 0.8294\n",
            "Epoch 108/200\n",
            "2/2 [==============================] - 6s 2s/step - loss: 1.3450 - accuracy: 0.8454 - val_loss: 1.4784 - val_accuracy: 0.8294\n",
            "Epoch 109/200\n",
            "2/2 [==============================] - 6s 2s/step - loss: 1.3336 - accuracy: 0.8466 - val_loss: 1.4804 - val_accuracy: 0.8294\n",
            "Epoch 110/200\n",
            "2/2 [==============================] - 5s 2s/step - loss: 1.3384 - accuracy: 0.8461 - val_loss: 1.4798 - val_accuracy: 0.8294\n",
            "Epoch 111/200\n",
            "2/2 [==============================] - 6s 2s/step - loss: 1.3328 - accuracy: 0.8468 - val_loss: 1.4777 - val_accuracy: 0.8294\n",
            "Epoch 112/200\n",
            "2/2 [==============================] - 6s 2s/step - loss: 1.3390 - accuracy: 0.8461 - val_loss: 1.4801 - val_accuracy: 0.8294\n",
            "Epoch 113/200\n",
            "2/2 [==============================] - 5s 2s/step - loss: 1.3380 - accuracy: 0.8462 - val_loss: 1.4801 - val_accuracy: 0.8294\n",
            "Epoch 114/200\n",
            "2/2 [==============================] - 6s 2s/step - loss: 1.3384 - accuracy: 0.8462 - val_loss: 1.4801 - val_accuracy: 0.8294\n",
            "Epoch 115/200\n",
            "2/2 [==============================] - 6s 2s/step - loss: 1.3403 - accuracy: 0.8458 - val_loss: 1.4778 - val_accuracy: 0.8294\n",
            "Epoch 116/200\n",
            "2/2 [==============================] - 5s 2s/step - loss: 1.3281 - accuracy: 0.8474 - val_loss: 1.4780 - val_accuracy: 0.8294\n",
            "Epoch 117/200\n",
            "2/2 [==============================] - 6s 2s/step - loss: 1.3405 - accuracy: 0.8458 - val_loss: 1.4798 - val_accuracy: 0.8294\n",
            "Epoch 118/200\n",
            "2/2 [==============================] - 6s 2s/step - loss: 1.3334 - accuracy: 0.8467 - val_loss: 1.4796 - val_accuracy: 0.8294\n",
            "Epoch 119/200\n",
            "2/2 [==============================] - 6s 2s/step - loss: 1.3365 - accuracy: 0.8463 - val_loss: 1.4796 - val_accuracy: 0.8294\n",
            "Epoch 120/200\n",
            "2/2 [==============================] - 6s 2s/step - loss: 1.3389 - accuracy: 0.8460 - val_loss: 1.4796 - val_accuracy: 0.8294\n",
            "Epoch 121/200\n",
            "2/2 [==============================] - 6s 2s/step - loss: 1.3349 - accuracy: 0.8465 - val_loss: 1.4797 - val_accuracy: 0.8294\n",
            "Epoch 122/200\n",
            "2/2 [==============================] - 6s 2s/step - loss: 1.3360 - accuracy: 0.8464 - val_loss: 1.4789 - val_accuracy: 0.8294\n",
            "Epoch 123/200\n",
            "2/2 [==============================] - 6s 2s/step - loss: 1.3437 - accuracy: 0.8455 - val_loss: 1.4789 - val_accuracy: 0.8294\n",
            "Epoch 124/200\n",
            "2/2 [==============================] - 6s 2s/step - loss: 1.3406 - accuracy: 0.8459 - val_loss: 1.4788 - val_accuracy: 0.8294\n",
            "Epoch 125/200\n",
            "2/2 [==============================] - 6s 2s/step - loss: 1.3376 - accuracy: 0.8463 - val_loss: 1.4788 - val_accuracy: 0.8294\n",
            "Epoch 126/200\n",
            "2/2 [==============================] - 6s 2s/step - loss: 1.3374 - accuracy: 0.8461 - val_loss: 1.4788 - val_accuracy: 0.8294\n",
            "Epoch 127/200\n",
            "2/2 [==============================] - 6s 2s/step - loss: 1.3399 - accuracy: 0.8460 - val_loss: 1.4788 - val_accuracy: 0.8294\n",
            "Epoch 128/200\n",
            "2/2 [==============================] - 6s 2s/step - loss: 1.3309 - accuracy: 0.8470 - val_loss: 1.4787 - val_accuracy: 0.8294\n",
            "Epoch 129/200\n",
            "2/2 [==============================] - 6s 2s/step - loss: 1.3430 - accuracy: 0.8457 - val_loss: 1.4788 - val_accuracy: 0.8294\n",
            "Epoch 130/200\n",
            "2/2 [==============================] - 6s 2s/step - loss: 1.3410 - accuracy: 0.8459 - val_loss: 1.4780 - val_accuracy: 0.8294\n",
            "Epoch 131/200\n",
            "2/2 [==============================] - 6s 2s/step - loss: 1.3395 - accuracy: 0.8459 - val_loss: 1.4830 - val_accuracy: 0.8294\n",
            "Epoch 132/200\n",
            "2/2 [==============================] - 6s 2s/step - loss: 1.3315 - accuracy: 0.8469 - val_loss: 1.4838 - val_accuracy: 0.8294\n",
            "Epoch 133/200\n",
            "2/2 [==============================] - 6s 2s/step - loss: 1.3317 - accuracy: 0.8468 - val_loss: 1.4810 - val_accuracy: 0.8294\n",
            "Epoch 134/200\n",
            "2/2 [==============================] - 6s 2s/step - loss: 1.3366 - accuracy: 0.8463 - val_loss: 1.4788 - val_accuracy: 0.8294\n",
            "Epoch 135/200\n",
            "2/2 [==============================] - 6s 2s/step - loss: 1.3434 - accuracy: 0.8455 - val_loss: 1.4788 - val_accuracy: 0.8294\n",
            "Epoch 136/200\n",
            "2/2 [==============================] - 6s 2s/step - loss: 1.3366 - accuracy: 0.8463 - val_loss: 1.4788 - val_accuracy: 0.8294\n",
            "Epoch 137/200\n",
            "2/2 [==============================] - 5s 2s/step - loss: 1.3354 - accuracy: 0.8464 - val_loss: 1.4788 - val_accuracy: 0.8294\n",
            "Epoch 138/200\n",
            "2/2 [==============================] - 6s 2s/step - loss: 1.3276 - accuracy: 0.8474 - val_loss: 1.4788 - val_accuracy: 0.8294\n",
            "Epoch 139/200\n",
            "2/2 [==============================] - 6s 2s/step - loss: 1.3431 - accuracy: 0.8455 - val_loss: 1.4788 - val_accuracy: 0.8294\n",
            "Epoch 140/200\n",
            "2/2 [==============================] - 6s 2s/step - loss: 1.3347 - accuracy: 0.8464 - val_loss: 1.4788 - val_accuracy: 0.8294\n",
            "Epoch 141/200\n",
            "2/2 [==============================] - 5s 2s/step - loss: 1.3397 - accuracy: 0.8459 - val_loss: 1.4788 - val_accuracy: 0.8294\n",
            "Epoch 142/200\n",
            "2/2 [==============================] - 6s 2s/step - loss: 1.3433 - accuracy: 0.8455 - val_loss: 1.4788 - val_accuracy: 0.8294\n",
            "Epoch 143/200\n",
            "2/2 [==============================] - 6s 2s/step - loss: 1.3311 - accuracy: 0.8470 - val_loss: 1.4788 - val_accuracy: 0.8294\n",
            "Epoch 144/200\n",
            "2/2 [==============================] - 6s 2s/step - loss: 1.3305 - accuracy: 0.8469 - val_loss: 1.4788 - val_accuracy: 0.8294\n",
            "Epoch 145/200\n",
            "2/2 [==============================] - 6s 2s/step - loss: 1.3322 - accuracy: 0.8467 - val_loss: 1.4788 - val_accuracy: 0.8294\n",
            "Epoch 146/200\n",
            "2/2 [==============================] - 6s 2s/step - loss: 1.3436 - accuracy: 0.8455 - val_loss: 1.4788 - val_accuracy: 0.8294\n",
            "Epoch 147/200\n",
            "2/2 [==============================] - 6s 3s/step - loss: 1.3264 - accuracy: 0.8475 - val_loss: 1.4789 - val_accuracy: 0.8294\n",
            "Epoch 148/200\n",
            "2/2 [==============================] - 6s 2s/step - loss: 1.3374 - accuracy: 0.8462 - val_loss: 1.4788 - val_accuracy: 0.8294\n",
            "Epoch 149/200\n",
            "2/2 [==============================] - 6s 2s/step - loss: 1.3330 - accuracy: 0.8468 - val_loss: 1.4789 - val_accuracy: 0.8294\n",
            "Epoch 150/200\n",
            "2/2 [==============================] - 5s 2s/step - loss: 1.3405 - accuracy: 0.8459 - val_loss: 1.4788 - val_accuracy: 0.8294\n",
            "Epoch 151/200\n",
            "2/2 [==============================] - 6s 2s/step - loss: 1.3451 - accuracy: 0.8454 - val_loss: 1.4788 - val_accuracy: 0.8294\n",
            "Epoch 152/200\n",
            "2/2 [==============================] - 6s 2s/step - loss: 1.3367 - accuracy: 0.8463 - val_loss: 1.4808 - val_accuracy: 0.8294\n",
            "Epoch 153/200\n",
            "2/2 [==============================] - 5s 2s/step - loss: 1.3287 - accuracy: 0.8472 - val_loss: 1.4837 - val_accuracy: 0.8294\n",
            "Epoch 154/200\n",
            "2/2 [==============================] - 6s 2s/step - loss: 1.3354 - accuracy: 0.8464 - val_loss: 1.4833 - val_accuracy: 0.8294\n",
            "Epoch 155/200\n",
            "2/2 [==============================] - 6s 2s/step - loss: 1.3497 - accuracy: 0.8448 - val_loss: 1.4810 - val_accuracy: 0.8294\n",
            "Epoch 156/200\n",
            "2/2 [==============================] - 6s 2s/step - loss: 1.3305 - accuracy: 0.8470 - val_loss: 1.4788 - val_accuracy: 0.8294\n",
            "Epoch 157/200\n",
            "2/2 [==============================] - 6s 2s/step - loss: 1.3312 - accuracy: 0.8469 - val_loss: 1.4788 - val_accuracy: 0.8294\n",
            "Epoch 158/200\n",
            "2/2 [==============================] - 6s 2s/step - loss: 1.3354 - accuracy: 0.8464 - val_loss: 1.4788 - val_accuracy: 0.8294\n",
            "Epoch 159/200\n",
            "2/2 [==============================] - 6s 2s/step - loss: 1.3397 - accuracy: 0.8459 - val_loss: 1.4788 - val_accuracy: 0.8294\n",
            "Epoch 160/200\n",
            "2/2 [==============================] - 6s 2s/step - loss: 1.3410 - accuracy: 0.8458 - val_loss: 1.4788 - val_accuracy: 0.8294\n",
            "Epoch 161/200\n",
            "2/2 [==============================] - 6s 2s/step - loss: 1.3310 - accuracy: 0.8469 - val_loss: 1.4787 - val_accuracy: 0.8294\n",
            "Epoch 162/200\n",
            "2/2 [==============================] - 6s 2s/step - loss: 1.3387 - accuracy: 0.8461 - val_loss: 1.4786 - val_accuracy: 0.8294\n",
            "Epoch 163/200\n",
            "2/2 [==============================] - 6s 2s/step - loss: 1.3355 - accuracy: 0.8464 - val_loss: 1.4784 - val_accuracy: 0.8294\n",
            "Epoch 164/200\n",
            "2/2 [==============================] - 6s 2s/step - loss: 1.3453 - accuracy: 0.8453 - val_loss: 1.4783 - val_accuracy: 0.8294\n",
            "Epoch 165/200\n",
            "2/2 [==============================] - 6s 2s/step - loss: 1.3329 - accuracy: 0.8466 - val_loss: 1.4783 - val_accuracy: 0.8294\n",
            "Epoch 166/200\n",
            "2/2 [==============================] - 6s 2s/step - loss: 1.3314 - accuracy: 0.8469 - val_loss: 1.4783 - val_accuracy: 0.8294\n",
            "Epoch 167/200\n",
            "2/2 [==============================] - 6s 2s/step - loss: 1.3353 - accuracy: 0.8465 - val_loss: 1.4783 - val_accuracy: 0.8294\n",
            "Epoch 168/200\n",
            "2/2 [==============================] - 6s 2s/step - loss: 1.3417 - accuracy: 0.8458 - val_loss: 1.4784 - val_accuracy: 0.8294\n",
            "Epoch 169/200\n",
            "2/2 [==============================] - 6s 2s/step - loss: 1.3383 - accuracy: 0.8461 - val_loss: 1.4784 - val_accuracy: 0.8294\n",
            "Epoch 170/200\n",
            "2/2 [==============================] - 6s 2s/step - loss: 1.3391 - accuracy: 0.8459 - val_loss: 1.4783 - val_accuracy: 0.8294\n",
            "Epoch 171/200\n",
            "2/2 [==============================] - 6s 2s/step - loss: 1.3310 - accuracy: 0.8469 - val_loss: 1.4784 - val_accuracy: 0.8294\n",
            "Epoch 172/200\n",
            "2/2 [==============================] - 6s 2s/step - loss: 1.3386 - accuracy: 0.8460 - val_loss: 1.4784 - val_accuracy: 0.8294\n",
            "Epoch 173/200\n",
            "2/2 [==============================] - 6s 2s/step - loss: 1.3371 - accuracy: 0.8463 - val_loss: 1.4784 - val_accuracy: 0.8294\n",
            "Epoch 174/200\n",
            "2/2 [==============================] - 6s 2s/step - loss: 1.3369 - accuracy: 0.8463 - val_loss: 1.4784 - val_accuracy: 0.8294\n",
            "Epoch 175/200\n",
            "2/2 [==============================] - 6s 2s/step - loss: 1.3298 - accuracy: 0.8471 - val_loss: 1.4784 - val_accuracy: 0.8294\n",
            "Epoch 176/200\n",
            "2/2 [==============================] - 6s 2s/step - loss: 1.3362 - accuracy: 0.8464 - val_loss: 1.4784 - val_accuracy: 0.8294\n",
            "Epoch 177/200\n",
            "2/2 [==============================] - 6s 2s/step - loss: 1.3342 - accuracy: 0.8467 - val_loss: 1.4784 - val_accuracy: 0.8294\n",
            "Epoch 178/200\n",
            "2/2 [==============================] - 6s 2s/step - loss: 1.3394 - accuracy: 0.8460 - val_loss: 1.4784 - val_accuracy: 0.8294\n",
            "Epoch 179/200\n",
            "2/2 [==============================] - 6s 2s/step - loss: 1.3433 - accuracy: 0.8456 - val_loss: 1.4784 - val_accuracy: 0.8294\n",
            "Epoch 180/200\n",
            "2/2 [==============================] - 6s 2s/step - loss: 1.3357 - accuracy: 0.8464 - val_loss: 1.4785 - val_accuracy: 0.8294\n",
            "Epoch 181/200\n",
            "2/2 [==============================] - 6s 2s/step - loss: 1.3329 - accuracy: 0.8468 - val_loss: 1.4785 - val_accuracy: 0.8294\n",
            "Epoch 182/200\n",
            "2/2 [==============================] - 6s 2s/step - loss: 1.3309 - accuracy: 0.8470 - val_loss: 1.4785 - val_accuracy: 0.8294\n",
            "Epoch 183/200\n",
            "2/2 [==============================] - 6s 2s/step - loss: 1.3352 - accuracy: 0.8465 - val_loss: 1.4785 - val_accuracy: 0.8294\n",
            "Epoch 184/200\n",
            "2/2 [==============================] - 5s 2s/step - loss: 1.3307 - accuracy: 0.8469 - val_loss: 1.4785 - val_accuracy: 0.8294\n",
            "Epoch 185/200\n",
            "2/2 [==============================] - 6s 2s/step - loss: 1.3316 - accuracy: 0.8468 - val_loss: 1.4786 - val_accuracy: 0.8294\n",
            "Epoch 186/200\n",
            "2/2 [==============================] - 6s 2s/step - loss: 1.3365 - accuracy: 0.8464 - val_loss: 1.4786 - val_accuracy: 0.8294\n",
            "Epoch 187/200\n",
            "2/2 [==============================] - 6s 2s/step - loss: 1.3345 - accuracy: 0.8467 - val_loss: 1.4786 - val_accuracy: 0.8294\n",
            "Epoch 188/200\n",
            "2/2 [==============================] - 6s 2s/step - loss: 1.3393 - accuracy: 0.8459 - val_loss: 1.4786 - val_accuracy: 0.8294\n",
            "Epoch 189/200\n",
            "2/2 [==============================] - 6s 2s/step - loss: 1.3303 - accuracy: 0.8471 - val_loss: 1.4786 - val_accuracy: 0.8294\n",
            "Epoch 190/200\n",
            "2/2 [==============================] - 6s 2s/step - loss: 1.3340 - accuracy: 0.8466 - val_loss: 1.4786 - val_accuracy: 0.8294\n",
            "Epoch 191/200\n",
            "2/2 [==============================] - 6s 2s/step - loss: 1.3257 - accuracy: 0.8476 - val_loss: 1.4786 - val_accuracy: 0.8294\n",
            "Epoch 192/200\n",
            "2/2 [==============================] - 6s 2s/step - loss: 1.3368 - accuracy: 0.8463 - val_loss: 1.4786 - val_accuracy: 0.8294\n",
            "Epoch 193/200\n",
            "2/2 [==============================] - 6s 2s/step - loss: 1.3442 - accuracy: 0.8455 - val_loss: 1.4786 - val_accuracy: 0.8294\n",
            "Epoch 194/200\n",
            "2/2 [==============================] - 6s 2s/step - loss: 1.3356 - accuracy: 0.8464 - val_loss: 1.4786 - val_accuracy: 0.8294\n",
            "Epoch 195/200\n",
            "2/2 [==============================] - 6s 2s/step - loss: 1.3441 - accuracy: 0.8455 - val_loss: 1.4786 - val_accuracy: 0.8294\n",
            "Epoch 196/200\n",
            "2/2 [==============================] - 6s 2s/step - loss: 1.3384 - accuracy: 0.8461 - val_loss: 1.4786 - val_accuracy: 0.8294\n",
            "Epoch 197/200\n",
            "2/2 [==============================] - 6s 2s/step - loss: 1.3274 - accuracy: 0.8474 - val_loss: 1.4786 - val_accuracy: 0.8294\n",
            "Epoch 198/200\n",
            "2/2 [==============================] - 6s 2s/step - loss: 1.3365 - accuracy: 0.8463 - val_loss: 1.4786 - val_accuracy: 0.8294\n",
            "Epoch 199/200\n",
            "2/2 [==============================] - 6s 2s/step - loss: 1.3361 - accuracy: 0.8463 - val_loss: 1.4786 - val_accuracy: 0.8294\n",
            "Epoch 200/200\n",
            "2/2 [==============================] - 6s 2s/step - loss: 1.3365 - accuracy: 0.8463 - val_loss: 1.4786 - val_accuracy: 0.8294\n"
          ],
          "name": "stdout"
        }
      ]
    },
    {
      "cell_type": "code",
      "metadata": {
        "colab": {
          "base_uri": "https://localhost:8080/"
        },
        "id": "Vz9MWafhZ8pE",
        "outputId": "686362c8-294f-4c07-b501-e48e3f294725"
      },
      "source": [
        "scores =  DNN_Model.evaluate(tmp_x, preproc_french_sentences, verbose=0)\n",
        "# Displays the accuracy of correct sentiment prediction over test data\n",
        "print(\"Accuracy: %.2f%%\" % (scores[1]*100))"
      ],
      "execution_count": 27,
      "outputs": [
        {
          "output_type": "stream",
          "text": [
            "Accuracy: 84.29%\n"
          ],
          "name": "stdout"
        }
      ]
    },
    {
      "cell_type": "code",
      "metadata": {
        "colab": {
          "base_uri": "https://localhost:8080/",
          "height": 545
        },
        "id": "_lrSLLX83I20",
        "outputId": "b3dc82c6-333b-4d32-b18c-a9d0304a158d"
      },
      "source": [
        "import matplotlib.pyplot as plt\n",
        "\n",
        "acc = history.history['accuracy']\n",
        "val_acc = history.history['val_accuracy']\n",
        "loss = history.history['loss']\n",
        "val_loss = history.history['val_loss']\n",
        "\n",
        "epochs = range(len(acc))\n",
        "\n",
        "plt.plot(epochs, acc, 'bo', label='Training acc')\n",
        "plt.plot(epochs, val_acc, 'b', label='Validation acc')\n",
        "plt.title('Training and validation accuracy')\n",
        "plt.legend()\n",
        "\n",
        "plt.figure()\n",
        "\n",
        "plt.plot(epochs, loss, 'bo', label='Training loss')\n",
        "plt.plot(epochs, val_loss, 'b', label='Validation loss')\n",
        "plt.title('Training and validation loss')\n",
        "plt.legend()\n",
        "\n",
        "plt.show()"
      ],
      "execution_count": 28,
      "outputs": [
        {
          "output_type": "display_data",
          "data": {
            "image/png": "[encoded data removed]",
            "text/plain": [
              "<Figure size 432x288 with 1 Axes>"
            ]
          },
          "metadata": {
            "tags": [],
            "needs_background": "light"
          }
        },
        {
          "output_type": "display_data",
          "data": {
            "image/png": "[encoded data removed]",
            "text/plain": [
              "<Figure size 432x288 with 1 Axes>"
            ]
          },
          "metadata": {
            "tags": [],
            "needs_background": "light"
          }
        }
      ]
    },
    {
      "cell_type": "code",
      "metadata": {
        "id": "4_44LGpK-xx4"
      },
      "source": [
        "def final_predictions(text):\n",
        "  y_id_to_word = {value: key for key, value in french_tokenizer.word_index.items()}\n",
        "  y_id_to_word[0] = '<PAD>'\n",
        "\n",
        "  sentence = [english_tokenizer.word_index[word] for word in text.split()]\n",
        "  sentence = pad_sequences([sentence], maxlen=preproc_french_sentences.shape[-2], padding='post')\n",
        "  \n",
        "  print(sentence.shape)\n",
        "  print(logits_to_text(simple_rnn_model.predict(sentence[:1])[0], french_tokenizer))"
      ],
      "execution_count": null,
      "outputs": []
    },
    {
      "cell_type": "code",
      "metadata": {
        "id": "Lm-DAR9H-4xD",
        "colab": {
          "base_uri": "https://localhost:8080/",
          "height": 163
        },
        "outputId": "e59e5f98-06d7-4b9b-a28b-2ba44725328e"
      },
      "source": [
        "DNN_Model.save('model')"
      ],
      "execution_count": null,
      "outputs": [
        {
          "output_type": "error",
          "ename": "NameError",
          "evalue": "ignored",
          "traceback": [
            "\u001b[0;31m---------------------------------------------------------------------------\u001b[0m",
            "\u001b[0;31mNameError\u001b[0m                                 Traceback (most recent call last)",
            "\u001b[0;32m<ipython-input-30-5cdcfae8caba>\u001b[0m in \u001b[0;36m<module>\u001b[0;34m()\u001b[0m\n\u001b[0;32m----> 1\u001b[0;31m \u001b[0msimple_rnn_model\u001b[0m\u001b[0;34m.\u001b[0m\u001b[0msave\u001b[0m\u001b[0;34m(\u001b[0m\u001b[0;34m'model'\u001b[0m\u001b[0;34m)\u001b[0m\u001b[0;34m\u001b[0m\u001b[0;34m\u001b[0m\u001b[0m\n\u001b[0m",
            "\u001b[0;31mNameError\u001b[0m: name 'simple_rnn_model' is not defined"
          ]
        }
      ]
    },
    {
      "cell_type": "code",
      "metadata": {
        "id": "onnTqdkf-_ry"
      },
      "source": [
        "! mkdir \"pickles\""
      ],
      "execution_count": null,
      "outputs": []
    },
    {
      "cell_type": "code",
      "metadata": {
        "id": "nhDpg-NB_AXV"
      },
      "source": [
        "with open('pickles/french_tokenizer.pickle', 'wb') as handle:\n",
        "    pickle.dump(french_tokenizer, handle, protocol=pickle.HIGHEST_PROTOCOL)\n",
        "\n",
        "with open('pickles/english_tokenizer.pickle', 'wb') as handle:\n",
        "    pickle.dump(english_tokenizer, handle, protocol=pickle.HIGHEST_PROTOCOL)\n",
        "\n",
        "with open('pickles/preproc_french_sentences.pickle', 'wb') as handle:\n",
        "    pickle.dump(preproc_french_sentences, handle, protocol=pickle.HIGHEST_PROTOCOL) "
      ],
      "execution_count": null,
      "outputs": []
    }
  ]
}